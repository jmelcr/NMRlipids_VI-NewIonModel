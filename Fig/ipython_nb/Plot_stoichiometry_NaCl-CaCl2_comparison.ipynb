{
 "cells": [
  {
   "cell_type": "code",
   "execution_count": 26,
   "metadata": {
    "collapsed": false
   },
   "outputs": [
    {
     "name": "stdout",
     "output_type": "stream",
     "text": [
      "Populating the interactive namespace from numpy and matplotlib\n"
     ]
    },
    {
     "name": "stderr",
     "output_type": "stream",
     "text": [
      "WARNING: pylab import has clobbered these variables: ['f']\n",
      "`%matplotlib` prevents importing * from pylab and numpy\n"
     ]
    }
   ],
   "source": [
    "from __future__ import print_function\n",
    "import pickle\n",
    "import matplotlib.pyplot as plt\n",
    "import numpy as np\n",
    "import matplotlib\n",
    "%pylab inline\n"
   ]
  },
  {
   "cell_type": "code",
   "execution_count": 2,
   "metadata": {
    "collapsed": true
   },
   "outputs": [],
   "source": [
    "hists = {}\n",
    "with open(\"lipids-per-cation_CaCl2_346mM.pickle\", \"r\") as f: hists[\"cacl2\"] = pickle.load(f)\n",
    "with open(\"lipids-per-cation_NaCl_1M.pickle\", \"r\")     as f: hists[\"nacl\"]  = pickle.load(f)"
   ]
  },
  {
   "cell_type": "code",
   "execution_count": 36,
   "metadata": {
    "collapsed": false
   },
   "outputs": [],
   "source": [
    "font = {'family' : 'Liberation Sans',\n",
    "        'style'  : 'normal',\n",
    "        'weight' : 'normal',\n",
    "        'size'   : 18}\n",
    "\n",
    "matplotlib.rc('font', **font)\n"
   ]
  },
  {
   "cell_type": "code",
   "execution_count": 37,
   "metadata": {
    "collapsed": true
   },
   "outputs": [],
   "source": [
    "probs = {}\n",
    "for key in hists.keys():\n",
    "    h = hists[key][0][1:]\n",
    "    p = 100.0*h/h.sum()\n",
    "    probs[key] = p\n",
    "    "
   ]
  },
  {
   "cell_type": "code",
   "execution_count": 39,
   "metadata": {
    "collapsed": false
   },
   "outputs": [
    {
     "data": {
      "image/png": "[encoded data removed]",
      "text/plain": [
       "<matplotlib.figure.Figure at 0x7f3a7f589590>"
      ]
     },
     "metadata": {},
     "output_type": "display_data"
    }
   ],
   "source": [
    "w = 0.3\n",
    "lw = 0\n",
    "\n",
    "key = 'nacl'\n",
    "plt.bar(np.arange(1,4)-w, probs[key], width=w, linewidth=lw, color=\"#99DD22\", label=\"NaCl\")#, hist_cat_per_lip[0])\n",
    "key = 'cacl2'\n",
    "plt.bar(np.arange(1,4), probs[key], width=w, linewidth=lw, color=\"#2299EE\", label=r\"CaCl$_2$\")#, hist_cat_per_lip[0])\n",
    "\n",
    "plt.xticks([1,2,3])\n",
    "plt.xlabel(\"number of lipids in cation-bound cluster\")\n",
    "plt.ylabel(\"probability\")\n",
    "plt.yticks(range(0,80,10), [ str(i)+\"%\" for i in range(0,80,10) ])\n",
    "plt.legend()\n",
    "plt.savefig(\"stoichiometry_NaCl-CaCl2_comparison_Ecc-lipids.pdf\")"
   ]
  },
  {
   "cell_type": "code",
   "execution_count": null,
   "metadata": {
    "collapsed": true
   },
   "outputs": [],
   "source": []
  }
 ],
 "metadata": {
  "kernelspec": {
   "display_name": "Python 2",
   "language": "python",
   "name": "python2"
  },
  "language_info": {
   "codemirror_mode": {
    "name": "ipython",
    "version": 2
   },
   "file_extension": ".py",
   "mimetype": "text/x-python",
   "name": "python",
   "nbconvert_exporter": "python",
   "pygments_lexer": "ipython2",
   "version": "2.7.13"
  }
 },
 "nbformat": 4,
 "nbformat_minor": 0
}
