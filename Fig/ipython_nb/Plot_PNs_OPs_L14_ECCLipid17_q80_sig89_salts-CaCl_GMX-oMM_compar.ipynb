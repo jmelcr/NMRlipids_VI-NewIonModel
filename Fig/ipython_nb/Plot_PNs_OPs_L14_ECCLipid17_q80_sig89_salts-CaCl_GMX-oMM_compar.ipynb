{
 "cells": [
  {
   "cell_type": "code",
   "execution_count": 2,
   "metadata": {
    "collapsed": false
   },
   "outputs": [
    {
     "name": "stdout",
     "output_type": "stream",
     "text": [
      "Populating the interactive namespace from numpy and matplotlib\n"
     ]
    }
   ],
   "source": [
    "import matplotlib\n",
    "import matplotlib.pyplot as plt\n",
    "import numpy as np\n",
    "import os, sys\n",
    "import itertools\n",
    "sys.path.append(\"/mnt/ssd/NMRlipids_VI-NewIonModel/scripts/\")\n",
    "import calcOrderParameters as cop\n",
    "import fnmatch\n",
    "import re\n",
    "%pylab inline"
   ]
  },
  {
   "cell_type": "code",
   "execution_count": 3,
   "metadata": {
    "collapsed": true
   },
   "outputs": [],
   "source": [
    "def locate(pattern, root=os.curdir):\n",
    "    '''Locate all files matching supplied filename pattern in and below\n",
    "    supplied root directory.'''\n",
    "    for path, dirs, files in os.walk(os.path.abspath(root)):\n",
    "        for filename in fnmatch.filter(files, pattern):\n",
    "            yield os.path.join(path, filename)\n",
    "            "
   ]
  },
  {
   "cell_type": "code",
   "execution_count": 4,
   "metadata": {
    "collapsed": false
   },
   "outputs": [],
   "source": [
    "class Simulation():\n",
    "    '''Simulation class stores simulation data relevant for NMRlipids project 6'''\n",
    "    def __init__(self, dirname, \n",
    "                 ordpars_fname=\"OrdPars.dat\", \n",
    "                 dens_fname=\"density_ca_cl_water.xvg\", \n",
    "                 conc_bulk_fname=\"conc_ion_bulk_mmolL.dat\", \n",
    "                 conc_nominal_fname=\"conc_ion_nominal_mmolL.dat\"):\n",
    "        self.dirname = dirname\n",
    "        self.ordpars = cop.parse_op_input(os.path.join(dirname, ordpars_fname))\n",
    "        try:\n",
    "            self.dens    = np.loadtxt(os.path.join(dirname, dens_fname))\n",
    "            self.conc_bulk = np.loadtxt(os.path.join(dirname, conc_bulk_fname))\n",
    "            self.conc_nominal = np.loadtxt(os.path.join(dirname, conc_nominal_fname))\n",
    "        except:\n",
    "            print \"Simulation in \\n {d} \\n has no densities or files with concentrations, setting concentrations to 0.\".format(d=self.dirname)\n",
    "            self.conc_bulk = np.zeros([2])\n",
    "            self.conc_nominal = 0.0\n",
    "                    "
   ]
  },
  {
   "cell_type": "markdown",
   "metadata": {},
   "source": [
    "Finding all simulations with ECC-lipids and cationic surfactant"
   ]
  },
  {
   "cell_type": "code",
   "execution_count": 5,
   "metadata": {
    "collapsed": false
   },
   "outputs": [],
   "source": [
    "sim_dirs = []\n",
    "for f in locate(\"OrdPars.dat\", root=os.curdir+\"/NpT\"):\n",
    "    if \"sim22a_0mM\" in f and \"NaCl\" in f and \"SPCE\" in f:\n",
    "        sim_dirs.append(os.path.dirname(f))\n",
    "    if \"sim22a_\" in f and \"SPCE\" in f and \"mM_CaCl-2s\" in f and not \"smallZ\" in f:\n",
    "        sim_dirs.append(os.path.dirname(f))\n",
    "\n",
    "for f in sim_dirs:\n",
    "    if \"300K\" in f:\n",
    "        sim_dirs.remove(f)\n",
    "        \n",
    "sim_dirs.sort()\n",
    "#print sim_dirs"
   ]
  },
  {
   "cell_type": "code",
   "execution_count": 6,
   "metadata": {
    "collapsed": false
   },
   "outputs": [
    {
     "name": "stdout",
     "output_type": "stream",
     "text": [
      "Simulation in \n",
      " /mnt/ssd/NMRlipids_VI-NewIonModel/simulations/POPC/lipid14/NpT/sim22a_0mM_NaCl_SPCE_non-tail-atoms_q-sc_0.80_sig-sc_0.89_noIons-ref \n",
      " has no densities or files with concentrations, setting concentrations to 0.\n"
     ]
    }
   ],
   "source": [
    "sims = []\n",
    "for d in sim_dirs:\n",
    "    sim = Simulation(d)\n",
    "    sims.append(sim)"
   ]
  },
  {
   "cell_type": "markdown",
   "metadata": {},
   "source": [
    "getting PN_vector data from ECC-lipids simulations"
   ]
  },
  {
   "cell_type": "code",
   "execution_count": 7,
   "metadata": {
    "collapsed": false
   },
   "outputs": [
    {
     "name": "stdout",
     "output_type": "stream",
     "text": [
      "0.0 0.01437 0.00111\n",
      "0.0 0.01381 0.00111\n",
      "0.0 -0.04397 0.00106\n",
      "0.0 -0.043 0.00107\n",
      "0.0 71.78102 0.07989\n",
      "0.0 -0.16853 0.00088\n",
      "0.0 -0.18646 0.00082\n",
      "77.7114019934 -0.00034 0.00078\n",
      "77.7114019934 -0.00069 0.00078\n",
      "77.7114019934 -0.04886 0.00075\n",
      "77.7114019934 -0.05021 0.00075\n",
      "77.7114019934 70.04352 0.0587\n",
      "77.7114019934 -0.14462 0.00065\n",
      "77.7114019934 -0.17439 0.00059\n",
      "182.889212625 -0.01241 0.00077\n",
      "182.889212625 -0.00987 0.00077\n",
      "182.889212625 -0.05389 0.00074\n",
      "182.889212625 -0.05674 0.00074\n",
      "182.889212625 68.43371 0.06022\n",
      "182.889212625 -0.14958 0.00064\n",
      "182.889212625 -0.17447 0.00059\n",
      "276.161162791 -0.01642 0.00077\n",
      "276.161162791 -0.0158 0.00077\n",
      "276.161162791 -0.05591 0.00074\n",
      "276.161162791 -0.05556 0.00074\n",
      "276.161162791 67.3494 0.06029\n",
      "276.161162791 -0.15612 0.00064\n",
      "276.161162791 -0.15887 0.00061\n",
      "392.993421927 -0.02001 0.00076\n",
      "392.993421927 -0.01683 0.00077\n",
      "392.993421927 -0.05617 0.00074\n",
      "392.993421927 -0.05834 0.00074\n",
      "392.993421927 67.85738 0.06141\n",
      "392.993421927 -0.15273 0.00064\n",
      "392.993421927 -0.15641 0.00061\n",
      "593.560996678 -0.02784 0.00076\n",
      "593.560996678 -0.0282 0.00076\n",
      "593.560996678 -0.05906 0.00074\n",
      "593.560996678 -0.063 0.00074\n",
      "593.560996678 66.3223 0.06248\n",
      "593.560996678 -0.14077 0.00065\n",
      "593.560996678 -0.14573 0.00062\n",
      "816.232890365 -0.02991 0.00076\n",
      "816.232890365 -0.03243 0.00076\n",
      "816.232890365 -0.06247 0.00074\n",
      "816.232890365 -0.06477 0.00073\n",
      "816.232890365 65.69461 0.06244\n",
      "816.232890365 -0.14439 0.00065\n",
      "816.232890365 -0.14689 0.00062\n",
      "{'alpha2': [[0.0, 0.01381], [77.711401993400003, -0.00069], [182.889212625, -0.00987], [276.16116279099998, -0.0158], [392.99342192699999, -0.01683], [593.56099667800004, -0.0282], [816.232890365, -0.03243]], 'alpha1': [[0.0, 0.01437], [77.711401993400003, -0.00034], [182.889212625, -0.01241], [276.16116279099998, -0.01642], [392.99342192699999, -0.02001], [593.56099667800004, -0.02784], [816.232890365, -0.02991]], 'g3_2': [[0.0, -0.18646], [77.711401993400003, -0.17439], [182.889212625, -0.17447], [276.16116279099998, -0.15887], [392.99342192699999, -0.15641], [593.56099667800004, -0.14573], [816.232890365, -0.14689]], 'g3_1': [[0.0, -0.16853], [77.711401993400003, -0.14462], [182.889212625, -0.14958], [276.16116279099998, -0.15612], [392.99342192699999, -0.15273], [593.56099667800004, -0.14077], [816.232890365, -0.14439]], 'beta2': [[0.0, -0.043], [77.711401993400003, -0.05021], [182.889212625, -0.05674], [276.16116279099998, -0.05556], [392.99342192699999, -0.05834], [593.56099667800004, -0.063], [816.232890365, -0.06477]], 'beta1': [[0.0, -0.04397], [77.711401993400003, -0.04886], [182.889212625, -0.05389], [276.16116279099998, -0.05591], [392.99342192699999, -0.05617], [593.56099667800004, -0.05906], [816.232890365, -0.06247]], 'PN_vector': [[0.0, 71.78102], [77.711401993400003, 70.04352], [182.889212625, 68.43371], [276.16116279099998, 67.3494], [392.99342192699999, 67.85738], [593.56099667800004, 66.3223], [816.232890365, 65.69461]]}\n"
     ]
    }
   ],
   "source": [
    "opsdata = {}\n",
    "# regular expressions explained at https://docs.python.org/2/howto/regex.html#match-versus-search\n",
    "p = re.compile('\\d+p_')  # string pattern for molar fraction in %\n",
    "for s in sims:\n",
    "    if \"T7H\" in s.dirname:\n",
    "        m = p.search(s.dirname)\n",
    "        s.conc_bulk[0] = float(m.group()[0:2])\n",
    "    for opname in [\"alpha1\", \"alpha2\", \"beta1\", \"beta2\", \"PN_vector\", \"g3_1\", \"g3_2\"]:\n",
    "        temp_list = []\n",
    "        try:\n",
    "            temp_list.append([s.conc_bulk[0], float(s.ordpars[opname].avg)])\n",
    "            print s.conc_bulk[0], float(s.ordpars[opname].avg), float(s.ordpars[opname].errest)\n",
    "        except:\n",
    "            print \"Simulation in dir \\n {d} \\n seem to have no record of the order parameter {op} -- skipping\".format(d=s.dirname, op=opname)\n",
    "        if opname in opsdata.keys():\n",
    "            opsdata[opname].extend(temp_list)\n",
    "        else:\n",
    "            opsdata[opname] = temp_list\n",
    "            \n",
    "\n",
    "print opsdata"
   ]
  },
  {
   "cell_type": "markdown",
   "metadata": {},
   "source": [
    "Redoing the file search again for the reference simulations set (i.e. Lipid14 + Aqvist ions)"
   ]
  },
  {
   "cell_type": "markdown",
   "metadata": {},
   "source": [
    "getting PN_vector data from ECC-lipids openMM simulation -- dirty hack here!\n",
    "---"
   ]
  },
  {
   "cell_type": "code",
   "execution_count": 8,
   "metadata": {
    "collapsed": false
   },
   "outputs": [
    {
     "name": "stdout",
     "output_type": "stream",
     "text": [
      "Simulation in \n",
      " /mnt/ssd/NMRlipids_VI-NewIonModel/simulations/POPC/lipid14/NpT/sim22a_0mM_NaCl_SPCE_non-tail-atoms_q-sc_0.80_sig-sc_0.89_noIons-ref \n",
      " has no densities or files with concentrations, setting concentrations to 0.\n"
     ]
    }
   ],
   "source": [
    "#REUSING sim_dirs!!\n",
    "sim_dirs = []\n",
    "for f in locate(\"OrdPars_omm.dat\", root=os.curdir+\"/NpT\"):\n",
    "    if \"sim22a_0mM\" in f and \"NaCl\" in f and \"SPCE\" in f:\n",
    "        sim_dirs.append(os.path.dirname(f))\n",
    "    if \"sim22a_\" in f and \"SPCE\" in f and \"mM_CaCl-2s\" in f and not \"MODEL_LIPID14\" in f:\n",
    "        sim_dirs.append(os.path.dirname(f))\n",
    "\n",
    "for f in sim_dirs:\n",
    "    if \"300K\" in f:\n",
    "        sim_dirs.remove(f)\n",
    "        \n",
    "sim_dirs.sort()\n",
    "\n",
    "sims_l14 = []\n",
    "for d in sim_dirs:\n",
    "    sim = Simulation(d, ordpars_fname=\"OrdPars_omm.dat\")\n",
    "    sims_l14.append(sim)"
   ]
  },
  {
   "cell_type": "code",
   "execution_count": 9,
   "metadata": {
    "collapsed": false
   },
   "outputs": [
    {
     "name": "stdout",
     "output_type": "stream",
     "text": [
      "0.0 0.01323 0.00064\n",
      "0.0 0.01166 0.00064\n",
      "0.0 -0.04441 0.00061\n",
      "0.0 -0.04621 0.00061\n",
      "0.0 71.7126 0.04607\n",
      "0.0 -0.16296 0.00051\n",
      "0.0 -0.18532 0.00047\n",
      "276.161162791 -0.01701 0.00063\n",
      "276.161162791 -0.018 0.00063\n",
      "276.161162791 -0.05614 0.00061\n",
      "276.161162791 -0.05762 0.00061\n",
      "276.161162791 67.70256 0.04929\n",
      "276.161162791 -0.14339 0.00053\n",
      "276.161162791 -0.17068 0.00048\n",
      "816.232890365 -0.03659 0.00061\n",
      "816.232890365 -0.03307 0.00062\n",
      "816.232890365 -0.06169 0.0006\n",
      "816.232890365 -0.0646 0.0006\n",
      "816.232890365 66.26539 0.0522\n",
      "816.232890365 -0.13748 0.00053\n",
      "816.232890365 -0.15635 0.0005\n",
      "{'alpha2': [[0.0, 0.01166], [276.16116279099998, -0.018], [816.232890365, -0.03307]], 'alpha1': [[0.0, 0.01323], [276.16116279099998, -0.01701], [816.232890365, -0.03659]], 'g3_2': [[0.0, -0.18532], [276.16116279099998, -0.17068], [816.232890365, -0.15635]], 'g3_1': [[0.0, -0.16296], [276.16116279099998, -0.14339], [816.232890365, -0.13748]], 'beta2': [[0.0, -0.04621], [276.16116279099998, -0.05762], [816.232890365, -0.0646]], 'beta1': [[0.0, -0.04441], [276.16116279099998, -0.05614], [816.232890365, -0.06169]], 'PN_vector': [[0.0, 71.7126], [276.16116279099998, 67.70256], [816.232890365, 66.26539]]}\n"
     ]
    }
   ],
   "source": [
    "opsdata_l14 = {}\n",
    "# regular expressions explained at https://docs.python.org/2/howto/regex.html#match-versus-search\n",
    "#p = re.compile('\\d+molF')  # string pattern for molar fraction in %\n",
    "for s in sims_l14:\n",
    "    for opname in [\"alpha1\", \"alpha2\", \"beta1\", \"beta2\", \"PN_vector\", \"g3_1\", \"g3_2\"]:\n",
    "        temp_list = []\n",
    "        try:\n",
    "            temp_list.append([s.conc_bulk[0], float(s.ordpars[opname].avg)])\n",
    "            print s.conc_bulk[0], float(s.ordpars[opname].avg), float(s.ordpars[opname].errest)\n",
    "        except:\n",
    "            print \"Simulation in dir \\n {d} \\n seem to have no record of the order parameter {op} -- skipping\".format(d=s.dirname, op=opname)\n",
    "        if opname in opsdata_l14.keys():\n",
    "            opsdata_l14[opname].extend(temp_list)\n",
    "        else:\n",
    "            opsdata_l14[opname] = temp_list\n",
    "            \n",
    "\n",
    "print opsdata_l14"
   ]
  },
  {
   "cell_type": "markdown",
   "metadata": {},
   "source": [
    "Locating and loading Lipid14 + Dang ions simulations"
   ]
  },
  {
   "cell_type": "code",
   "execution_count": 10,
   "metadata": {
    "collapsed": false
   },
   "outputs": [
    {
     "name": "stdout",
     "output_type": "stream",
     "text": [
      "Simulation in \n",
      " /mnt/ssd/NMRlipids_VI-NewIonModel/simulations/POPC/lipid14/NpT/sim0_ref_noIons \n",
      " has no densities or files with concentrations, setting concentrations to 0.\n"
     ]
    }
   ],
   "source": [
    "#REUSING sim_dirs!!\n",
    "sim_dirs = []\n",
    "for f in locate(\"OrdPars.dat\", root=os.curdir+\"/NpT\"):\n",
    "    if \"sim2-3_\" in f or \"sim0_ref_noIons\" in f:\n",
    "        sim_dirs.append(os.path.dirname(f))\n",
    "\n",
    "sim_dirs.sort()\n",
    "#print sim_dirs\n",
    "\n",
    "sims_l14d = []\n",
    "for d in sim_dirs:\n",
    "    sim = Simulation(d)\n",
    "    sims_l14d.append(sim)"
   ]
  },
  {
   "cell_type": "code",
   "execution_count": 11,
   "metadata": {
    "collapsed": false,
    "scrolled": true
   },
   "outputs": [
    {
     "name": "stdout",
     "output_type": "stream",
     "text": [
      "0.0 0.06928 0.00077\n",
      "0.0 0.07021 0.00076\n",
      "0.0 -0.00241 0.00073\n",
      "0.0 0.00048 0.00073\n",
      "0.0 76.79575 0.05124\n",
      "0.0 -0.17378 0.00055\n",
      "0.0 -0.23514 0.00049\n",
      "161.167561462 0.00074 0.00077\n",
      "161.167561462 -0.00173 0.00077\n",
      "161.167561462 -0.03721 0.00075\n",
      "161.167561462 -0.04146 0.00075\n",
      "161.167561462 67.83188 0.06174\n",
      "161.167561462 -0.12664 0.00065\n",
      "161.167561462 -0.16689 0.0006\n",
      "589.637973422 -0.05558 0.00073\n",
      "589.637973422 -0.04821 0.00074\n",
      "589.637973422 -0.05486 0.00074\n",
      "589.637973422 -0.06368 0.00073\n",
      "589.637973422 60.4994 0.06119\n",
      "589.637973422 -0.11615 0.00066\n",
      "589.637973422 -0.12024 0.00063\n",
      "{'alpha2': [[0.0, 0.07021], [161.16756146200001, -0.00173], [589.63797342199996, -0.04821]], 'alpha1': [[0.0, 0.06928], [161.16756146200001, 0.00074], [589.63797342199996, -0.05558]], 'g3_2': [[0.0, -0.23514], [161.16756146200001, -0.16689], [589.63797342199996, -0.12024]], 'g3_1': [[0.0, -0.17378], [161.16756146200001, -0.12664], [589.63797342199996, -0.11615]], 'beta2': [[0.0, 0.00048], [161.16756146200001, -0.04146], [589.63797342199996, -0.06368]], 'beta1': [[0.0, -0.00241], [161.16756146200001, -0.03721], [589.63797342199996, -0.05486]], 'PN_vector': [[0.0, 76.79575], [161.16756146200001, 67.83188], [589.63797342199996, 60.4994]]}\n"
     ]
    }
   ],
   "source": [
    "opsdata_l14d = {}\n",
    "# regular expressions explained at https://docs.python.org/2/howto/regex.html#match-versus-search\n",
    "#p = re.compile('\\d+molF')  # string pattern for molar fraction in %\n",
    "for s in sims_l14d:\n",
    "    if \"molF\" in s.dirname:\n",
    "        m = p.search(s.dirname)\n",
    "        s.conc_bulk[0] = float(m.group()[0:2])\n",
    "    for opname in [\"alpha1\", \"alpha2\", \"beta1\", \"beta2\", \"PN_vector\", \"g3_1\", \"g3_2\"]:\n",
    "        temp_list = []\n",
    "        try:\n",
    "            temp_list.append([s.conc_bulk[0], float(s.ordpars[opname].avg)])\n",
    "            print s.conc_bulk[0], float(s.ordpars[opname].avg), float(s.ordpars[opname].errest)\n",
    "        except:\n",
    "            print \"Simulation in dir \\n {d} \\n seem to have no record of the order parameter {op} -- skipping\".format(d=s.dirname, op=opname)\n",
    "        if opname in opsdata_l14d.keys():\n",
    "            opsdata_l14d[opname].extend(temp_list)\n",
    "        else:\n",
    "            opsdata_l14d[opname] = temp_list\n",
    "            \n",
    "\n",
    "print opsdata_l14d"
   ]
  },
  {
   "cell_type": "markdown",
   "metadata": {},
   "source": [
    "getting experimental results from Scherer89"
   ]
  },
  {
   "cell_type": "code",
   "execution_count": 12,
   "metadata": {
    "collapsed": false
   },
   "outputs": [
    {
     "name": "stdout",
     "output_type": "stream",
     "text": [
      "{'beta_DPPC': array([[  0.00000000e+00,  -0.00000000e+00],\n",
      "       [  3.50000000e+02,  -1.69048000e-02],\n",
      "       [  1.00000000e+03,  -2.00464000e-02]]), 'alpha_POPC': array([[  0.00000000e+00,   4.56280000e-02],\n",
      "       [  5.00000000e+00,   4.30848000e-02],\n",
      "       [  1.00000000e+01,   4.12896000e-02],\n",
      "       [  2.00000000e+01,   3.97936000e-02],\n",
      "       [  5.00000000e+01,   3.76244000e-02],\n",
      "       [  1.00000000e+02,   3.39592000e-02],\n",
      "       [  2.00000000e+02,   2.99200000e-02],\n",
      "       [  4.00000000e+02,   2.34124000e-02],\n",
      "       [  5.00000000e+02,   2.04204000e-02],\n",
      "       [  6.00000000e+02,   1.78772000e-02],\n",
      "       [  8.00000000e+02,   1.45860000e-02],\n",
      "       [  1.00000000e+03,   9.87360000e-03],\n",
      "       [  2.00000000e+03,   0.00000000e+00],\n",
      "       [  3.00000000e+03,  -1.49600000e-02],\n",
      "       [  4.00000000e+03,  -2.48336000e-02],\n",
      "       [  5.00000000e+03,  -2.88728000e-02]]), 'alpha_DPPC': array([[  0.00000000e+00,   0.00000000e+00],\n",
      "       [  1.00000000e+01,  -8.22800000e-03],\n",
      "       [  1.00000000e+02,  -1.95976000e-02],\n",
      "       [  3.50000000e+02,  -3.23884000e-02],\n",
      "       [  1.00000000e+03,  -4.69744000e-02]]), 'g3_DPPC': [[0.0, -0.214], [350.0, -0.211]]}\n"
     ]
    }
   ],
   "source": [
    "exp_filenames = []\n",
    "experiments = {}\n",
    "freq_to_scd = 0.00748\n",
    "\n",
    "# DPPC experiments\n",
    "# find files with the experimental values as read from figure4 in scherer89\n",
    "for f in locate(\"EXP-Akutsu1981*CaClchange-T323.dat\", root=os.curdir+\"/../../../../lipid_ionINTERACTION/Data\"):\n",
    "    exp_filenames.append(f)\n",
    "\n",
    "exp_data = np.loadtxt(exp_filenames[0], dtype=str)\n",
    "# convert col1 to contain S_CD with a correct sign -- this is specific to these data\n",
    "# convert col0 to contain concentrations in %-unit\n",
    "experiments['beta_DPPC']  = exp_data[:,0:-1]\n",
    "experiments['alpha_DPPC'] = exp_data[:,[0,2]]\n",
    "\n",
    "# POPC experiments    \n",
    "for f in locate(\"EXP-Altenbach1984-T313K.dat\", root=os.curdir+\"/../../../../lipid_ionINTERACTION/Data/POPC/CaCl\"):\n",
    "    exp_data = np.loadtxt(f, dtype=str, usecols=[0,1])\n",
    "    # convert col1 to contain S_CD with a correct sign -- this is specific to these data\n",
    "    # convert col0 to contain concentrations in %-unit\n",
    "    experiments['alpha_POPC'] = exp_data\n",
    "\n",
    "for key in experiments.keys():\n",
    "    templist = []\n",
    "    for item in experiments[key]:\n",
    "        if not item[1]=='-':\n",
    "            fitem = np.array(item, dtype=float)\n",
    "            freq_sign = 1.0\n",
    "            f_conc = 1.0\n",
    "            if 'beta' in key:\n",
    "                freq_sign = -1.0\n",
    "            if 'alpha_POPC' in key:\n",
    "                f_conc = 1000.0\n",
    "            templist.append([fitem[0]*f_conc, fitem[1]*freq_to_scd*freq_sign])\n",
    "    experiments[key] = np.array(templist, dtype=float)\n",
    "    \n",
    "# from ref: H. Akutsu and J. Seelig, Biochemistry 20, 7366 (1981).\n",
    "experiments[\"g3_DPPC\"] = [[0.0, -0.214], [350.0, -0.211]]\n",
    "    \n",
    "print experiments\n",
    "        "
   ]
  },
  {
   "cell_type": "markdown",
   "metadata": {},
   "source": [
    "# Plotting figure 1: PN_vector and order parameters $\\alpha$ and $\\beta$ depend on the amount of bound charge - cationic surfactant"
   ]
  },
  {
   "cell_type": "markdown",
   "metadata": {},
   "source": [
    "# Plotting figure 2: PN_vector and order parameters $\\alpha$, $\\beta$, and $g_3$ depend on the amount of bound charge - cationic surfactant"
   ]
  },
  {
   "cell_type": "code",
   "execution_count": 13,
   "metadata": {
    "collapsed": false
   },
   "outputs": [
    {
     "data": {
      "image/png": "[encoded data removed]",
      "text/plain": [
       "<matplotlib.figure.Figure at 0x7f8509552390>"
      ]
     },
     "metadata": {},
     "output_type": "display_data"
    }
   ],
   "source": [
    "font = {'family' : 'Liberation Sans',\n",
    "        'style'  : 'normal',\n",
    "        'weight' : 'normal',\n",
    "        'size'   : 18}\n",
    "\n",
    "matplotlib.rc('font', **font)\n",
    "\n",
    "fig, axs = plt.subplots(nrows=4, ncols=1, \n",
    "                        sharex=\"all\", figsize=[5,12], \n",
    "                        dpi=200)\n",
    "fig.subplots_adjust(hspace=0.05)\n",
    "\n",
    "#fig.subplotpars.left = 0.3\n",
    "\n",
    "# give subplots human-redable names\n",
    "dsa = axs[1] # Delta S alpha\n",
    "dsb = axs[0] # Delta S beta\n",
    "dsg = axs[2] # Delta S g_3\n",
    "pna = axs[3] # PN_vector\n",
    "\n",
    "# add some text for labels, title and axes ticks\n",
    "pna.set_xlabel(r'Concentration of CaCl$_2$ / mM')\n",
    "pna.set_ylabel(r'P-N angle')\n",
    "dsa.set_ylabel(r'$\\Delta S_{CH} ^{\\alpha}$')\n",
    "dsb.set_ylabel(r'$\\Delta S_{CH} ^{\\beta}$')\n",
    "dsg.set_ylabel(r'$\\Delta S_{CH} ^{g_3}$')\n",
    "\n",
    "#pna.set_xlim([0.0,60.0])\n",
    "#ax.set_xticks(r1)\n",
    "#xlabelsl = list(xlabels)\n",
    "#xlabelsl.extend(range(2, 18))\n",
    "#ax.set_xticklabels(xlabelsl, rotation=0)\n",
    "\n",
    "for (opsplot, c, label) in zip([experiments, opsdata, opsdata_l14, opsdata_l14d], \n",
    "                               [\"black\", \"#e04010\", \"violet\", \"#608010\"], \n",
    "                               [\"Experiment\", \"ECC-lipids GMX\", ur\"ECC-lipids openMM\", \"Lipid14 (Dang)\"]):\n",
    "    for key in opsplot.keys():\n",
    "        yerror = 0.001\n",
    "        do_delta = False\n",
    "        if key.startswith(\"alpha\"):\n",
    "            iplt = 1\n",
    "            do_delta = True\n",
    "            ylim = [-0.14, 0.01]\n",
    "        elif key.startswith(\"beta\"):\n",
    "            iplt = 0\n",
    "            do_delta = True\n",
    "            ylim = [-0.14, 0.01]\n",
    "        elif key.startswith(\"g3\"):\n",
    "            iplt = 2\n",
    "            do_delta = True\n",
    "            ylim = [-0.01, 0.138]\n",
    "        elif key.startswith(\"PN\"):\n",
    "            iplt = 3\n",
    "            yerror = 0.15\n",
    "            ylim = [55.0, 80.0]\n",
    "        else:\n",
    "            print \"this should not happen, setting iplt = 2\"\n",
    "            iplt = 2\n",
    "        ax = axs[iplt]\n",
    "        ax.set_ylim(ylim)\n",
    "        if isinstance(opsplot[key], list):\n",
    "            opsplot[key].sort()\n",
    "        else:\n",
    "            #print \"this is not list, not sorting. It's likely the experimental data.\"\n",
    "            pass\n",
    "        data = np.array(opsplot[key])\n",
    "        if do_delta:\n",
    "            data[:,1] -= data[0,1]\n",
    "        #ax.errorbar(data[:,0], data[:,1], yerr=yerror, lw=2.0, marker='s', markersize=5, mew=0, color=c) #, c=colour, lw=1.0, label=point_label)\n",
    "        if key.startswith(\"alpha_\") or key==\"alpha1\":\n",
    "            plot_label = label\n",
    "            if key.endswith(\"PC\"):\n",
    "                plot_label += \" (\"+key[key.rfind(\"_\")+1:]+\")\"\n",
    "        else:\n",
    "            plot_label = None\n",
    "        marker = \"o\"\n",
    "        markersize = 5\n",
    "        if \"Exp\" in label:\n",
    "            linew = 3.0\n",
    "        else:\n",
    "            linew = 2.0\n",
    "\n",
    "        if \"POPC\" in key:\n",
    "            marker = \"D\"\n",
    "        if \"DPPC\" in key:\n",
    "            marker = \"s\"\n",
    "        ax.plot(data[:,0], data[:,1], lw=linew, marker=marker, markersize=markersize, mew=0, color=c, label=plot_label) #, c=colour, lw=1.0, label=point_label)\n",
    "\n",
    "        \n",
    "for ax in axs:\n",
    "    #ax.minorticks_on()\n",
    "    pass\n",
    "    \n",
    "#xlim = pna.get_xlim()\n",
    "#pna.set_xticks(range(0,90,20))\n",
    "#pna.set_xticklabels([ str(i)+r\"%\" for i in range(0,90,20)])\n",
    "pna.set_xlim([0,1000])\n",
    "\n",
    "ylim = pna.get_ylim()\n",
    "pna.set_yticks(range(0,90,5))\n",
    "pna.set_yticklabels([ str(i)+r\"$^\\circ$\" for i in range(0,90,5)])\n",
    "pna.set_ylim(ylim)\n",
    "\n",
    "#dsb.legend(loc=\"lower left\", markerscale=1.0, scatterpoints=4, fontsize='x-small')\n",
    "dsa.legend(bbox_transform=plt.gcf().transFigure,\n",
    "           bbox_to_anchor=(0.44, 1.0), \n",
    "           ncol=2, mode=\"expand\",\n",
    "           frameon=False,\n",
    "           fontsize='small')\n",
    "\n",
    "plt.savefig(\"PN_angle_OrdPars-A-B-g3_L14-ECCL17_q80_sig89_CaCl_GMX-oMM_compar.pdf\", dpi=200, bbox_inches='tight')\n",
    "plt.show()\n"
   ]
  },
  {
   "cell_type": "code",
   "execution_count": null,
   "metadata": {
    "collapsed": true
   },
   "outputs": [],
   "source": []
  }
 ],
 "metadata": {
  "kernelspec": {
   "display_name": "Python 2",
   "language": "python",
   "name": "python2"
  },
  "language_info": {
   "codemirror_mode": {
    "name": "ipython",
    "version": 2
   },
   "file_extension": ".py",
   "mimetype": "text/x-python",
   "name": "python",
   "nbconvert_exporter": "python",
   "pygments_lexer": "ipython2",
   "version": "2.7.13"
  }
 },
 "nbformat": 4,
 "nbformat_minor": 0
}
