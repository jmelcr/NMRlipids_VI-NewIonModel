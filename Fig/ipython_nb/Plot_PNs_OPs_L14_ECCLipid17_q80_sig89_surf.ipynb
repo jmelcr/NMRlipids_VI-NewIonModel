{
 "cells": [
  {
   "cell_type": "code",
   "execution_count": 11,
   "metadata": {
    "collapsed": false
   },
   "outputs": [
    {
     "name": "stdout",
     "output_type": "stream",
     "text": [
      "Populating the interactive namespace from numpy and matplotlib\n"
     ]
    },
    {
     "name": "stderr",
     "output_type": "stream",
     "text": [
      "WARNING: pylab import has clobbered these variables: ['f', 'ylim']\n",
      "`%matplotlib` prevents importing * from pylab and numpy\n"
     ]
    }
   ],
   "source": [
    "import matplotlib\n",
    "import matplotlib.pyplot as plt\n",
    "import numpy as np\n",
    "import os, sys\n",
    "import itertools\n",
    "sys.path.append(\"/mnt/ssd/NMRlipids_VI-NewIonModel/scripts/\")\n",
    "import calcOrderParameters as cop\n",
    "import fnmatch\n",
    "import re\n",
    "%pylab inline"
   ]
  },
  {
   "cell_type": "code",
   "execution_count": 12,
   "metadata": {
    "collapsed": true
   },
   "outputs": [],
   "source": [
    "def locate(pattern, root=os.curdir):\n",
    "    '''Locate all files matching supplied filename pattern in and below\n",
    "    supplied root directory.'''\n",
    "    for path, dirs, files in os.walk(os.path.abspath(root)):\n",
    "        for filename in fnmatch.filter(files, pattern):\n",
    "            yield os.path.join(path, filename)\n",
    "            "
   ]
  },
  {
   "cell_type": "code",
   "execution_count": 13,
   "metadata": {
    "collapsed": false
   },
   "outputs": [],
   "source": [
    "class Simulation():\n",
    "    '''Simulation class stores simulation data relevant for NMRlipids project 6'''\n",
    "    def __init__(self, dirname, \n",
    "                 ordpars_fname=\"OrdPars.dat\", \n",
    "                 dens_fname=\"density_ca_cl_water.xvg\", \n",
    "                 conc_bulk_fname=\"conc_ion_bulk_mmolL.dat\", \n",
    "                 conc_nominal_fname=\"conc_ion_nominal_mmolL.dat\"):\n",
    "        self.dirname = dirname\n",
    "        self.ordpars = cop.parse_op_input(os.path.join(dirname, ordpars_fname))\n",
    "        try:\n",
    "            self.dens    = np.loadtxt(os.path.join(dirname, dens_fname))\n",
    "            self.conc_bulk = np.loadtxt(os.path.join(dirname, conc_bulk_fname))\n",
    "            self.conc_nominal = np.loadtxt(os.path.join(dirname, conc_nominal_fname))\n",
    "        except:\n",
    "            print \"Simulation in \\n {d} \\n has no densities or files with concentrations, setting concentrations to 0.\".format(d=self.dirname)\n",
    "            self.conc_bulk = np.zeros([2])\n",
    "            self.conc_nominal = 0.0\n",
    "                    "
   ]
  },
  {
   "cell_type": "markdown",
   "metadata": {},
   "source": [
    "Finding all simulations with ECC-lipids and cationic surfactant"
   ]
  },
  {
   "cell_type": "code",
   "execution_count": 14,
   "metadata": {
    "collapsed": false
   },
   "outputs": [],
   "source": [
    "sim_dirs = []\n",
    "for f in locate(\"OrdPars.dat\", root=os.curdir+\"/NpT\"):\n",
    "    if \"sim22a_0mM\" in f and \"NaCl\" in f and \"OPC3\" in f:\n",
    "        sim_dirs.append(os.path.dirname(f))\n",
    "    if \"sim22_T7H-ECC\" in f and \"OPC3\" in f and not \"MODEL_LIPID14\" in f:\n",
    "        sim_dirs.append(os.path.dirname(f))\n",
    "\n",
    "for f in sim_dirs:\n",
    "    if \"300K\" in f:\n",
    "        sim_dirs.remove(f)\n",
    "        \n",
    "sim_dirs.sort()\n",
    "#print sim_dirs"
   ]
  },
  {
   "cell_type": "code",
   "execution_count": 15,
   "metadata": {
    "collapsed": false
   },
   "outputs": [
    {
     "name": "stdout",
     "output_type": "stream",
     "text": [
      "Simulation in \n",
      " /mnt/ssd/NMRlipids_VI-NewIonModel/simulations/POPC/lipid14/NpT/sim22_T7H-ECC-42p_OPC3_non-tail-atoms_q-sc_0.80_sig-sc_0.89 \n",
      " has no densities or files with concentrations, setting concentrations to 0.\n",
      "Simulation in \n",
      " /mnt/ssd/NMRlipids_VI-NewIonModel/simulations/POPC/lipid14/NpT/sim22a_0mM_NaCl_OPC3_non-tail-atoms_q-sc_0.80_sig-sc_0.89_noIons-ref \n",
      " has no densities or files with concentrations, setting concentrations to 0.\n"
     ]
    }
   ],
   "source": [
    "sims = []\n",
    "for d in sim_dirs:\n",
    "    sim = Simulation(d)\n",
    "    sims.append(sim)"
   ]
  },
  {
   "cell_type": "markdown",
   "metadata": {},
   "source": [
    "getting PN_vector data from ECC-lipids simulations"
   ]
  },
  {
   "cell_type": "code",
   "execution_count": 16,
   "metadata": {
    "collapsed": false
   },
   "outputs": [
    {
     "name": "stdout",
     "output_type": "stream",
     "text": [
      "20.0 -0.03916 0.0012\n",
      "20.0 -0.03769 0.0012\n",
      "20.0 -0.07009 0.00117\n",
      "20.0 -0.06914 0.00117\n",
      "20.0 65.61806 0.10203\n",
      "30.0 -0.05375 0.00118\n",
      "30.0 -0.05438 0.00118\n",
      "30.0 -0.07613 0.00116\n",
      "30.0 -0.076 0.00116\n",
      "30.0 63.61482 0.10402\n",
      "42.0 -0.07666 0.00124\n",
      "42.0 -0.07485 0.00124\n",
      "42.0 -0.08401 0.00124\n",
      "42.0 -0.08424 0.00124\n",
      "42.0 61.31964 0.11573\n",
      "50.0 -0.10275 0.0011\n",
      "50.0 -0.09888 0.00111\n",
      "50.0 -0.09341 0.00112\n",
      "50.0 -0.09232 0.00113\n",
      "50.0 59.74446 0.11283\n",
      "0.0 0.00859 0.00111\n",
      "0.0 0.00926 0.00111\n",
      "0.0 -0.0459 0.00106\n",
      "0.0 -0.04657 0.00106\n",
      "0.0 71.0464 0.08009\n",
      "{'alpha2': [[20.0, -0.03769], [30.0, -0.05438], [42.0, -0.07485], [50.0, -0.09888], [0.0, 0.00926]], 'alpha1': [[20.0, -0.03916], [30.0, -0.05375], [42.0, -0.07666], [50.0, -0.10275], [0.0, 0.00859]], 'beta2': [[20.0, -0.06914], [30.0, -0.076], [42.0, -0.08424], [50.0, -0.09232], [0.0, -0.04657]], 'beta1': [[20.0, -0.07009], [30.0, -0.07613], [42.0, -0.08401], [50.0, -0.09341], [0.0, -0.0459]], 'PN_vector': [[20.0, 65.61806], [30.0, 63.61482], [42.0, 61.31964], [50.0, 59.74446], [0.0, 71.0464]]}\n"
     ]
    }
   ],
   "source": [
    "opsdata = {}\n",
    "# regular expressions explained at https://docs.python.org/2/howto/regex.html#match-versus-search\n",
    "p = re.compile('\\d+p_')  # string pattern for molar fraction in %\n",
    "for s in sims:\n",
    "    if \"T7H\" in s.dirname:\n",
    "        m = p.search(s.dirname)\n",
    "        s.conc_bulk[0] = float(m.group()[0:2])\n",
    "    for opname in [\"alpha1\", \"alpha2\", \"beta1\", \"beta2\", \"PN_vector\"]:\n",
    "        temp_list = []\n",
    "        try:\n",
    "            temp_list.append([s.conc_bulk[0], float(s.ordpars[opname].avg)])\n",
    "            print s.conc_bulk[0], float(s.ordpars[opname].avg), float(s.ordpars[opname].errest)\n",
    "        except:\n",
    "            print \"Simulation in dir \\n {d} \\n seem to have no record of the order parameter {op} -- skipping\".format(d=s.dirname, op=opname)\n",
    "        if opname in opsdata.keys():\n",
    "            opsdata[opname].extend(temp_list)\n",
    "        else:\n",
    "            opsdata[opname] = temp_list\n",
    "            \n",
    "\n",
    "print opsdata"
   ]
  },
  {
   "cell_type": "markdown",
   "metadata": {},
   "source": [
    "Redoing the file search again for the reference simulations set (i.e. Lipid14)"
   ]
  },
  {
   "cell_type": "code",
   "execution_count": 17,
   "metadata": {
    "collapsed": false
   },
   "outputs": [
    {
     "name": "stdout",
     "output_type": "stream",
     "text": [
      "Simulation in \n",
      " /mnt/ssd/NMRlipids_VI-NewIonModel/simulations/POPC/lipid14/POPC+DHMDMAB/0molF \n",
      " has no densities or files with concentrations, setting concentrations to 0.\n",
      "Simulation in \n",
      " /mnt/ssd/NMRlipids_VI-NewIonModel/simulations/POPC/lipid14/POPC+DHMDMAB/10molF \n",
      " has no densities or files with concentrations, setting concentrations to 0.\n",
      "Simulation in \n",
      " /mnt/ssd/NMRlipids_VI-NewIonModel/simulations/POPC/lipid14/POPC+DHMDMAB/20molF \n",
      " has no densities or files with concentrations, setting concentrations to 0.\n",
      "Simulation in \n",
      " /mnt/ssd/NMRlipids_VI-NewIonModel/simulations/POPC/lipid14/POPC+DHMDMAB/30molF \n",
      " has no densities or files with concentrations, setting concentrations to 0.\n",
      "Simulation in \n",
      " /mnt/ssd/NMRlipids_VI-NewIonModel/simulations/POPC/lipid14/POPC+DHMDMAB/42molF \n",
      " has no densities or files with concentrations, setting concentrations to 0.\n",
      "Simulation in \n",
      " /mnt/ssd/NMRlipids_VI-NewIonModel/simulations/POPC/lipid14/POPC+DHMDMAB/50molF \n",
      " has no densities or files with concentrations, setting concentrations to 0.\n"
     ]
    }
   ],
   "source": [
    "#REUSING sim_dirs!!\n",
    "sim_dirs = []\n",
    "for f in locate(\"OrdPars.dat\", root=os.curdir+\"/POPC+DHMDMAB\"):\n",
    "    sim_dirs.append(os.path.dirname(f))\n",
    "\n",
    "sim_dirs.sort()\n",
    "#print sim_dirs\n",
    "\n",
    "sims_l14 = []\n",
    "for d in sim_dirs:\n",
    "    sim = Simulation(d)\n",
    "    sims_l14.append(sim)"
   ]
  },
  {
   "cell_type": "markdown",
   "metadata": {},
   "source": [
    "getting PN_vector data from Lipid14 simulations"
   ]
  },
  {
   "cell_type": "code",
   "execution_count": 18,
   "metadata": {
    "collapsed": false
   },
   "outputs": [
    {
     "name": "stdout",
     "output_type": "stream",
     "text": [
      "0.0 0.07471 0.00081\n",
      "0.0 0.07489 0.0008\n",
      "0.0 0.0032 0.00078\n",
      "0.0 0.00856 0.00078\n",
      "0.0 77.86284 0.05334\n",
      "10.0 0.02858 0.001\n",
      "10.0 0.03436 0.001\n",
      "10.0 -0.01796 0.00097\n",
      "10.0 -0.0149 0.00097\n",
      "10.0 71.62459 0.0731\n",
      "20.0 -0.02022 0.00097\n",
      "20.0 -0.01539 0.00096\n",
      "20.0 -0.04071 0.00095\n",
      "20.0 -0.03869 0.00095\n",
      "20.0 67.91504 0.07955\n",
      "30.0 -0.05117 0.00093\n",
      "30.0 -0.04766 0.00093\n",
      "30.0 -0.05645 0.00094\n",
      "30.0 -0.05199 0.00094\n",
      "30.0 63.96344 0.08137\n",
      "42.0 -0.10377 0.00058\n",
      "42.0 -0.09798 0.00058\n",
      "42.0 -0.07771 0.00061\n",
      "42.0 -0.07918 0.0006\n",
      "42.0 60.21434 0.05809\n",
      "50.0 -0.1341 0.00055\n",
      "50.0 -0.12561 0.00056\n",
      "50.0 -0.09098 0.00059\n",
      "50.0 -0.09219 0.00059\n",
      "50.0 58.28534 0.06027\n",
      "{'alpha2': [[0.0, 0.07489], [10.0, 0.03436], [20.0, -0.01539], [30.0, -0.04766], [42.0, -0.09798], [50.0, -0.12561]], 'alpha1': [[0.0, 0.07471], [10.0, 0.02858], [20.0, -0.02022], [30.0, -0.05117], [42.0, -0.10377], [50.0, -0.1341]], 'beta2': [[0.0, 0.00856], [10.0, -0.0149], [20.0, -0.03869], [30.0, -0.05199], [42.0, -0.07918], [50.0, -0.09219]], 'beta1': [[0.0, 0.0032], [10.0, -0.01796], [20.0, -0.04071], [30.0, -0.05645], [42.0, -0.07771], [50.0, -0.09098]], 'PN_vector': [[0.0, 77.86284], [10.0, 71.62459], [20.0, 67.91504], [30.0, 63.96344], [42.0, 60.21434], [50.0, 58.28534]]}\n"
     ]
    }
   ],
   "source": [
    "opsdata_l14 = {}\n",
    "# regular expressions explained at https://docs.python.org/2/howto/regex.html#match-versus-search\n",
    "p = re.compile('\\d+molF')  # string pattern for molar fraction in %\n",
    "for s in sims_l14:\n",
    "    if \"molF\" in s.dirname:\n",
    "        m = p.search(s.dirname)\n",
    "        s.conc_bulk[0] = float(m.group().strip(\"molF\"))\n",
    "    for opname in [\"alpha1\", \"alpha2\", \"beta1\", \"beta2\", \"PN_vector\"]:\n",
    "        temp_list = []\n",
    "        try:\n",
    "            temp_list.append([s.conc_bulk[0], float(s.ordpars[opname].avg)])\n",
    "            print s.conc_bulk[0], float(s.ordpars[opname].avg), float(s.ordpars[opname].errest)\n",
    "        except:\n",
    "            print \"Simulation in dir \\n {d} \\n seem to have no record of the order parameter {op} -- skipping\".format(d=s.dirname, op=opname)\n",
    "        if opname in opsdata_l14.keys():\n",
    "            opsdata_l14[opname].extend(temp_list)\n",
    "        else:\n",
    "            opsdata_l14[opname] = temp_list\n",
    "            \n",
    "\n",
    "print opsdata_l14"
   ]
  },
  {
   "cell_type": "markdown",
   "metadata": {},
   "source": [
    "getting experimental results from Scherer89"
   ]
  },
  {
   "cell_type": "code",
   "execution_count": 19,
   "metadata": {
    "collapsed": false
   },
   "outputs": [
    {
     "name": "stdout",
     "output_type": "stream",
     "text": [
      "{'alpha': array([[ -1.63322445e-01,   8.24615026e-04],\n",
      "       [  6.21733551e+00,  -1.71978668e-02],\n",
      "       [  1.19056230e+01,  -2.75345377e-02],\n",
      "       [  2.00950770e+01,  -4.13117792e-02],\n",
      "       [  3.12418339e+01,  -6.00641357e-02],\n",
      "       [  3.80832944e+01,  -8.26977302e-02],\n",
      "       [  4.24125058e+01,  -9.45839044e-02],\n",
      "       [  6.47031031e+01,  -1.30165762e-01],\n",
      "       [  7.05832944e+01,  -1.17426302e-01],\n",
      "       [  9.12418339e+01,  -1.24178421e-01]]), 'beta': array([[ -1.63322445e-01,  -8.24615026e-04],\n",
      "       [  3.91682221e+00,  -3.55026998e-03],\n",
      "       [  9.12389174e+00,  -1.12846977e-02],\n",
      "       [  1.50104993e+01,  -1.97938771e-02],\n",
      "       [  2.90398973e+01,  -4.52914972e-02],\n",
      "       [  4.42172189e+01,  -6.19533331e-02],\n",
      "       [  6.46237751e+01,  -7.17358976e-02],\n",
      "       [  9.09420205e+01,  -7.34910873e-02]])}\n"
     ]
    }
   ],
   "source": [
    "exp_filenames = []\n",
    "experiments = {}\n",
    "freq_to_scd = 0.00748\n",
    "# find files with the experimental values as read from figure4 in scherer89\n",
    "for f in locate(\"sceherer89fig4*C16.dat\", root=os.curdir+\"/../../../Data\"):\n",
    "    exp_filenames.append(f)\n",
    "    freq_sign = 1.0\n",
    "    if \"ALPHA\" in f:\n",
    "        op_name = 'alpha'\n",
    "    elif \"BETA\" in f:\n",
    "        op_name = 'beta'\n",
    "        freq_sign = -1.0\n",
    "    else:\n",
    "        print \"There's no string >ALPHA< nor >BETA< in file \\n {}\\n This should not happen, check code...\".format(f)\n",
    "    # load data into numpy array: col0=c, col1=NMR_frequency\n",
    "    experiments[op_name] = np.loadtxt(f)\n",
    "    # convert col1 to contain S_CD with a correct sign -- this is specific to these data\n",
    "    experiments[op_name][:,1] *= freq_to_scd*freq_sign\n",
    "    # convert col0 to contain concentrations in %-unit\n",
    "    experiments[op_name][:,0] *= 100.0\n",
    "    \n",
    "print experiments\n",
    "        "
   ]
  },
  {
   "cell_type": "markdown",
   "metadata": {},
   "source": [
    "# Plotting figure 1: PN_vector depends on the amount of bound charge - cationic surfactant"
   ]
  },
  {
   "cell_type": "code",
   "execution_count": 20,
   "metadata": {
    "collapsed": false
   },
   "outputs": [
    {
     "data": {
      "image/png": "[encoded data removed]",
      "text/plain": [
       "<matplotlib.figure.Figure at 0x7f715cfa8690>"
      ]
     },
     "metadata": {},
     "output_type": "display_data"
    }
   ],
   "source": [
    "font = {'family' : 'Liberation Sans',\n",
    "        'style'  : 'normal',\n",
    "        'weight' : 'normal',\n",
    "        'size'   : 18}\n",
    "\n",
    "matplotlib.rc('font', **font)\n",
    "\n",
    "fig, axs = plt.subplots(nrows=3, ncols=1, sharex=\"all\", figsize=[4,8], dpi=200)\n",
    "#fig.subplotpars.left = 0.3\n",
    "\n",
    "# give subplots human-redable names\n",
    "dsa = axs[0] # Delta S alpha\n",
    "dsb = axs[1] # Delta S beta\n",
    "pna = axs[2] # PN_vector\n",
    "\n",
    "# add some text for labels, title and axes ticks\n",
    "pna.set_xlabel(r'Molar fraction of cationic surfactant [%]')\n",
    "pna.set_ylabel(r'P-N angle [deg]')\n",
    "dsa.set_ylabel(r'$\\Delta S_{CD} ^{\\alpha}$')\n",
    "dsb.set_ylabel(r'$\\Delta S_{CD} ^{\\beta}$')\n",
    "\n",
    "pna.set_xlim([0.0,100.0])\n",
    "#ax.set_xticks(r1)\n",
    "#xlabelsl = list(xlabels)\n",
    "#xlabelsl.extend(range(2, 18))\n",
    "#ax.set_xticklabels(xlabelsl, rotation=0)\n",
    "\n",
    "for opsplot, c in zip([opsdata, opsdata_l14, experiments], [\"red\", \"blue\", \"black\"]):\n",
    "    for key in opsplot.keys():\n",
    "        yerror = 0.001\n",
    "        do_delta = False\n",
    "        if key.startswith(\"alpha\"):\n",
    "            iplt = 0\n",
    "            do_delta = True\n",
    "            ylim = [-0.25, 0.02]\n",
    "        elif key.startswith(\"beta\"):\n",
    "            iplt = 1\n",
    "            do_delta = True\n",
    "            ylim = [-0.25, 0.02]\n",
    "        elif key.startswith(\"PN\"):\n",
    "            iplt = 2\n",
    "            yerror = 0.15\n",
    "            ylim = [55.0, 80.0]\n",
    "        else:\n",
    "            print \"this should not happen, setting iplt = 2\"\n",
    "            iplt = 2\n",
    "        ax = axs[iplt]\n",
    "        ax.set_ylim(ylim)\n",
    "        if isinstance(opsplot[key], list):\n",
    "            opsplot[key].sort()\n",
    "        else:\n",
    "            #print \"this is not list, not sorting. It's likely the experimental data.\"\n",
    "            pass\n",
    "        data = np.array(opsplot[key])\n",
    "        if do_delta:\n",
    "            data[:,1] -= data[0,1]\n",
    "        #ax.errorbar(data[:,0], data[:,1], yerr=yerror, lw=2.0, marker='s', markersize=5, mew=0, color=c) #, c=colour, lw=1.0, label=point_label)\n",
    "        ax.plot(data[:,0], data[:,1], lw=2.0, marker='o', markersize=5, mew=0, color=c) #, c=colour, lw=1.0, label=point_label)\n",
    "\n",
    "#dsa.plot(data[:,0], data[:,1], lw=2.0, marker='s', markersize=5, mew=0, color=c) #, c=colour, lw=1.0, label=point_label)\n",
    "\n",
    "#data = np.array(pndata)\n",
    "#pna.errorbar(data[:,0], data[:,1], yerr=0.15, lw=2.0, marker='s', markersize=5, color=\"red\", label=\"ECC-lipids\") #, c=colour, lw=1.0, label=point_label)\n",
    "#data_l14 = np.array(pndata_l14)\n",
    "#pna.errorbar(data_l14[:,0], data_l14[:,1], yerr=0.15, lw=2.0, marker='s', markersize=5, color=\"blue\", label=\"Lipid14\") #, c=colour, lw=1.0, label=point_label)\n",
    "    \n",
    "            \n",
    "\n",
    "\n",
    "#pna.legend(loc=\"upper right\", markerscale=0.5, scatterpoints=4)\n",
    "plt.savefig(\"PN_angle_OrdPars-A-B_L14-ECCL17_q80_sig89_surf.eps\", dpi=200, bbox_inches='tight')\n",
    "plt.show()\n"
   ]
  },
  {
   "cell_type": "code",
   "execution_count": null,
   "metadata": {
    "collapsed": true
   },
   "outputs": [],
   "source": []
  }
 ],
 "metadata": {
  "kernelspec": {
   "display_name": "Python 2",
   "language": "python",
   "name": "python2"
  },
  "language_info": {
   "codemirror_mode": {
    "name": "ipython",
    "version": 2
   },
   "file_extension": ".py",
   "mimetype": "text/x-python",
   "name": "python",
   "nbconvert_exporter": "python",
   "pygments_lexer": "ipython2",
   "version": "2.7.13"
  }
 },
 "nbformat": 4,
 "nbformat_minor": 0
}
