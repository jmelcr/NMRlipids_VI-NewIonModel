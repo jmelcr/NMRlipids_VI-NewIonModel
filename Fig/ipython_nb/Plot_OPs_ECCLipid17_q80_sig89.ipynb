{
 "cells": [
  {
   "cell_type": "code",
   "execution_count": 3,
   "metadata": {
    "collapsed": false
   },
   "outputs": [
    {
     "name": "stdout",
     "output_type": "stream",
     "text": [
      "Populating the interactive namespace from numpy and matplotlib\n"
     ]
    }
   ],
   "source": [
    "import matplotlib\n",
    "import matplotlib.pyplot as plt\n",
    "import numpy as np\n",
    "import os, sys\n",
    "import itertools\n",
    "sys.path.append(\"/mnt/ssd/NMRlipids_VI-NewIonModel/scripts/\")\n",
    "import calcOrderParameters as cop\n",
    "%pylab inline"
   ]
  },
  {
   "cell_type": "code",
   "execution_count": 4,
   "metadata": {
    "collapsed": false
   },
   "outputs": [],
   "source": [
    "exper_fname = \"/mnt/ssd/NMRlipids_VI-NewIonModel/Data/POPC/exp/POPC_Order_Parameters_Experiments_all.dat\"\n",
    "\n",
    "sim_l14_fname = \"NpT/sim0_ref_noIons/OrdPars.dat\"\n",
    "sim_ecc_fname1 = \"NpT/sim22a_0mM_NaCl_OPC3_non-tail-atoms_q-sc_0.80_sig-sc_0.89_noIons-ref/OrdPars.dat\"\n",
    "sim_ecc_fname2 = \"NpT/sim22a_0mM_NaCl_OPC4_non-tail-atoms_q-sc_0.80_sig-sc_0.89_noIons-ref/OrdPars.dat\"\n",
    "sim_ecc_fname3 = \"NpT/sim22a_0mM_NaCl_SPCE_non-tail-atoms_q-sc_0.80_sig-sc_0.89_noIons-ref/OrdPars.dat\"\n",
    "\n",
    "fnames = [exper_fname, sim_l14_fname, sim_ecc_fname1] #, sim_ecc_fname2, sim_ecc_fname3] \n",
    "\n",
    "models = []\n",
    "for fname in fnames:\n",
    "    model = cop.parse_op_input(fname)\n",
    "    models.append(model)\n"
   ]
  },
  {
   "cell_type": "code",
   "execution_count": 15,
   "metadata": {
    "collapsed": false
   },
   "outputs": [],
   "source": [
    "# define mapping for ordering of my OP labels\n",
    "def popc_order(s):\n",
    "    groups = ('gamma', 'beta', 'alpha', 'g3', 'g2', 'g1') #, 'palmitoyl', 'oleoyl')\n",
    "    if not s.startswith(groups):\n",
    "        return 2*len(groups)\n",
    "    else:\n",
    "        for i,g in enumerate(groups):\n",
    "            if s.startswith(g):\n",
    "                return 2*i\n",
    "    \n",
    "refmodel = models[0]\n",
    "ax_x_labels = refmodel.keys()\n",
    "ax_x_labels.sort()\n",
    "ax_x_labels = sorted(ax_x_labels, key=popc_order)\n",
    "\n",
    "xlabels = (r'$\\gamma$', r'$\\beta$', r'$\\alpha$', r'$g_3$', r'$g_2$', r'$g_1$')"
   ]
  },
  {
   "cell_type": "markdown",
   "metadata": {},
   "source": [
    "Plotting figure 1"
   ]
  },
  {
   "cell_type": "code",
   "execution_count": 23,
   "metadata": {
    "collapsed": false
   },
   "outputs": [
    {
     "data": {
      "image/png": "[encoded data removed]",
      "text/plain": [
       "<matplotlib.figure.Figure at 0x7fcf1cf2e450>"
      ]
     },
     "metadata": {},
     "output_type": "display_data"
    }
   ],
   "source": [
    "font = {'family' : 'Liberation Sans',\n",
    "        'style'  : 'normal',\n",
    "        'weight' : 'normal',\n",
    "        'size'   : 18}\n",
    "\n",
    "matplotlib.rc('font', **font)\n",
    "\n",
    "fig, ax = plt.subplots(nrows=1, ncols=1, sharex=\"all\", figsize=[8,3], dpi=200)\n",
    "# add some text for labels, title and axes ticks\n",
    "ax.set_xlabel(r'POPC Headgroup and tail order parameters')\n",
    "ax.set_ylabel(r'$-S_{CD}$')\n",
    "ax.set_ylim([-0.15,0.3])\n",
    "r1 = range(0, 2*len(xlabels), 2)\n",
    "r2 = range(2*len(xlabels)+2, 2*len(xlabels)+18, 2)\n",
    "r1.extend(r2)\n",
    "ax.set_xticks(r1)\n",
    "xlabelsl = list(xlabels)\n",
    "xlabelsl.extend(range(2, 18, 2))\n",
    "ax.set_xticklabels(xlabelsl, rotation=0)\n",
    "\n",
    "legends = ['experiment', 'Lipid14, TIP3p', r'ECC-lipids 17, OPC3', r'ECC-lipids 17, OPC4', r'ECC-lipids 17, SPC/E'] #, 'scaled Oxy. sigmas 0.90 0mM', 'scaled OCH headgr. sigmas 0.94 0mM',\n",
    "           #'scaled 0.75 Oxy. sigmas 0.90 0mM', 'scaled 0.75 Oxy. sigmas 0.90 0mM NpAT']\n",
    "colours = ['black', 'blue',  'red',  '#DE4578',  '#BB5487']  # zip() truncates the to the shortest list\n",
    "\n",
    "for (model, legend, colour) in zip(models, legends, colours):\n",
    "    if \"exper\" in legend:\n",
    "        point_marker = \"D\"\n",
    "        point_size = 400\n",
    "    else:\n",
    "        point_marker = \"o\"\n",
    "        point_size = 200\n",
    "    for (i, label) in enumerate(ax_x_labels):\n",
    "        if i == 0:\n",
    "            point_label = legend\n",
    "        else:\n",
    "            point_label = \"\"\n",
    "        if label in model.keys() and not (label.startswith(\"ole\") or label.startswith(\"palm\")):\n",
    "            ax.scatter(popc_order(label), -float(model[label].avg), marker=point_marker, c=colour, s=point_size, lw=0, label=point_label)\n",
    "        else:\n",
    "            pass\n",
    "            #print \"Label {lab} not found in current model keys, model: {mod}\".format(lab=label, mod=model)\n",
    "    tails={}\n",
    "    tails_list={}\n",
    "    for tail,chiral,i in itertools.product(['palmitoyl_C', 'oleoyl_C'], ['a', 'b'], range(2, 18)):\n",
    "        label = tail+str(i)+chiral\n",
    "        point_size = 100\n",
    "        point_marker = \".\"\n",
    "        try: \n",
    "            ax.scatter(popc_order(label)+i, -float(model[label].avg), marker=point_marker, c=colour, s=point_size, lw=0, label=point_label)\n",
    "        except:\n",
    "            pass\n",
    "            #print \"Label {lab} not found in current model keys, model: {mod}\".format(lab=label, mod=model)\n",
    "        if not tail in tails.keys():\n",
    "            tails[tail] = {}\n",
    "            tails_list[tail] = []\n",
    "        if label in model.keys():\n",
    "            if not i in tails[tail].keys():\n",
    "                tails[tail][i] = []\n",
    "            try:\n",
    "                tails[tail][i].append(float(model[label].avg))\n",
    "            except:\n",
    "                pass\n",
    "                #print \"Label {lab} not found in current model keys, model: {mod}\".format(lab=label, mod=model)\n",
    "    for tail in tails.keys():\n",
    "        for item in tails[tail].items():\n",
    "            tails_list[tail].append([item[0], np.average(item[1])])\n",
    "        tail_temp = np.array(tails_list[tail])\n",
    "        try:\n",
    "            ax.plot(tail_temp[:,0]+2*len(xlabels), -tail_temp[:,1], c=colour, lw=1.0, label=point_label)\n",
    "        except:\n",
    "            pass\n",
    "    \n",
    "ax.vlines(2*len(xlabels), -0.1, 0.25, linestyles='dashed')\n",
    "\n",
    "\n",
    "#ax.legend(loc=\"upper left\", markerscale=0.5, scatterpoints=4)\n",
    "plt.savefig(\"Order-parameters_exp-L14-ECCL17_q80_sig89.eps\", dpi=200, bbox_inches='tight')\n",
    "plt.show()\n"
   ]
  },
  {
   "cell_type": "code",
   "execution_count": null,
   "metadata": {
    "collapsed": true
   },
   "outputs": [],
   "source": []
  },
  {
   "cell_type": "code",
   "execution_count": null,
   "metadata": {
    "collapsed": true
   },
   "outputs": [],
   "source": []
  }
 ],
 "metadata": {
  "kernelspec": {
   "display_name": "Python 2",
   "language": "python",
   "name": "python2"
  },
  "language_info": {
   "codemirror_mode": {
    "name": "ipython",
    "version": 2
   },
   "file_extension": ".py",
   "mimetype": "text/x-python",
   "name": "python",
   "nbconvert_exporter": "python",
   "pygments_lexer": "ipython2",
   "version": "2.7.13"
  }
 },
 "nbformat": 4,
 "nbformat_minor": 0
}
