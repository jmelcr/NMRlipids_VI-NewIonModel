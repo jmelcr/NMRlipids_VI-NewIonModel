{
 "cells": [
  {
   "cell_type": "code",
   "execution_count": 1,
   "metadata": {
    "collapsed": false
   },
   "outputs": [
    {
     "name": "stdout",
     "output_type": "stream",
     "text": [
      "Populating the interactive namespace from numpy and matplotlib\n"
     ]
    }
   ],
   "source": [
    "import matplotlib\n",
    "import matplotlib.pyplot as plt\n",
    "import numpy as np\n",
    "import os, sys\n",
    "import itertools\n",
    "sys.path.append(\"/mnt/ssd/NMRlipids_VI-NewIonModel/scripts/\")\n",
    "import calcOrderParameters as cop\n",
    "import fnmatch\n",
    "import re\n",
    "%pylab inline"
   ]
  },
  {
   "cell_type": "code",
   "execution_count": 2,
   "metadata": {
    "collapsed": true
   },
   "outputs": [],
   "source": [
    "def locate(pattern, root=os.curdir):\n",
    "    '''Locate all files matching supplied filename pattern in and below\n",
    "    supplied root directory.'''\n",
    "    for path, dirs, files in os.walk(os.path.abspath(root)):\n",
    "        for filename in fnmatch.filter(files, pattern):\n",
    "            yield os.path.join(path, filename)\n",
    "            "
   ]
  },
  {
   "cell_type": "code",
   "execution_count": 3,
   "metadata": {
    "collapsed": false
   },
   "outputs": [],
   "source": [
    "class Simulation():\n",
    "    '''Simulation class stores simulation data relevant for NMRlipids project 6'''\n",
    "    def __init__(self, dirname, \n",
    "                 ordpars_fname=\"OrdPars.dat\", \n",
    "                 dens_fname=\"density_ca_cl_water.xvg\", \n",
    "                 conc_bulk_fname=\"conc_ion_bulk_mmolL.dat\", \n",
    "                 conc_nominal_fname=\"conc_ion_nominal_mmolL.dat\"):\n",
    "        self.dirname = dirname\n",
    "        self.ordpars = cop.parse_op_input(os.path.join(dirname, ordpars_fname))\n",
    "        try:\n",
    "            self.dens    = np.loadtxt(os.path.join(dirname, dens_fname))\n",
    "            self.conc_bulk = np.loadtxt(os.path.join(dirname, conc_bulk_fname))\n",
    "            self.conc_nominal = np.loadtxt(os.path.join(dirname, conc_nominal_fname))\n",
    "        except:\n",
    "            print \"Simulation in \\n {d} \\n has no densities or files with concentrations, setting concentrations to 0.\".format(d=self.dirname)\n",
    "            self.conc_bulk = np.zeros([2])\n",
    "            self.conc_nominal = 0.0\n",
    "                    "
   ]
  },
  {
   "cell_type": "markdown",
   "metadata": {},
   "source": [
    "Finding all simulations with ECC-lipids and cationic surfactant"
   ]
  },
  {
   "cell_type": "code",
   "execution_count": 4,
   "metadata": {
    "collapsed": false
   },
   "outputs": [],
   "source": [
    "sim_dirs = []\n",
    "for f in locate(\"OrdPars.dat\", root=os.curdir+\"/NpT\"):\n",
    "    if \"sim22a_0mM\" in f and \"NaCl\" in f and \"SPCE\" in f:\n",
    "        sim_dirs.append(os.path.dirname(f))\n",
    "    if \"sim22_T7H-ECC\" in f and \"SPCE\" in f and not \"MODEL_LIPID14\" in f:\n",
    "        sim_dirs.append(os.path.dirname(f))\n",
    "\n",
    "for f in sim_dirs:\n",
    "    if \"300K\" in f:\n",
    "        sim_dirs.remove(f)\n",
    "        \n",
    "sim_dirs.sort()\n",
    "#print sim_dirs"
   ]
  },
  {
   "cell_type": "code",
   "execution_count": 5,
   "metadata": {
    "collapsed": false
   },
   "outputs": [
    {
     "name": "stdout",
     "output_type": "stream",
     "text": [
      "Simulation in \n",
      " /mnt/ssd/NMRlipids_VI-NewIonModel/simulations/POPC/lipid14/NpT/sim22a_0mM_NaCl_SPCE_non-tail-atoms_q-sc_0.80_sig-sc_0.89_noIons-ref \n",
      " has no densities or files with concentrations, setting concentrations to 0.\n"
     ]
    },
    {
     "name": "stderr",
     "output_type": "stream",
     "text": [
      "/usr/lib64/python2.7/site-packages/numpy/lib/npyio.py:893: UserWarning: loadtxt: Empty input file: \"/mnt/ssd/NMRlipids_VI-NewIonModel/simulations/POPC/lipid14/NpT/sim22_T7H-ECC-20p_SPCE_non-tail-atoms_q-sc_0.80_sig-sc_0.89/conc_ion_nominal_mmolL.dat\"\n",
      "  warnings.warn('loadtxt: Empty input file: \"%s\"' % fname)\n",
      "/usr/lib64/python2.7/site-packages/numpy/lib/npyio.py:893: UserWarning: loadtxt: Empty input file: \"/mnt/ssd/NMRlipids_VI-NewIonModel/simulations/POPC/lipid14/NpT/sim22_T7H-ECC-30p_SPCE_non-tail-atoms_q-sc_0.80_sig-sc_0.89/conc_ion_nominal_mmolL.dat\"\n",
      "  warnings.warn('loadtxt: Empty input file: \"%s\"' % fname)\n",
      "/usr/lib64/python2.7/site-packages/numpy/lib/npyio.py:893: UserWarning: loadtxt: Empty input file: \"/mnt/ssd/NMRlipids_VI-NewIonModel/simulations/POPC/lipid14/NpT/sim22_T7H-ECC-50p_SPCE_non-tail-atoms_q-sc_0.80_sig-sc_0.89/conc_ion_nominal_mmolL.dat\"\n",
      "  warnings.warn('loadtxt: Empty input file: \"%s\"' % fname)\n"
     ]
    }
   ],
   "source": [
    "sims = []\n",
    "for d in sim_dirs:\n",
    "    sim = Simulation(d)\n",
    "    sims.append(sim)"
   ]
  },
  {
   "cell_type": "markdown",
   "metadata": {},
   "source": [
    "getting PN_vector data from ECC-lipids simulations"
   ]
  },
  {
   "cell_type": "code",
   "execution_count": 6,
   "metadata": {
    "collapsed": false
   },
   "outputs": [
    {
     "name": "stdout",
     "output_type": "stream",
     "text": [
      "20.0 -0.0395 0.0012\n",
      "20.0 -0.03804 0.0012\n",
      "20.0 -0.07017 0.00117\n",
      "20.0 -0.06692 0.00117\n",
      "20.0 65.84582 0.10156\n",
      "20.0 -0.1302 0.00105\n",
      "20.0 -0.16621 0.00095\n",
      "30.0 -0.05487 0.00118\n",
      "30.0 -0.05504 0.00118\n",
      "30.0 -0.07642 0.00116\n",
      "30.0 -0.07355 0.00116\n",
      "30.0 63.96906 0.10475\n",
      "30.0 -0.1382 0.00103\n",
      "30.0 -0.16242 0.00097\n",
      "42.0 -0.07368 0.00124\n",
      "42.0 -0.07045 0.00125\n",
      "42.0 -0.08121 0.00124\n",
      "42.0 -0.07732 0.00125\n",
      "42.0 62.10987 0.11603\n",
      "42.0 -0.13233 0.00113\n",
      "42.0 -0.14156 0.00107\n",
      "50.0 -0.11166 0.00109\n",
      "50.0 -0.11244 0.00109\n",
      "50.0 -0.09928 0.00112\n",
      "50.0 -0.10056 0.00112\n",
      "50.0 58.75386 0.1146\n",
      "50.0 -0.14999 0.001\n",
      "50.0 -0.12357 0.00101\n",
      "0.0 0.01437 0.00111\n",
      "0.0 0.01381 0.00111\n",
      "0.0 -0.04397 0.00106\n",
      "0.0 -0.043 0.00107\n",
      "0.0 71.78102 0.07989\n",
      "0.0 -0.16853 0.00088\n",
      "0.0 -0.18646 0.00082\n",
      "{'alpha2': [[20.0, -0.03804], [30.0, -0.05504], [42.0, -0.07045], [50.0, -0.11244], [0.0, 0.01381]], 'alpha1': [[20.0, -0.0395], [30.0, -0.05487], [42.0, -0.07368], [50.0, -0.11166], [0.0, 0.01437]], 'g3_2': [[20.0, -0.16621], [30.0, -0.16242], [42.0, -0.14156], [50.0, -0.12357], [0.0, -0.18646]], 'g3_1': [[20.0, -0.1302], [30.0, -0.1382], [42.0, -0.13233], [50.0, -0.14999], [0.0, -0.16853]], 'beta2': [[20.0, -0.06692], [30.0, -0.07355], [42.0, -0.07732], [50.0, -0.10056], [0.0, -0.043]], 'beta1': [[20.0, -0.07017], [30.0, -0.07642], [42.0, -0.08121], [50.0, -0.09928], [0.0, -0.04397]], 'PN_vector': [[20.0, 65.84582], [30.0, 63.96906], [42.0, 62.10987], [50.0, 58.75386], [0.0, 71.78102]]}\n"
     ]
    }
   ],
   "source": [
    "opsdata = {}\n",
    "# regular expressions explained at https://docs.python.org/2/howto/regex.html#match-versus-search\n",
    "p = re.compile('\\d+p_')  # string pattern for molar fraction in %\n",
    "for s in sims:\n",
    "    if \"T7H\" in s.dirname:\n",
    "        m = p.search(s.dirname)\n",
    "        s.conc_bulk[0] = float(m.group()[0:2])\n",
    "    for opname in [\"alpha1\", \"alpha2\", \"beta1\", \"beta2\", \"PN_vector\", \"g3_1\", \"g3_2\"]:\n",
    "        temp_list = []\n",
    "        try:\n",
    "            temp_list.append([s.conc_bulk[0], float(s.ordpars[opname].avg)])\n",
    "            print s.conc_bulk[0], float(s.ordpars[opname].avg), float(s.ordpars[opname].errest)\n",
    "        except:\n",
    "            print \"Simulation in dir \\n {d} \\n seem to have no record of the order parameter {op} -- skipping\".format(d=s.dirname, op=opname)\n",
    "        if opname in opsdata.keys():\n",
    "            opsdata[opname].extend(temp_list)\n",
    "        else:\n",
    "            opsdata[opname] = temp_list\n",
    "            \n",
    "\n",
    "print opsdata"
   ]
  },
  {
   "cell_type": "markdown",
   "metadata": {},
   "source": [
    "Using variables formerly for Lipid14 for ECC-Lipids_openMM simulations -- dirty hack!!!\n",
    "---"
   ]
  },
  {
   "cell_type": "markdown",
   "metadata": {},
   "source": [
    "Redoing the file search again for the reference simulations set (i.e. Lipid14)"
   ]
  },
  {
   "cell_type": "code",
   "execution_count": 7,
   "metadata": {
    "collapsed": false
   },
   "outputs": [
    {
     "name": "stdout",
     "output_type": "stream",
     "text": [
      "Simulation in \n",
      " /mnt/ssd/NMRlipids_VI-NewIonModel/simulations/POPC/lipid14/NpT/sim22a_0mM_NaCl_SPCE_non-tail-atoms_q-sc_0.80_sig-sc_0.89_noIons-ref \n",
      " has no densities or files with concentrations, setting concentrations to 0.\n"
     ]
    }
   ],
   "source": [
    "#REUSING sim_dirs!!\n",
    "sim_dirs = []\n",
    "for f in locate(\"OrdPars_omm.dat\", root=os.curdir+\"/NpT\"):\n",
    "    if \"sim22a_0mM\" in f and \"NaCl\" in f and \"SPCE\" in f:\n",
    "        sim_dirs.append(os.path.dirname(f))\n",
    "    if \"sim22_T7H-ECC\" in f and \"SPCE\" in f and not \"MODEL_LIPID14\" in f:\n",
    "        sim_dirs.append(os.path.dirname(f))\n",
    "\n",
    "for f in sim_dirs:\n",
    "    if \"300K\" in f:\n",
    "        sim_dirs.remove(f)\n",
    "        \n",
    "sim_dirs.sort()\n",
    "sims_l14 = []\n",
    "for d in sim_dirs:\n",
    "    sim = Simulation(d, ordpars_fname=\"OrdPars_omm.dat\")\n",
    "    sims_l14.append(sim)"
   ]
  },
  {
   "cell_type": "markdown",
   "metadata": {},
   "source": [
    "getting PN_vector data from Lipid14 simulations"
   ]
  },
  {
   "cell_type": "code",
   "execution_count": 8,
   "metadata": {
    "collapsed": false
   },
   "outputs": [
    {
     "name": "stdout",
     "output_type": "stream",
     "text": [
      "20.0 -0.04572 0.00085\n",
      "20.0 -0.04272 0.00085\n",
      "20.0 -0.07125 0.00083\n",
      "20.0 -0.07014 0.00083\n",
      "20.0 65.62214 0.07265\n",
      "20.0 -0.13778 0.00073\n",
      "20.0 -0.1674 0.00068\n",
      "42.0 -0.08036 0.00081\n",
      "42.0 -0.07721 0.00081\n",
      "42.0 -0.08564 0.00081\n",
      "42.0 -0.08531 0.00081\n",
      "42.0 61.12612 0.07645\n",
      "42.0 -0.14145 0.00073\n",
      "42.0 -0.13809 0.00071\n",
      "0.0 0.01323 0.00064\n",
      "0.0 0.01166 0.00064\n",
      "0.0 -0.04441 0.00061\n",
      "0.0 -0.04621 0.00061\n",
      "0.0 71.7126 0.04607\n",
      "0.0 -0.16296 0.00051\n",
      "0.0 -0.18532 0.00047\n",
      "{'alpha2': [[20.0, -0.04272], [42.0, -0.07721], [0.0, 0.01166]], 'alpha1': [[20.0, -0.04572], [42.0, -0.08036], [0.0, 0.01323]], 'g3_2': [[20.0, -0.1674], [42.0, -0.13809], [0.0, -0.18532]], 'g3_1': [[20.0, -0.13778], [42.0, -0.14145], [0.0, -0.16296]], 'beta2': [[20.0, -0.07014], [42.0, -0.08531], [0.0, -0.04621]], 'beta1': [[20.0, -0.07125], [42.0, -0.08564], [0.0, -0.04441]], 'PN_vector': [[20.0, 65.62214], [42.0, 61.12612], [0.0, 71.7126]]}\n"
     ]
    }
   ],
   "source": [
    "opsdata_l14 = {}\n",
    "# regular expressions explained at https://docs.python.org/2/howto/regex.html#match-versus-search\n",
    "p = re.compile('\\d+p_')  # string pattern for molar fraction in %\n",
    "for s in sims_l14:\n",
    "    if \"T7H\" in s.dirname:\n",
    "        m = p.search(s.dirname)\n",
    "        s.conc_bulk[0] = float(m.group()[0:2])\n",
    "    for opname in [\"alpha1\", \"alpha2\", \"beta1\", \"beta2\", \"PN_vector\", \"g3_1\", \"g3_2\"]:\n",
    "        temp_list = []\n",
    "        try:\n",
    "            temp_list.append([s.conc_bulk[0], float(s.ordpars[opname].avg)])\n",
    "            print s.conc_bulk[0], float(s.ordpars[opname].avg), float(s.ordpars[opname].errest)\n",
    "        except:\n",
    "            print \"Simulation in dir \\n {d} \\n seem to have no record of the order parameter {op} -- skipping\".format(d=s.dirname, op=opname)\n",
    "        if opname in opsdata_l14.keys():\n",
    "            opsdata_l14[opname].extend(temp_list)\n",
    "        else:\n",
    "            opsdata_l14[opname] = temp_list\n",
    "            \n",
    "\n",
    "print opsdata_l14"
   ]
  },
  {
   "cell_type": "markdown",
   "metadata": {},
   "source": [
    "getting experimental results from Scherer89"
   ]
  },
  {
   "cell_type": "code",
   "execution_count": 9,
   "metadata": {
    "collapsed": false
   },
   "outputs": [
    {
     "name": "stdout",
     "output_type": "stream",
     "text": [
      "{'alpha': array([[ -1.63322445e-01,   8.24615026e-04],\n",
      "       [  6.21733551e+00,  -1.71978668e-02],\n",
      "       [  1.19056230e+01,  -2.75345377e-02],\n",
      "       [  2.00950770e+01,  -4.13117792e-02],\n",
      "       [  3.12418339e+01,  -6.00641357e-02],\n",
      "       [  3.80832944e+01,  -8.26977302e-02],\n",
      "       [  4.24125058e+01,  -9.45839044e-02],\n",
      "       [  6.47031031e+01,  -1.30165762e-01],\n",
      "       [  7.05832944e+01,  -1.17426302e-01],\n",
      "       [  9.12418339e+01,  -1.24178421e-01]]), 'beta': array([[ -1.63322445e-01,  -8.24615026e-04],\n",
      "       [  3.91682221e+00,  -3.55026998e-03],\n",
      "       [  9.12389174e+00,  -1.12846977e-02],\n",
      "       [  1.50104993e+01,  -1.97938771e-02],\n",
      "       [  2.90398973e+01,  -4.52914972e-02],\n",
      "       [  4.42172189e+01,  -6.19533331e-02],\n",
      "       [  6.46237751e+01,  -7.17358976e-02],\n",
      "       [  9.09420205e+01,  -7.34910873e-02]])}\n"
     ]
    }
   ],
   "source": [
    "exp_filenames = []\n",
    "experiments = {}\n",
    "freq_to_scd = 0.00748\n",
    "# find files with the experimental values as read from figure4 in scherer89\n",
    "for f in locate(\"sceherer89fig4*C16.dat\", root=os.curdir+\"/../../../Data\"):\n",
    "    exp_filenames.append(f)\n",
    "    freq_sign = 1.0\n",
    "    if \"ALPHA\" in f:\n",
    "        op_name = 'alpha'\n",
    "    elif \"BETA\" in f:\n",
    "        op_name = 'beta'\n",
    "        freq_sign = -1.0\n",
    "    else:\n",
    "        print \"There's no string >ALPHA< nor >BETA< in file \\n {}\\n This should not happen, check code...\".format(f)\n",
    "    # load data into numpy array: col0=c, col1=NMR_frequency\n",
    "    experiments[op_name] = np.loadtxt(f)\n",
    "    # convert col1 to contain S_CD with a correct sign -- this is specific to these data\n",
    "    experiments[op_name][:,1] *= freq_to_scd*freq_sign\n",
    "    # convert col0 to contain concentrations in %-unit\n",
    "    experiments[op_name][:,0] *= 100.0\n",
    "    \n",
    "print experiments\n",
    "        "
   ]
  },
  {
   "cell_type": "markdown",
   "metadata": {},
   "source": [
    "# Plotting figure 1: PN_vector and order parameters $\\alpha$ and $\\beta$ depend on the amount of bound charge - cationic surfactant"
   ]
  },
  {
   "cell_type": "markdown",
   "metadata": {},
   "source": [
    "# Plotting figure 2: PN_vector and order parameters $\\alpha$, $\\beta$, and $g_3$ depend on the amount of bound charge - cationic surfactant"
   ]
  },
  {
   "cell_type": "code",
   "execution_count": 11,
   "metadata": {
    "collapsed": false
   },
   "outputs": [
    {
     "data": {
      "image/png": "[encoded data removed]",
      "text/plain": [
       "<matplotlib.figure.Figure at 0x7f61b19cfd50>"
      ]
     },
     "metadata": {},
     "output_type": "display_data"
    }
   ],
   "source": [
    "font = {'family' : 'Liberation Sans',\n",
    "        'style'  : 'normal',\n",
    "        'weight' : 'normal',\n",
    "        'size'   : 18}\n",
    "\n",
    "matplotlib.rc('font', **font)\n",
    "\n",
    "fig, axs = plt.subplots(nrows=4, ncols=1, \n",
    "                        sharex=\"all\", figsize=[5,12], \n",
    "                        dpi=200)\n",
    "fig.subplots_adjust(hspace=0.05)\n",
    "#fig.subplotpars.left = 0.3\n",
    "\n",
    "# give subplots human-redable names\n",
    "dsa = axs[1] # Delta S alpha\n",
    "dsb = axs[0] # Delta S beta\n",
    "dsg = axs[2] # Delta S g_3\n",
    "pna = axs[3] # PN_vector\n",
    "\n",
    "# add some text for labels, title and axes ticks\n",
    "pna.set_xlabel(r'Molar fraction of cationic surfactant')\n",
    "pna.set_ylabel(r'P-N angle')\n",
    "dsa.set_ylabel(r'$\\Delta S_{CH} ^{\\alpha}$')\n",
    "dsb.set_ylabel(r'$\\Delta S_{CH} ^{\\beta}$')\n",
    "dsg.set_ylabel(r'$\\Delta S_{CH} ^{g_3}$')\n",
    "\n",
    "pna.set_xlim([0.0,60.0])\n",
    "#ax.set_xticks(r1)\n",
    "#xlabelsl = list(xlabels)\n",
    "#xlabelsl.extend(range(2, 18))\n",
    "#ax.set_xticklabels(xlabelsl, rotation=0)\n",
    "\n",
    "for (opsplot, c, label) in zip([experiments, opsdata, opsdata_l14], \n",
    "                               [\"black\", \"#e04010\", \"violet\", \"#608010\"], \n",
    "                               [\"Experiment\", \"ECC-lipids GMX\", \"ECC-lipids openMM\"]):\n",
    "\n",
    "    for key in opsplot.keys():\n",
    "        yerror = 0.001\n",
    "        do_delta = False\n",
    "        if key.startswith(\"alpha\"):\n",
    "            iplt = 1\n",
    "            do_delta = True\n",
    "            ylim = [-0.14, 0.01]\n",
    "        elif key.startswith(\"beta\"):\n",
    "            iplt = 0\n",
    "            do_delta = True\n",
    "            ylim = [-0.14, 0.01]\n",
    "        elif key.startswith(\"g3\"):\n",
    "            iplt = 2\n",
    "            do_delta = True\n",
    "            ylim = [-0.01, 0.075]\n",
    "        elif key.startswith(\"PN\"):\n",
    "            iplt = 3\n",
    "            yerror = 0.15\n",
    "            ylim = [55.0, 74.0]\n",
    "        else:\n",
    "            print \"this should not happen, setting iplt = 2\"\n",
    "            iplt = 2\n",
    "        ax = axs[iplt]\n",
    "        ax.set_ylim(ylim)\n",
    "        if isinstance(opsplot[key], list):\n",
    "            opsplot[key].sort()\n",
    "        else:\n",
    "            #print \"this is not list, not sorting. It's likely the experimental data.\"\n",
    "            pass\n",
    "        data = np.array(opsplot[key])\n",
    "        if do_delta:\n",
    "            data[:,1] -= data[0,1]\n",
    "        #ax.errorbar(data[:,0], data[:,1], yerr=yerror, lw=2.0, marker='s', markersize=5, mew=0, color=c) #, c=colour, lw=1.0, label=point_label)\n",
    "        if key==\"beta\" or key==\"beta1\":\n",
    "            plot_label = label\n",
    "        else:\n",
    "            plot_label = None\n",
    "        if \"Exp\" in label:\n",
    "            linew = 3.50\n",
    "            marker = \"D\"\n",
    "        else:\n",
    "            linew = 2.0\n",
    "            marker = \"o\"\n",
    "        if not data.shape==(0,):\n",
    "            ax.plot(data[:,0], data[:,1], lw=linew, marker=marker, markersize=6, mew=0, color=c, label=plot_label) #, c=colour, lw=1.0, label=point_label)\n",
    "\n",
    "            \n",
    "xlim = pna.get_xlim()\n",
    "pna.set_xticks(range(0,90,20))\n",
    "pna.set_xticklabels([ str(i)+r\"%\" for i in range(0,90,20)])\n",
    "pna.set_xlim(xlim)\n",
    "\n",
    "ylim = pna.get_ylim()\n",
    "pna.set_yticks(range(0,90,5))\n",
    "pna.set_yticklabels([ str(i)+r\"$^\\circ$\" for i in range(0,90,5)])\n",
    "pna.set_ylim(ylim)\n",
    "\n",
    "dsb.legend(loc=\"lower left\", markerscale=1.0, scatterpoints=4, fontsize='small')\n",
    "\n",
    "plt.savefig(\"PN_angle_OrdPars-A-B-g3_L14-ECCL17_q80_sig89_surf_GMX-oMM_compar.pdf\", dpi=200, bbox_inches='tight')\n",
    "plt.show()\n"
   ]
  },
  {
   "cell_type": "code",
   "execution_count": null,
   "metadata": {
    "collapsed": true
   },
   "outputs": [],
   "source": []
  }
 ],
 "metadata": {
  "kernelspec": {
   "display_name": "Python 2",
   "language": "python",
   "name": "python2"
  },
  "language_info": {
   "codemirror_mode": {
    "name": "ipython",
    "version": 2
   },
   "file_extension": ".py",
   "mimetype": "text/x-python",
   "name": "python",
   "nbconvert_exporter": "python",
   "pygments_lexer": "ipython2",
   "version": "2.7.13"
  }
 },
 "nbformat": 4,
 "nbformat_minor": 0
}
