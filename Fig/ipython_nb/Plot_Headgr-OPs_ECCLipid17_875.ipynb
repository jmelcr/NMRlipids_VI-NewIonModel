{
 "cells": [
  {
   "cell_type": "code",
   "execution_count": 46,
   "metadata": {
    "collapsed": false
   },
   "outputs": [],
   "source": [
    "import matplotlib\n",
    "import matplotlib.pyplot as plt\n",
    "import numpy as np\n",
    "# import os\n",
    "# import calcOrderParameters"
   ]
  },
  {
   "cell_type": "code",
   "execution_count": 7,
   "metadata": {
    "collapsed": false
   },
   "outputs": [],
   "source": [
    "scaled_fname = \"NpT/sim11_0mM_NaCl_OPC3_scDang_headgr-glyc_0.85_scaled_noIons-ref/OrdPars.dat\"\n",
    "scaled_NaCl_fname = \"NpT/sim11_351mM_NaCl_OPC3_scDang_headgr-glyc_0.85_scaled/OrdPars.dat\"\n",
    "scaled_CaCl_fname = \"NpT/sim14_856mM_CaCl_OPC3_scDang_headgr-glyc_0.85_oxy-sigmas_0.90_scaled/OrdPars.dat\"\n",
    "scaled_CaCl_fname2 = \"NpT/sim14_856mM_CaClMK_OPC3_scDang_headgr-glyc_0.85_oxy-sigmas_0.90_scaled/OrdPars.dat\"\n",
    "ref_fname = \"NpT/sim0_ref_noIons/OrdPars.dat\"\n",
    "ref_OPC3_fname = \"NVT/sim12_0mM_NaCl_OPC3_scDang_orig/OrdPars.dat\"\n",
    "scaled_sigmas_fname1 = \"NpT/sim20_0mM_NaCl_OPC3_non-tail-atoms_q-sc_0.80_sig-sc_0.875_noIons-ref/OrdPars.dat\"\n",
    "scaled_sigmas_fname2 = \"NpT/sim14_0mM_NaCl_OPC3_scDang_headgr-glyc_0.85_oxy-sigmas_0.90_scaled_noIons-ref/OrdPars.dat\"\n",
    "scaled_sigmas_fname3 = \"NpT/sim15_0mM_NaCl_OPC3_scDang_headgr-glyc_0.85_OCH-headgr-sigmas_0.94_scaled_noIons-ref/OrdPars.dat\"\n",
    "scaled_sigmas_fname4 = \"NpT/sim16_0mM_NaCl_OPC3_scDang_headgr-glyc_0.75_oxy-sigmas_0.90_scaled_noIons-ref/OrdPars.dat\"\n",
    "scaled_sigmas_fname5 = \"NVT/sim16_0mM_NaCl_OPC3_scDang_headgr-glyc_0.75_oxy-sigmas_0.90_scaled_noIons-ref/OrdPars.dat\"\n",
    "\n",
    "exper_fname = \"Headgroup_Glycerol_Order_Parameters_Experiments.dat\"\n",
    "\n",
    "fnames = [exper_fname, ref_fname, scaled_sigmas_fname1] #, scaled_sigmas_fname2, scaled_sigmas_fname3, scaled_sigmas_fname4, scaled_sigmas_fname5]\n",
    "\n",
    "models = []\n",
    "for fname in fnames:\n",
    "    model = {}\n",
    "    with open(fname, 'r') as f:\n",
    "        for line in f.readlines():\n",
    "            if not line.startswith(\"#\"):\n",
    "                items = line.split()\n",
    "                try:\n",
    "                    op_name = items[0]\n",
    "                    op_value = float(items[4])\n",
    "                    model[op_name] = op_value\n",
    "                except:\n",
    "                    print \"Error parsing line {line}\".format(line=line)\n",
    "        models.append(model)\n"
   ]
  },
  {
   "cell_type": "code",
   "execution_count": 39,
   "metadata": {
    "collapsed": false
   },
   "outputs": [],
   "source": [
    "# define mapping for ordering of my OP labels\n",
    "def popc_order(s):\n",
    "    groups = ('gamma', 'beta', 'alpha', 'g3', 'g2', 'g1')\n",
    "    if not s.startswith(groups):\n",
    "        return len(groups)\n",
    "    else:\n",
    "        for i,g in enumerate(groups):\n",
    "            if s.startswith(g):\n",
    "                return i\n",
    "    \n",
    "refmodel = models[0]\n",
    "ax_x_labels = refmodel.keys()\n",
    "ax_x_labels.sort()\n",
    "ax_x_labels = sorted(ax_x_labels, key=popc_order)\n",
    "\n",
    "xlabels = (r'$\\gamma$', r'$\\beta$', r'$\\alpha$', r'$g_3$', r'$g_2$', r'$g_1$')"
   ]
  },
  {
   "cell_type": "markdown",
   "metadata": {},
   "source": [
    "Plotting figure 1"
   ]
  },
  {
   "cell_type": "code",
   "execution_count": 61,
   "metadata": {
    "collapsed": false
   },
   "outputs": [],
   "source": [
    "font = {'family' : 'DejaVu',\n",
    "        'weight' : 'normal',\n",
    "        'size'   : 14}\n",
    "\n",
    "matplotlib.rc('font', **font)\n",
    "\n",
    "fig, ax = plt.subplots()\n",
    "# add some text for labels, title and axes ticks\n",
    "ax.set_ylabel(r'$-S_CD$')\n",
    "ax.set_ylim([-0.1,0.4])\n",
    "#ax.set_title('Headgroup order parameters, Lipid14 OPC3 water')\n",
    "ax.set_xticks(range(len(xlabels)))\n",
    "ax.set_xticklabels(xlabels, rotation=0)\n",
    "\n",
    "legends = ['experiment Ferreira 2013', 'Lipid14, TIP3p water', r'ECCLipids17: Lipid14 with non-tail atoms scaled $f_q=0.8$ $f_\\sigma=0.875$, OPC3 water'] #, 'scaled Oxy. sigmas 0.90 0mM', 'scaled OCH headgr. sigmas 0.94 0mM',\n",
    "           #'scaled 0.75 Oxy. sigmas 0.90 0mM', 'scaled 0.75 Oxy. sigmas 0.90 0mM NpAT']\n",
    "colours = ['black', '#33AA66',  '#DE7845']  # zip() truncates the to the shortest list\n",
    "\n",
    "for (model, legend, colour) in zip(models, legends, colours):\n",
    "    for (i, label) in enumerate(ax_x_labels):\n",
    "        if label in model.keys():\n",
    "            if i == 0:\n",
    "                ax.scatter(popc_order(label), -model[label], c=colour, s=200, lw=0, label=legend)\n",
    "            else:\n",
    "                ax.scatter(popc_order(label), -model[label], c=colour, s=200, lw=0)\n",
    "        else:\n",
    "            print \"Label {lab} not found in current model keys, model: {mod}\".format(lab=label, mod=model)\n",
    "\n",
    "ax.legend(loc=\"upper left\",prop={'size':10})\n",
    "plt.savefig(\"Headgr_OPs_exp-L14-ECCL17.png\", dpi=300)\n",
    "plt.show()\n"
   ]
  },
  {
   "cell_type": "code",
   "execution_count": null,
   "metadata": {
    "collapsed": true
   },
   "outputs": [],
   "source": []
  }
 ],
 "metadata": {
  "kernelspec": {
   "display_name": "Python 2",
   "language": "python",
   "name": "python2"
  },
  "language_info": {
   "codemirror_mode": {
    "name": "ipython",
    "version": 2
   },
   "file_extension": ".py",
   "mimetype": "text/x-python",
   "name": "python",
   "nbconvert_exporter": "python",
   "pygments_lexer": "ipython2",
   "version": "2.7.13"
  }
 },
 "nbformat": 4,
 "nbformat_minor": 0
}
