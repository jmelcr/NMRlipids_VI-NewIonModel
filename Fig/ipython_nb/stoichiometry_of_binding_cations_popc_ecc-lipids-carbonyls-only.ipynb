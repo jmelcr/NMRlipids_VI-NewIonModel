{
 "cells": [
  {
   "cell_type": "markdown",
   "metadata": {},
   "source": [
    "Binding of cations into POPC membrane\n",
    "=====\n",
    "\n",
    "In this notebook I will estimate the binding stochiometry of cations and POPC lipids."
   ]
  },
  {
   "cell_type": "markdown",
   "metadata": {},
   "source": [
    "First we import pyemma and check what version we are using."
   ]
  },
  {
   "cell_type": "code",
   "execution_count": 1,
   "metadata": {
    "collapsed": false
   },
   "outputs": [],
   "source": [
    "from __future__ import print_function\n",
    "import pyemma\n"
   ]
  },
  {
   "cell_type": "markdown",
   "metadata": {},
   "source": [
    "Now we import a few general packages, including basic numerics and algebra routines (numpy) and plotting routines (matplotlib), and makes sure that all plots are shown inside the notebook rather than in a separate window (nicer that way)."
   ]
  },
  {
   "cell_type": "code",
   "execution_count": 2,
   "metadata": {
    "collapsed": false
   },
   "outputs": [
    {
     "name": "stdout",
     "output_type": "stream",
     "text": [
      "Populating the interactive namespace from numpy and matplotlib\n"
     ]
    }
   ],
   "source": [
    "import os\n",
    "%pylab inline\n",
    "matplotlib.rcParams.update({'font.size': 12})"
   ]
  },
  {
   "cell_type": "markdown",
   "metadata": {},
   "source": [
    "Now we import the PyEMMA, mdtraj and MDAnalysis modules required for the following steps."
   ]
  },
  {
   "cell_type": "code",
   "execution_count": 3,
   "metadata": {
    "collapsed": false
   },
   "outputs": [
    {
     "name": "stderr",
     "output_type": "stream",
     "text": [
      "/usr/lib64/python2.7/site-packages/pyemma/__init__.py:108: UserWarning: You are not using the latest release of PyEMMA. Latest is 2.4, you have 2.3.\n",
      "  .format(latest=latest, current=current), category=UserWarning)\n"
     ]
    }
   ],
   "source": [
    "import pyemma.coordinates as coor\n",
    "import pyemma.msm as msm\n",
    "import pyemma.plots as mplt\n",
    "\n",
    "import MDAnalysis as mda\n",
    "import mdtraj as mdt"
   ]
  },
  {
   "cell_type": "markdown",
   "metadata": {},
   "source": [
    "Load coordinates and select features\n",
    "------\n",
    "\n",
    "We first have to load the PDB file and the trajectory data.\n",
    "In this section I specify the input files and what metrics (i.e. distances in this case) to measure -- those are called \"features\" in PyEMMA. I will use this framework to get the distances computed and I will apply some sorting to them later on..."
   ]
  },
  {
   "cell_type": "code",
   "execution_count": 4,
   "metadata": {
    "collapsed": false
   },
   "outputs": [],
   "source": [
    "indir = './NpT/sim22a_346mM_CaCl-2s_SPCE_non-tail-atoms_q-sc_0.80_sig-sc_0.89'\n",
    "topfile =  indir+'/confout.gro'\n",
    "from glob import glob\n",
    "traj_list = glob(indir+'/traj_comp.xtc')"
   ]
  },
  {
   "cell_type": "markdown",
   "metadata": {},
   "source": [
    "We can decide here which features we would like to use in the further analysis. In this case I select all distances between each calcium and Oxygen atoms in POPC. "
   ]
  },
  {
   "cell_type": "code",
   "execution_count": 5,
   "metadata": {
    "collapsed": false,
    "scrolled": true
   },
   "outputs": [],
   "source": [
    "feat = coor.featurizer(topfile)\n",
    "#feat.add_contacts(indices=feat.select(\"name P31\"), indices2=feat.select(\"index 17152\"), count_contacts=True)\n",
    "#feat.add_contacts(indices=feat.select(\"name P31\"), indices2=feat.select(\"index 17153\"), count_contacts=True)\n",
    "#feat.add_contacts(indices=feat.select(\"name P31\"), indices2=feat.select(\"index 17154\"), count_contacts=True)\n",
    "#feat.add_contacts(indices=feat.select(\"name P31\"), indices2=feat.select(\"index 17155\"), count_contacts=True)\n",
    "#groups_p = feat.select(\"name P31\")\n",
    "#groups_ca = feat.select(\"resname CA\")\n",
    "#groups_ca = feat.select(\"index 17153\")\n",
    "#groups = np.split(np.append(groups_ca, groups_p), range(1,1+groups_ca.shape[0]) )\n",
    "\n",
    "#pairs = [ [a,groups_ca.shape[0]] for a in range(groups_ca.shape[0])]\n",
    "\n",
    "#feat.add_group_mindist(groups, np.array(pairs))\n",
    "\n",
    "#feat.describe()\n",
    "\n",
    "#feat.add_distances\n",
    "#feat.add_distances(feat.pairs(feat.select_Heavy()))\n",
    "# describe the features\n",
    "# feat.describe()"
   ]
  },
  {
   "cell_type": "markdown",
   "metadata": {
    "collapsed": false
   },
   "source": [
    "Get the names, idices and the total number of selected atoms pear each residue"
   ]
  },
  {
   "cell_type": "code",
   "execution_count": 6,
   "metadata": {
    "collapsed": false
   },
   "outputs": [
    {
     "name": "stdout",
     "output_type": "stream",
     "text": [
      "Will select atoms:\n",
      "47 O12\n",
      "48 O11\n",
      "81 O21\n",
      "83 O22\n",
      "No. selected atoms per residue = 4\n"
     ]
    }
   ],
   "source": [
    "res = feat.topology.residue(0)\n",
    "n_at_per_res = 0\n",
    "print(\"Will select atoms:\")\n",
    "for a in res.atoms:\n",
    "    if a.name.startswith(\"O1\") or a.name.startswith(\"O2\"):\n",
    "        print(a.index,a.name)\n",
    "        n_at_per_res += 1\n",
    "        \n",
    "print(\"No. selected atoms per residue = {}\".format(n_at_per_res))"
   ]
  },
  {
   "cell_type": "code",
   "execution_count": 7,
   "metadata": {
    "collapsed": false
   },
   "outputs": [
    {
     "data": {
      "text/plain": [
       "['DIST: CA 6529 CA 36352 - POPC 1 O12 47',\n",
       " 'DIST: CA 6529 CA 36352 - POPC 1 O11 48',\n",
       " 'DIST: CA 6529 CA 36352 - POPC 1 O21 81',\n",
       " 'DIST: CA 6529 CA 36352 - POPC 1 O22 83',\n",
       " 'DIST: CA 6529 CA 36352 - POPC 2 O12 181',\n",
       " 'DIST: CA 6529 CA 36352 - POPC 2 O11 182',\n",
       " 'DIST: CA 6529 CA 36352 - POPC 2 O21 215',\n",
       " 'DIST: CA 6529 CA 36352 - POPC 2 O22 217',\n",
       " 'DIST: CA 6529 CA 36352 - POPC 3 O12 315',\n",
       " 'DIST: CA 6529 CA 36352 - POPC 3 O11 316',\n",
       " 'DIST: CA 6529 CA 36352 - POPC 3 O21 349',\n",
       " 'DIST: CA 6529 CA 36352 - POPC 3 O22 351',\n",
       " 'DIST: CA 6529 CA 36352 - POPC 4 O12 449',\n",
       " 'DIST: CA 6529 CA 36352 - POPC 4 O11 450',\n",
       " 'DIST: CA 6529 CA 36352 - POPC 4 O21 483',\n",
       " 'DIST: CA 6529 CA 36352 - POPC 4 O22 485',\n",
       " 'DIST: CA 6529 CA 36352 - POPC 5 O12 583',\n",
       " 'DIST: CA 6529 CA 36352 - POPC 5 O11 584',\n",
       " 'DIST: CA 6529 CA 36352 - POPC 5 O21 617',\n",
       " 'DIST: CA 6529 CA 36352 - POPC 5 O22 619',\n",
       " 'DIST: CA 6529 CA 36352 - POPC 6 O12 717',\n",
       " 'DIST: CA 6529 CA 36352 - POPC 6 O11 718',\n",
       " 'DIST: CA 6529 CA 36352 - POPC 6 O21 751',\n",
       " 'DIST: CA 6529 CA 36352 - POPC 6 O22 753',\n",
       " 'DIST: CA 6529 CA 36352 - POPC 7 O12 851',\n",
       " 'DIST: CA 6529 CA 36352 - POPC 7 O11 852',\n",
       " 'DIST: CA 6529 CA 36352 - POPC 7 O21 885',\n",
       " 'DIST: CA 6529 CA 36352 - POPC 7 O22 887',\n",
       " 'DIST: CA 6529 CA 36352 - POPC 8 O12 985',\n",
       " 'DIST: CA 6529 CA 36352 - POPC 8 O11 986',\n",
       " 'DIST: CA 6529 CA 36352 - POPC 8 O21 1019',\n",
       " 'DIST: CA 6529 CA 36352 - POPC 8 O22 1021',\n",
       " 'DIST: CA 6529 CA 36352 - POPC 9 O12 1119',\n",
       " 'DIST: CA 6529 CA 36352 - POPC 9 O11 1120',\n",
       " 'DIST: CA 6529 CA 36352 - POPC 9 O21 1153',\n",
       " 'DIST: CA 6529 CA 36352 - POPC 9 O22 1155',\n",
       " 'DIST: CA 6529 CA 36352 - POPC 10 O12 1253',\n",
       " 'DIST: CA 6529 CA 36352 - POPC 10 O11 1254',\n",
       " 'DIST: CA 6529 CA 36352 - POPC 10 O21 1287',\n",
       " 'DIST: CA 6529 CA 36352 - POPC 10 O22 1289',\n",
       " 'DIST: CA 6529 CA 36352 - POPC 11 O12 1387',\n",
       " 'DIST: CA 6529 CA 36352 - POPC 11 O11 1388',\n",
       " 'DIST: CA 6529 CA 36352 - POPC 11 O21 1421',\n",
       " 'DIST: CA 6529 CA 36352 - POPC 11 O22 1423',\n",
       " 'DIST: CA 6529 CA 36352 - POPC 12 O12 1521',\n",
       " 'DIST: CA 6529 CA 36352 - POPC 12 O11 1522',\n",
       " 'DIST: CA 6529 CA 36352 - POPC 12 O21 1555',\n",
       " 'DIST: CA 6529 CA 36352 - POPC 12 O22 1557',\n",
       " 'DIST: CA 6529 CA 36352 - POPC 13 O12 1655',\n",
       " 'DIST: CA 6529 CA 36352 - POPC 13 O11 1656',\n",
       " 'DIST: CA 6529 CA 36352 - POPC 13 O21 1689',\n",
       " 'DIST: CA 6529 CA 36352 - POPC 13 O22 1691',\n",
       " 'DIST: CA 6529 CA 36352 - POPC 14 O12 1789',\n",
       " 'DIST: CA 6529 CA 36352 - POPC 14 O11 1790',\n",
       " 'DIST: CA 6529 CA 36352 - POPC 14 O21 1823',\n",
       " 'DIST: CA 6529 CA 36352 - POPC 14 O22 1825',\n",
       " 'DIST: CA 6529 CA 36352 - POPC 15 O12 1923',\n",
       " 'DIST: CA 6529 CA 36352 - POPC 15 O11 1924',\n",
       " 'DIST: CA 6529 CA 36352 - POPC 15 O21 1957',\n",
       " 'DIST: CA 6529 CA 36352 - POPC 15 O22 1959',\n",
       " 'DIST: CA 6529 CA 36352 - POPC 16 O12 2057',\n",
       " 'DIST: CA 6529 CA 36352 - POPC 16 O11 2058',\n",
       " 'DIST: CA 6529 CA 36352 - POPC 16 O21 2091',\n",
       " 'DIST: CA 6529 CA 36352 - POPC 16 O22 2093',\n",
       " 'DIST: CA 6529 CA 36352 - POPC 17 O12 2191',\n",
       " 'DIST: CA 6529 CA 36352 - POPC 17 O11 2192',\n",
       " 'DIST: CA 6529 CA 36352 - POPC 17 O21 2225',\n",
       " 'DIST: CA 6529 CA 36352 - POPC 17 O22 2227',\n",
       " 'DIST: CA 6529 CA 36352 - POPC 18 O12 2325',\n",
       " 'DIST: CA 6529 CA 36352 - POPC 18 O11 2326',\n",
       " 'DIST: CA 6529 CA 36352 - POPC 18 O21 2359',\n",
       " 'DIST: CA 6529 CA 36352 - POPC 18 O22 2361',\n",
       " 'DIST: CA 6529 CA 36352 - POPC 19 O12 2459',\n",
       " 'DIST: CA 6529 CA 36352 - POPC 19 O11 2460',\n",
       " 'DIST: CA 6529 CA 36352 - POPC 19 O21 2493',\n",
       " 'DIST: CA 6529 CA 36352 - POPC 19 O22 2495',\n",
       " 'DIST: CA 6529 CA 36352 - POPC 20 O12 2593',\n",
       " 'DIST: CA 6529 CA 36352 - POPC 20 O11 2594',\n",
       " 'DIST: CA 6529 CA 36352 - POPC 20 O21 2627',\n",
       " 'DIST: CA 6529 CA 36352 - POPC 20 O22 2629',\n",
       " 'DIST: CA 6529 CA 36352 - POPC 21 O12 2727',\n",
       " 'DIST: CA 6529 CA 36352 - POPC 21 O11 2728',\n",
       " 'DIST: CA 6529 CA 36352 - POPC 21 O21 2761',\n",
       " 'DIST: CA 6529 CA 36352 - POPC 21 O22 2763',\n",
       " 'DIST: CA 6529 CA 36352 - POPC 22 O12 2861',\n",
       " 'DIST: CA 6529 CA 36352 - POPC 22 O11 2862',\n",
       " 'DIST: CA 6529 CA 36352 - POPC 22 O21 2895',\n",
       " 'DIST: CA 6529 CA 36352 - POPC 22 O22 2897',\n",
       " 'DIST: CA 6529 CA 36352 - POPC 23 O12 2995',\n",
       " 'DIST: CA 6529 CA 36352 - POPC 23 O11 2996',\n",
       " 'DIST: CA 6529 CA 36352 - POPC 23 O21 3029',\n",
       " 'DIST: CA 6529 CA 36352 - POPC 23 O22 3031',\n",
       " 'DIST: CA 6529 CA 36352 - POPC 24 O12 3129',\n",
       " 'DIST: CA 6529 CA 36352 - POPC 24 O11 3130',\n",
       " 'DIST: CA 6529 CA 36352 - POPC 24 O21 3163',\n",
       " 'DIST: CA 6529 CA 36352 - POPC 24 O22 3165',\n",
       " 'DIST: CA 6529 CA 36352 - POPC 25 O12 3263',\n",
       " 'DIST: CA 6529 CA 36352 - POPC 25 O11 3264',\n",
       " 'DIST: CA 6529 CA 36352 - POPC 25 O21 3297',\n",
       " 'DIST: CA 6529 CA 36352 - POPC 25 O22 3299',\n",
       " 'DIST: CA 6529 CA 36352 - POPC 26 O12 3397',\n",
       " 'DIST: CA 6529 CA 36352 - POPC 26 O11 3398',\n",
       " 'DIST: CA 6529 CA 36352 - POPC 26 O21 3431',\n",
       " 'DIST: CA 6529 CA 36352 - POPC 26 O22 3433',\n",
       " 'DIST: CA 6529 CA 36352 - POPC 27 O12 3531',\n",
       " 'DIST: CA 6529 CA 36352 - POPC 27 O11 3532',\n",
       " 'DIST: CA 6529 CA 36352 - POPC 27 O21 3565',\n",
       " 'DIST: CA 6529 CA 36352 - POPC 27 O22 3567',\n",
       " 'DIST: CA 6529 CA 36352 - POPC 28 O12 3665',\n",
       " 'DIST: CA 6529 CA 36352 - POPC 28 O11 3666',\n",
       " 'DIST: CA 6529 CA 36352 - POPC 28 O21 3699',\n",
       " 'DIST: CA 6529 CA 36352 - POPC 28 O22 3701',\n",
       " 'DIST: CA 6529 CA 36352 - POPC 29 O12 3799',\n",
       " 'DIST: CA 6529 CA 36352 - POPC 29 O11 3800',\n",
       " 'DIST: CA 6529 CA 36352 - POPC 29 O21 3833',\n",
       " 'DIST: CA 6529 CA 36352 - POPC 29 O22 3835',\n",
       " 'DIST: CA 6529 CA 36352 - POPC 30 O12 3933',\n",
       " 'DIST: CA 6529 CA 36352 - POPC 30 O11 3934',\n",
       " 'DIST: CA 6529 CA 36352 - POPC 30 O21 3967',\n",
       " 'DIST: CA 6529 CA 36352 - POPC 30 O22 3969',\n",
       " 'DIST: CA 6529 CA 36352 - POPC 31 O12 4067',\n",
       " 'DIST: CA 6529 CA 36352 - POPC 31 O11 4068',\n",
       " 'DIST: CA 6529 CA 36352 - POPC 31 O21 4101',\n",
       " 'DIST: CA 6529 CA 36352 - POPC 31 O22 4103',\n",
       " 'DIST: CA 6529 CA 36352 - POPC 32 O12 4201',\n",
       " 'DIST: CA 6529 CA 36352 - POPC 32 O11 4202',\n",
       " 'DIST: CA 6529 CA 36352 - POPC 32 O21 4235',\n",
       " 'DIST: CA 6529 CA 36352 - POPC 32 O22 4237',\n",
       " 'DIST: CA 6529 CA 36352 - POPC 33 O12 4335',\n",
       " 'DIST: CA 6529 CA 36352 - POPC 33 O11 4336',\n",
       " 'DIST: CA 6529 CA 36352 - POPC 33 O21 4369',\n",
       " 'DIST: CA 6529 CA 36352 - POPC 33 O22 4371',\n",
       " 'DIST: CA 6529 CA 36352 - POPC 34 O12 4469',\n",
       " 'DIST: CA 6529 CA 36352 - POPC 34 O11 4470',\n",
       " 'DIST: CA 6529 CA 36352 - POPC 34 O21 4503',\n",
       " 'DIST: CA 6529 CA 36352 - POPC 34 O22 4505',\n",
       " 'DIST: CA 6529 CA 36352 - POPC 35 O12 4603',\n",
       " 'DIST: CA 6529 CA 36352 - POPC 35 O11 4604',\n",
       " 'DIST: CA 6529 CA 36352 - POPC 35 O21 4637',\n",
       " 'DIST: CA 6529 CA 36352 - POPC 35 O22 4639',\n",
       " 'DIST: CA 6529 CA 36352 - POPC 36 O12 4737',\n",
       " 'DIST: CA 6529 CA 36352 - POPC 36 O11 4738',\n",
       " 'DIST: CA 6529 CA 36352 - POPC 36 O21 4771',\n",
       " 'DIST: CA 6529 CA 36352 - POPC 36 O22 4773',\n",
       " 'DIST: CA 6529 CA 36352 - POPC 37 O12 4871',\n",
       " 'DIST: CA 6529 CA 36352 - POPC 37 O11 4872',\n",
       " 'DIST: CA 6529 CA 36352 - POPC 37 O21 4905',\n",
       " 'DIST: CA 6529 CA 36352 - POPC 37 O22 4907',\n",
       " 'DIST: CA 6529 CA 36352 - POPC 38 O12 5005',\n",
       " 'DIST: CA 6529 CA 36352 - POPC 38 O11 5006',\n",
       " 'DIST: CA 6529 CA 36352 - POPC 38 O21 5039',\n",
       " 'DIST: CA 6529 CA 36352 - POPC 38 O22 5041',\n",
       " 'DIST: CA 6529 CA 36352 - POPC 39 O12 5139',\n",
       " 'DIST: CA 6529 CA 36352 - POPC 39 O11 5140',\n",
       " 'DIST: CA 6529 CA 36352 - POPC 39 O21 5173',\n",
       " 'DIST: CA 6529 CA 36352 - POPC 39 O22 5175',\n",
       " 'DIST: CA 6529 CA 36352 - POPC 40 O12 5273',\n",
       " 'DIST: CA 6529 CA 36352 - POPC 40 O11 5274',\n",
       " 'DIST: CA 6529 CA 36352 - POPC 40 O21 5307',\n",
       " 'DIST: CA 6529 CA 36352 - POPC 40 O22 5309',\n",
       " 'DIST: CA 6529 CA 36352 - POPC 41 O12 5407',\n",
       " 'DIST: CA 6529 CA 36352 - POPC 41 O11 5408',\n",
       " 'DIST: CA 6529 CA 36352 - POPC 41 O21 5441',\n",
       " 'DIST: CA 6529 CA 36352 - POPC 41 O22 5443',\n",
       " 'DIST: CA 6529 CA 36352 - POPC 42 O12 5541',\n",
       " 'DIST: CA 6529 CA 36352 - POPC 42 O11 5542',\n",
       " 'DIST: CA 6529 CA 36352 - POPC 42 O21 5575',\n",
       " 'DIST: CA 6529 CA 36352 - POPC 42 O22 5577',\n",
       " 'DIST: CA 6529 CA 36352 - POPC 43 O12 5675',\n",
       " 'DIST: CA 6529 CA 36352 - POPC 43 O11 5676',\n",
       " 'DIST: CA 6529 CA 36352 - POPC 43 O21 5709',\n",
       " 'DIST: CA 6529 CA 36352 - POPC 43 O22 5711',\n",
       " 'DIST: CA 6529 CA 36352 - POPC 44 O12 5809',\n",
       " 'DIST: CA 6529 CA 36352 - POPC 44 O11 5810',\n",
       " 'DIST: CA 6529 CA 36352 - POPC 44 O21 5843',\n",
       " 'DIST: CA 6529 CA 36352 - POPC 44 O22 5845',\n",
       " 'DIST: CA 6529 CA 36352 - POPC 45 O12 5943',\n",
       " 'DIST: CA 6529 CA 36352 - POPC 45 O11 5944',\n",
       " 'DIST: CA 6529 CA 36352 - POPC 45 O21 5977',\n",
       " 'DIST: CA 6529 CA 36352 - POPC 45 O22 5979',\n",
       " 'DIST: CA 6529 CA 36352 - POPC 46 O12 6077',\n",
       " 'DIST: CA 6529 CA 36352 - POPC 46 O11 6078',\n",
       " 'DIST: CA 6529 CA 36352 - POPC 46 O21 6111',\n",
       " 'DIST: CA 6529 CA 36352 - POPC 46 O22 6113',\n",
       " 'DIST: CA 6529 CA 36352 - POPC 47 O12 6211',\n",
       " 'DIST: CA 6529 CA 36352 - POPC 47 O11 6212',\n",
       " 'DIST: CA 6529 CA 36352 - POPC 47 O21 6245',\n",
       " 'DIST: CA 6529 CA 36352 - POPC 47 O22 6247',\n",
       " 'DIST: CA 6529 CA 36352 - POPC 48 O12 6345',\n",
       " 'DIST: CA 6529 CA 36352 - POPC 48 O11 6346',\n",
       " 'DIST: CA 6529 CA 36352 - POPC 48 O21 6379',\n",
       " 'DIST: CA 6529 CA 36352 - POPC 48 O22 6381',\n",
       " 'DIST: CA 6529 CA 36352 - POPC 49 O12 6479',\n",
       " 'DIST: CA 6529 CA 36352 - POPC 49 O11 6480',\n",
       " 'DIST: CA 6529 CA 36352 - POPC 49 O21 6513',\n",
       " 'DIST: CA 6529 CA 36352 - POPC 49 O22 6515',\n",
       " 'DIST: CA 6529 CA 36352 - POPC 50 O12 6613',\n",
       " 'DIST: CA 6529 CA 36352 - POPC 50 O11 6614',\n",
       " 'DIST: CA 6529 CA 36352 - POPC 50 O21 6647',\n",
       " 'DIST: CA 6529 CA 36352 - POPC 50 O22 6649',\n",
       " 'DIST: CA 6529 CA 36352 - POPC 51 O12 6747',\n",
       " 'DIST: CA 6529 CA 36352 - POPC 51 O11 6748',\n",
       " 'DIST: CA 6529 CA 36352 - POPC 51 O21 6781',\n",
       " 'DIST: CA 6529 CA 36352 - POPC 51 O22 6783',\n",
       " 'DIST: CA 6529 CA 36352 - POPC 52 O12 6881',\n",
       " 'DIST: CA 6529 CA 36352 - POPC 52 O11 6882',\n",
       " 'DIST: CA 6529 CA 36352 - POPC 52 O21 6915',\n",
       " 'DIST: CA 6529 CA 36352 - POPC 52 O22 6917',\n",
       " 'DIST: CA 6529 CA 36352 - POPC 53 O12 7015',\n",
       " 'DIST: CA 6529 CA 36352 - POPC 53 O11 7016',\n",
       " 'DIST: CA 6529 CA 36352 - POPC 53 O21 7049',\n",
       " 'DIST: CA 6529 CA 36352 - POPC 53 O22 7051',\n",
       " 'DIST: CA 6529 CA 36352 - POPC 54 O12 7149',\n",
       " 'DIST: CA 6529 CA 36352 - POPC 54 O11 7150',\n",
       " 'DIST: CA 6529 CA 36352 - POPC 54 O21 7183',\n",
       " 'DIST: CA 6529 CA 36352 - POPC 54 O22 7185',\n",
       " 'DIST: CA 6529 CA 36352 - POPC 55 O12 7283',\n",
       " 'DIST: CA 6529 CA 36352 - POPC 55 O11 7284',\n",
       " 'DIST: CA 6529 CA 36352 - POPC 55 O21 7317',\n",
       " 'DIST: CA 6529 CA 36352 - POPC 55 O22 7319',\n",
       " 'DIST: CA 6529 CA 36352 - POPC 56 O12 7417',\n",
       " 'DIST: CA 6529 CA 36352 - POPC 56 O11 7418',\n",
       " 'DIST: CA 6529 CA 36352 - POPC 56 O21 7451',\n",
       " 'DIST: CA 6529 CA 36352 - POPC 56 O22 7453',\n",
       " 'DIST: CA 6529 CA 36352 - POPC 57 O12 7551',\n",
       " 'DIST: CA 6529 CA 36352 - POPC 57 O11 7552',\n",
       " 'DIST: CA 6529 CA 36352 - POPC 57 O21 7585',\n",
       " 'DIST: CA 6529 CA 36352 - POPC 57 O22 7587',\n",
       " 'DIST: CA 6529 CA 36352 - POPC 58 O12 7685',\n",
       " 'DIST: CA 6529 CA 36352 - POPC 58 O11 7686',\n",
       " 'DIST: CA 6529 CA 36352 - POPC 58 O21 7719',\n",
       " 'DIST: CA 6529 CA 36352 - POPC 58 O22 7721',\n",
       " 'DIST: CA 6529 CA 36352 - POPC 59 O12 7819',\n",
       " 'DIST: CA 6529 CA 36352 - POPC 59 O11 7820',\n",
       " 'DIST: CA 6529 CA 36352 - POPC 59 O21 7853',\n",
       " 'DIST: CA 6529 CA 36352 - POPC 59 O22 7855',\n",
       " 'DIST: CA 6529 CA 36352 - POPC 60 O12 7953',\n",
       " 'DIST: CA 6529 CA 36352 - POPC 60 O11 7954',\n",
       " 'DIST: CA 6529 CA 36352 - POPC 60 O21 7987',\n",
       " 'DIST: CA 6529 CA 36352 - POPC 60 O22 7989',\n",
       " 'DIST: CA 6529 CA 36352 - POPC 61 O12 8087',\n",
       " 'DIST: CA 6529 CA 36352 - POPC 61 O11 8088',\n",
       " 'DIST: CA 6529 CA 36352 - POPC 61 O21 8121',\n",
       " 'DIST: CA 6529 CA 36352 - POPC 61 O22 8123',\n",
       " 'DIST: CA 6529 CA 36352 - POPC 62 O12 8221',\n",
       " 'DIST: CA 6529 CA 36352 - POPC 62 O11 8222',\n",
       " 'DIST: CA 6529 CA 36352 - POPC 62 O21 8255',\n",
       " 'DIST: CA 6529 CA 36352 - POPC 62 O22 8257',\n",
       " 'DIST: CA 6529 CA 36352 - POPC 63 O12 8355',\n",
       " 'DIST: CA 6529 CA 36352 - POPC 63 O11 8356',\n",
       " 'DIST: CA 6529 CA 36352 - POPC 63 O21 8389',\n",
       " 'DIST: CA 6529 CA 36352 - POPC 63 O22 8391',\n",
       " 'DIST: CA 6529 CA 36352 - POPC 64 O12 8489',\n",
       " 'DIST: CA 6529 CA 36352 - POPC 64 O11 8490',\n",
       " 'DIST: CA 6529 CA 36352 - POPC 64 O21 8523',\n",
       " 'DIST: CA 6529 CA 36352 - POPC 64 O22 8525',\n",
       " 'DIST: CA 6529 CA 36352 - POPC 65 O12 8623',\n",
       " 'DIST: CA 6529 CA 36352 - POPC 65 O11 8624',\n",
       " 'DIST: CA 6529 CA 36352 - POPC 65 O21 8657',\n",
       " 'DIST: CA 6529 CA 36352 - POPC 65 O22 8659',\n",
       " 'DIST: CA 6529 CA 36352 - POPC 66 O12 8757',\n",
       " 'DIST: CA 6529 CA 36352 - POPC 66 O11 8758',\n",
       " 'DIST: CA 6529 CA 36352 - POPC 66 O21 8791',\n",
       " 'DIST: CA 6529 CA 36352 - POPC 66 O22 8793',\n",
       " 'DIST: CA 6529 CA 36352 - POPC 67 O12 8891',\n",
       " 'DIST: CA 6529 CA 36352 - POPC 67 O11 8892',\n",
       " 'DIST: CA 6529 CA 36352 - POPC 67 O21 8925',\n",
       " 'DIST: CA 6529 CA 36352 - POPC 67 O22 8927',\n",
       " 'DIST: CA 6529 CA 36352 - POPC 68 O12 9025',\n",
       " 'DIST: CA 6529 CA 36352 - POPC 68 O11 9026',\n",
       " 'DIST: CA 6529 CA 36352 - POPC 68 O21 9059',\n",
       " 'DIST: CA 6529 CA 36352 - POPC 68 O22 9061',\n",
       " 'DIST: CA 6529 CA 36352 - POPC 69 O12 9159',\n",
       " 'DIST: CA 6529 CA 36352 - POPC 69 O11 9160',\n",
       " 'DIST: CA 6529 CA 36352 - POPC 69 O21 9193',\n",
       " 'DIST: CA 6529 CA 36352 - POPC 69 O22 9195',\n",
       " 'DIST: CA 6529 CA 36352 - POPC 70 O12 9293',\n",
       " 'DIST: CA 6529 CA 36352 - POPC 70 O11 9294',\n",
       " 'DIST: CA 6529 CA 36352 - POPC 70 O21 9327',\n",
       " 'DIST: CA 6529 CA 36352 - POPC 70 O22 9329',\n",
       " 'DIST: CA 6529 CA 36352 - POPC 71 O12 9427',\n",
       " 'DIST: CA 6529 CA 36352 - POPC 71 O11 9428',\n",
       " 'DIST: CA 6529 CA 36352 - POPC 71 O21 9461',\n",
       " 'DIST: CA 6529 CA 36352 - POPC 71 O22 9463',\n",
       " 'DIST: CA 6529 CA 36352 - POPC 72 O12 9561',\n",
       " 'DIST: CA 6529 CA 36352 - POPC 72 O11 9562',\n",
       " 'DIST: CA 6529 CA 36352 - POPC 72 O21 9595',\n",
       " 'DIST: CA 6529 CA 36352 - POPC 72 O22 9597',\n",
       " 'DIST: CA 6529 CA 36352 - POPC 73 O12 9695',\n",
       " 'DIST: CA 6529 CA 36352 - POPC 73 O11 9696',\n",
       " 'DIST: CA 6529 CA 36352 - POPC 73 O21 9729',\n",
       " 'DIST: CA 6529 CA 36352 - POPC 73 O22 9731',\n",
       " 'DIST: CA 6529 CA 36352 - POPC 74 O12 9829',\n",
       " 'DIST: CA 6529 CA 36352 - POPC 74 O11 9830',\n",
       " 'DIST: CA 6529 CA 36352 - POPC 74 O21 9863',\n",
       " 'DIST: CA 6529 CA 36352 - POPC 74 O22 9865',\n",
       " 'DIST: CA 6529 CA 36352 - POPC 75 O12 9963',\n",
       " 'DIST: CA 6529 CA 36352 - POPC 75 O11 9964',\n",
       " 'DIST: CA 6529 CA 36352 - POPC 75 O21 9997',\n",
       " 'DIST: CA 6529 CA 36352 - POPC 75 O22 9999',\n",
       " 'DIST: CA 6529 CA 36352 - POPC 76 O12 10097',\n",
       " 'DIST: CA 6529 CA 36352 - POPC 76 O11 10098',\n",
       " 'DIST: CA 6529 CA 36352 - POPC 76 O21 10131',\n",
       " 'DIST: CA 6529 CA 36352 - POPC 76 O22 10133',\n",
       " 'DIST: CA 6529 CA 36352 - POPC 77 O12 10231',\n",
       " 'DIST: CA 6529 CA 36352 - POPC 77 O11 10232',\n",
       " 'DIST: CA 6529 CA 36352 - POPC 77 O21 10265',\n",
       " 'DIST: CA 6529 CA 36352 - POPC 77 O22 10267',\n",
       " 'DIST: CA 6529 CA 36352 - POPC 78 O12 10365',\n",
       " 'DIST: CA 6529 CA 36352 - POPC 78 O11 10366',\n",
       " 'DIST: CA 6529 CA 36352 - POPC 78 O21 10399',\n",
       " 'DIST: CA 6529 CA 36352 - POPC 78 O22 10401',\n",
       " 'DIST: CA 6529 CA 36352 - POPC 79 O12 10499',\n",
       " 'DIST: CA 6529 CA 36352 - POPC 79 O11 10500',\n",
       " 'DIST: CA 6529 CA 36352 - POPC 79 O21 10533',\n",
       " 'DIST: CA 6529 CA 36352 - POPC 79 O22 10535',\n",
       " 'DIST: CA 6529 CA 36352 - POPC 80 O12 10633',\n",
       " 'DIST: CA 6529 CA 36352 - POPC 80 O11 10634',\n",
       " 'DIST: CA 6529 CA 36352 - POPC 80 O21 10667',\n",
       " 'DIST: CA 6529 CA 36352 - POPC 80 O22 10669',\n",
       " 'DIST: CA 6529 CA 36352 - POPC 81 O12 10767',\n",
       " 'DIST: CA 6529 CA 36352 - POPC 81 O11 10768',\n",
       " 'DIST: CA 6529 CA 36352 - POPC 81 O21 10801',\n",
       " 'DIST: CA 6529 CA 36352 - POPC 81 O22 10803',\n",
       " 'DIST: CA 6529 CA 36352 - POPC 82 O12 10901',\n",
       " 'DIST: CA 6529 CA 36352 - POPC 82 O11 10902',\n",
       " 'DIST: CA 6529 CA 36352 - POPC 82 O21 10935',\n",
       " 'DIST: CA 6529 CA 36352 - POPC 82 O22 10937',\n",
       " 'DIST: CA 6529 CA 36352 - POPC 83 O12 11035',\n",
       " 'DIST: CA 6529 CA 36352 - POPC 83 O11 11036',\n",
       " 'DIST: CA 6529 CA 36352 - POPC 83 O21 11069',\n",
       " 'DIST: CA 6529 CA 36352 - POPC 83 O22 11071',\n",
       " 'DIST: CA 6529 CA 36352 - POPC 84 O12 11169',\n",
       " 'DIST: CA 6529 CA 36352 - POPC 84 O11 11170',\n",
       " 'DIST: CA 6529 CA 36352 - POPC 84 O21 11203',\n",
       " 'DIST: CA 6529 CA 36352 - POPC 84 O22 11205',\n",
       " 'DIST: CA 6529 CA 36352 - POPC 85 O12 11303',\n",
       " 'DIST: CA 6529 CA 36352 - POPC 85 O11 11304',\n",
       " 'DIST: CA 6529 CA 36352 - POPC 85 O21 11337',\n",
       " 'DIST: CA 6529 CA 36352 - POPC 85 O22 11339',\n",
       " 'DIST: CA 6529 CA 36352 - POPC 86 O12 11437',\n",
       " 'DIST: CA 6529 CA 36352 - POPC 86 O11 11438',\n",
       " 'DIST: CA 6529 CA 36352 - POPC 86 O21 11471',\n",
       " 'DIST: CA 6529 CA 36352 - POPC 86 O22 11473',\n",
       " 'DIST: CA 6529 CA 36352 - POPC 87 O12 11571',\n",
       " 'DIST: CA 6529 CA 36352 - POPC 87 O11 11572',\n",
       " 'DIST: CA 6529 CA 36352 - POPC 87 O21 11605',\n",
       " 'DIST: CA 6529 CA 36352 - POPC 87 O22 11607',\n",
       " 'DIST: CA 6529 CA 36352 - POPC 88 O12 11705',\n",
       " 'DIST: CA 6529 CA 36352 - POPC 88 O11 11706',\n",
       " 'DIST: CA 6529 CA 36352 - POPC 88 O21 11739',\n",
       " 'DIST: CA 6529 CA 36352 - POPC 88 O22 11741',\n",
       " 'DIST: CA 6529 CA 36352 - POPC 89 O12 11839',\n",
       " 'DIST: CA 6529 CA 36352 - POPC 89 O11 11840',\n",
       " 'DIST: CA 6529 CA 36352 - POPC 89 O21 11873',\n",
       " 'DIST: CA 6529 CA 36352 - POPC 89 O22 11875',\n",
       " 'DIST: CA 6529 CA 36352 - POPC 90 O12 11973',\n",
       " 'DIST: CA 6529 CA 36352 - POPC 90 O11 11974',\n",
       " 'DIST: CA 6529 CA 36352 - POPC 90 O21 12007',\n",
       " 'DIST: CA 6529 CA 36352 - POPC 90 O22 12009',\n",
       " 'DIST: CA 6529 CA 36352 - POPC 91 O12 12107',\n",
       " 'DIST: CA 6529 CA 36352 - POPC 91 O11 12108',\n",
       " 'DIST: CA 6529 CA 36352 - POPC 91 O21 12141',\n",
       " 'DIST: CA 6529 CA 36352 - POPC 91 O22 12143',\n",
       " 'DIST: CA 6529 CA 36352 - POPC 92 O12 12241',\n",
       " 'DIST: CA 6529 CA 36352 - POPC 92 O11 12242',\n",
       " 'DIST: CA 6529 CA 36352 - POPC 92 O21 12275',\n",
       " 'DIST: CA 6529 CA 36352 - POPC 92 O22 12277',\n",
       " 'DIST: CA 6529 CA 36352 - POPC 93 O12 12375',\n",
       " 'DIST: CA 6529 CA 36352 - POPC 93 O11 12376',\n",
       " 'DIST: CA 6529 CA 36352 - POPC 93 O21 12409',\n",
       " 'DIST: CA 6529 CA 36352 - POPC 93 O22 12411',\n",
       " 'DIST: CA 6529 CA 36352 - POPC 94 O12 12509',\n",
       " 'DIST: CA 6529 CA 36352 - POPC 94 O11 12510',\n",
       " 'DIST: CA 6529 CA 36352 - POPC 94 O21 12543',\n",
       " 'DIST: CA 6529 CA 36352 - POPC 94 O22 12545',\n",
       " 'DIST: CA 6529 CA 36352 - POPC 95 O12 12643',\n",
       " 'DIST: CA 6529 CA 36352 - POPC 95 O11 12644',\n",
       " 'DIST: CA 6529 CA 36352 - POPC 95 O21 12677',\n",
       " 'DIST: CA 6529 CA 36352 - POPC 95 O22 12679',\n",
       " 'DIST: CA 6529 CA 36352 - POPC 96 O12 12777',\n",
       " 'DIST: CA 6529 CA 36352 - POPC 96 O11 12778',\n",
       " 'DIST: CA 6529 CA 36352 - POPC 96 O21 12811',\n",
       " 'DIST: CA 6529 CA 36352 - POPC 96 O22 12813',\n",
       " 'DIST: CA 6529 CA 36352 - POPC 97 O12 12911',\n",
       " 'DIST: CA 6529 CA 36352 - POPC 97 O11 12912',\n",
       " 'DIST: CA 6529 CA 36352 - POPC 97 O21 12945',\n",
       " 'DIST: CA 6529 CA 36352 - POPC 97 O22 12947',\n",
       " 'DIST: CA 6529 CA 36352 - POPC 98 O12 13045',\n",
       " 'DIST: CA 6529 CA 36352 - POPC 98 O11 13046',\n",
       " 'DIST: CA 6529 CA 36352 - POPC 98 O21 13079',\n",
       " 'DIST: CA 6529 CA 36352 - POPC 98 O22 13081',\n",
       " 'DIST: CA 6529 CA 36352 - POPC 99 O12 13179',\n",
       " 'DIST: CA 6529 CA 36352 - POPC 99 O11 13180',\n",
       " 'DIST: CA 6529 CA 36352 - POPC 99 O21 13213',\n",
       " 'DIST: CA 6529 CA 36352 - POPC 99 O22 13215',\n",
       " 'DIST: CA 6529 CA 36352 - POPC 100 O12 13313',\n",
       " 'DIST: CA 6529 CA 36352 - POPC 100 O11 13314',\n",
       " 'DIST: CA 6529 CA 36352 - POPC 100 O21 13347',\n",
       " 'DIST: CA 6529 CA 36352 - POPC 100 O22 13349',\n",
       " 'DIST: CA 6529 CA 36352 - POPC 101 O12 13447',\n",
       " 'DIST: CA 6529 CA 36352 - POPC 101 O11 13448',\n",
       " 'DIST: CA 6529 CA 36352 - POPC 101 O21 13481',\n",
       " 'DIST: CA 6529 CA 36352 - POPC 101 O22 13483',\n",
       " 'DIST: CA 6529 CA 36352 - POPC 102 O12 13581',\n",
       " 'DIST: CA 6529 CA 36352 - POPC 102 O11 13582',\n",
       " 'DIST: CA 6529 CA 36352 - POPC 102 O21 13615',\n",
       " 'DIST: CA 6529 CA 36352 - POPC 102 O22 13617',\n",
       " 'DIST: CA 6529 CA 36352 - POPC 103 O12 13715',\n",
       " 'DIST: CA 6529 CA 36352 - POPC 103 O11 13716',\n",
       " 'DIST: CA 6529 CA 36352 - POPC 103 O21 13749',\n",
       " 'DIST: CA 6529 CA 36352 - POPC 103 O22 13751',\n",
       " 'DIST: CA 6529 CA 36352 - POPC 104 O12 13849',\n",
       " 'DIST: CA 6529 CA 36352 - POPC 104 O11 13850',\n",
       " 'DIST: CA 6529 CA 36352 - POPC 104 O21 13883',\n",
       " 'DIST: CA 6529 CA 36352 - POPC 104 O22 13885',\n",
       " 'DIST: CA 6529 CA 36352 - POPC 105 O12 13983',\n",
       " 'DIST: CA 6529 CA 36352 - POPC 105 O11 13984',\n",
       " 'DIST: CA 6529 CA 36352 - POPC 105 O21 14017',\n",
       " 'DIST: CA 6529 CA 36352 - POPC 105 O22 14019',\n",
       " 'DIST: CA 6529 CA 36352 - POPC 106 O12 14117',\n",
       " 'DIST: CA 6529 CA 36352 - POPC 106 O11 14118',\n",
       " 'DIST: CA 6529 CA 36352 - POPC 106 O21 14151',\n",
       " 'DIST: CA 6529 CA 36352 - POPC 106 O22 14153',\n",
       " 'DIST: CA 6529 CA 36352 - POPC 107 O12 14251',\n",
       " 'DIST: CA 6529 CA 36352 - POPC 107 O11 14252',\n",
       " 'DIST: CA 6529 CA 36352 - POPC 107 O21 14285',\n",
       " 'DIST: CA 6529 CA 36352 - POPC 107 O22 14287',\n",
       " 'DIST: CA 6529 CA 36352 - POPC 108 O12 14385',\n",
       " 'DIST: CA 6529 CA 36352 - POPC 108 O11 14386',\n",
       " 'DIST: CA 6529 CA 36352 - POPC 108 O21 14419',\n",
       " 'DIST: CA 6529 CA 36352 - POPC 108 O22 14421',\n",
       " 'DIST: CA 6529 CA 36352 - POPC 109 O12 14519',\n",
       " 'DIST: CA 6529 CA 36352 - POPC 109 O11 14520',\n",
       " 'DIST: CA 6529 CA 36352 - POPC 109 O21 14553',\n",
       " 'DIST: CA 6529 CA 36352 - POPC 109 O22 14555',\n",
       " 'DIST: CA 6529 CA 36352 - POPC 110 O12 14653',\n",
       " 'DIST: CA 6529 CA 36352 - POPC 110 O11 14654',\n",
       " 'DIST: CA 6529 CA 36352 - POPC 110 O21 14687',\n",
       " 'DIST: CA 6529 CA 36352 - POPC 110 O22 14689',\n",
       " 'DIST: CA 6529 CA 36352 - POPC 111 O12 14787',\n",
       " 'DIST: CA 6529 CA 36352 - POPC 111 O11 14788',\n",
       " 'DIST: CA 6529 CA 36352 - POPC 111 O21 14821',\n",
       " 'DIST: CA 6529 CA 36352 - POPC 111 O22 14823',\n",
       " 'DIST: CA 6529 CA 36352 - POPC 112 O12 14921',\n",
       " 'DIST: CA 6529 CA 36352 - POPC 112 O11 14922',\n",
       " 'DIST: CA 6529 CA 36352 - POPC 112 O21 14955',\n",
       " 'DIST: CA 6529 CA 36352 - POPC 112 O22 14957',\n",
       " 'DIST: CA 6529 CA 36352 - POPC 113 O12 15055',\n",
       " 'DIST: CA 6529 CA 36352 - POPC 113 O11 15056',\n",
       " 'DIST: CA 6529 CA 36352 - POPC 113 O21 15089',\n",
       " 'DIST: CA 6529 CA 36352 - POPC 113 O22 15091',\n",
       " 'DIST: CA 6529 CA 36352 - POPC 114 O12 15189',\n",
       " 'DIST: CA 6529 CA 36352 - POPC 114 O11 15190',\n",
       " 'DIST: CA 6529 CA 36352 - POPC 114 O21 15223',\n",
       " 'DIST: CA 6529 CA 36352 - POPC 114 O22 15225',\n",
       " 'DIST: CA 6529 CA 36352 - POPC 115 O12 15323',\n",
       " 'DIST: CA 6529 CA 36352 - POPC 115 O11 15324',\n",
       " 'DIST: CA 6529 CA 36352 - POPC 115 O21 15357',\n",
       " 'DIST: CA 6529 CA 36352 - POPC 115 O22 15359',\n",
       " 'DIST: CA 6529 CA 36352 - POPC 116 O12 15457',\n",
       " 'DIST: CA 6529 CA 36352 - POPC 116 O11 15458',\n",
       " 'DIST: CA 6529 CA 36352 - POPC 116 O21 15491',\n",
       " 'DIST: CA 6529 CA 36352 - POPC 116 O22 15493',\n",
       " 'DIST: CA 6529 CA 36352 - POPC 117 O12 15591',\n",
       " 'DIST: CA 6529 CA 36352 - POPC 117 O11 15592',\n",
       " 'DIST: CA 6529 CA 36352 - POPC 117 O21 15625',\n",
       " 'DIST: CA 6529 CA 36352 - POPC 117 O22 15627',\n",
       " 'DIST: CA 6529 CA 36352 - POPC 118 O12 15725',\n",
       " 'DIST: CA 6529 CA 36352 - POPC 118 O11 15726',\n",
       " 'DIST: CA 6529 CA 36352 - POPC 118 O21 15759',\n",
       " 'DIST: CA 6529 CA 36352 - POPC 118 O22 15761',\n",
       " 'DIST: CA 6529 CA 36352 - POPC 119 O12 15859',\n",
       " 'DIST: CA 6529 CA 36352 - POPC 119 O11 15860',\n",
       " 'DIST: CA 6529 CA 36352 - POPC 119 O21 15893',\n",
       " 'DIST: CA 6529 CA 36352 - POPC 119 O22 15895',\n",
       " 'DIST: CA 6529 CA 36352 - POPC 120 O12 15993',\n",
       " 'DIST: CA 6529 CA 36352 - POPC 120 O11 15994',\n",
       " 'DIST: CA 6529 CA 36352 - POPC 120 O21 16027',\n",
       " 'DIST: CA 6529 CA 36352 - POPC 120 O22 16029',\n",
       " 'DIST: CA 6529 CA 36352 - POPC 121 O12 16127',\n",
       " 'DIST: CA 6529 CA 36352 - POPC 121 O11 16128',\n",
       " 'DIST: CA 6529 CA 36352 - POPC 121 O21 16161',\n",
       " 'DIST: CA 6529 CA 36352 - POPC 121 O22 16163',\n",
       " 'DIST: CA 6529 CA 36352 - POPC 122 O12 16261',\n",
       " 'DIST: CA 6529 CA 36352 - POPC 122 O11 16262',\n",
       " 'DIST: CA 6529 CA 36352 - POPC 122 O21 16295',\n",
       " 'DIST: CA 6529 CA 36352 - POPC 122 O22 16297',\n",
       " 'DIST: CA 6529 CA 36352 - POPC 123 O12 16395',\n",
       " 'DIST: CA 6529 CA 36352 - POPC 123 O11 16396',\n",
       " 'DIST: CA 6529 CA 36352 - POPC 123 O21 16429',\n",
       " 'DIST: CA 6529 CA 36352 - POPC 123 O22 16431',\n",
       " 'DIST: CA 6529 CA 36352 - POPC 124 O12 16529',\n",
       " 'DIST: CA 6529 CA 36352 - POPC 124 O11 16530',\n",
       " 'DIST: CA 6529 CA 36352 - POPC 124 O21 16563',\n",
       " 'DIST: CA 6529 CA 36352 - POPC 124 O22 16565',\n",
       " 'DIST: CA 6529 CA 36352 - POPC 125 O12 16663',\n",
       " 'DIST: CA 6529 CA 36352 - POPC 125 O11 16664',\n",
       " 'DIST: CA 6529 CA 36352 - POPC 125 O21 16697',\n",
       " 'DIST: CA 6529 CA 36352 - POPC 125 O22 16699',\n",
       " 'DIST: CA 6529 CA 36352 - POPC 126 O12 16797',\n",
       " 'DIST: CA 6529 CA 36352 - POPC 126 O11 16798',\n",
       " 'DIST: CA 6529 CA 36352 - POPC 126 O21 16831',\n",
       " 'DIST: CA 6529 CA 36352 - POPC 126 O22 16833',\n",
       " 'DIST: CA 6529 CA 36352 - POPC 127 O12 16931',\n",
       " 'DIST: CA 6529 CA 36352 - POPC 127 O11 16932',\n",
       " 'DIST: CA 6529 CA 36352 - POPC 127 O21 16965',\n",
       " 'DIST: CA 6529 CA 36352 - POPC 127 O22 16967',\n",
       " 'DIST: CA 6529 CA 36352 - POPC 128 O12 17065',\n",
       " 'DIST: CA 6529 CA 36352 - POPC 128 O11 17066',\n",
       " 'DIST: CA 6529 CA 36352 - POPC 128 O21 17099',\n",
       " 'DIST: CA 6529 CA 36352 - POPC 128 O22 17101',\n",
       " 'DIST: CA 6530 CA 36353 - POPC 1 O12 47',\n",
       " 'DIST: CA 6530 CA 36353 - POPC 1 O11 48',\n",
       " 'DIST: CA 6530 CA 36353 - POPC 1 O21 81',\n",
       " 'DIST: CA 6530 CA 36353 - POPC 1 O22 83',\n",
       " 'DIST: CA 6530 CA 36353 - POPC 2 O12 181',\n",
       " 'DIST: CA 6530 CA 36353 - POPC 2 O11 182',\n",
       " 'DIST: CA 6530 CA 36353 - POPC 2 O21 215',\n",
       " 'DIST: CA 6530 CA 36353 - POPC 2 O22 217',\n",
       " 'DIST: CA 6530 CA 36353 - POPC 3 O12 315',\n",
       " 'DIST: CA 6530 CA 36353 - POPC 3 O11 316',\n",
       " 'DIST: CA 6530 CA 36353 - POPC 3 O21 349',\n",
       " 'DIST: CA 6530 CA 36353 - POPC 3 O22 351',\n",
       " 'DIST: CA 6530 CA 36353 - POPC 4 O12 449',\n",
       " 'DIST: CA 6530 CA 36353 - POPC 4 O11 450',\n",
       " 'DIST: CA 6530 CA 36353 - POPC 4 O21 483',\n",
       " 'DIST: CA 6530 CA 36353 - POPC 4 O22 485',\n",
       " 'DIST: CA 6530 CA 36353 - POPC 5 O12 583',\n",
       " 'DIST: CA 6530 CA 36353 - POPC 5 O11 584',\n",
       " 'DIST: CA 6530 CA 36353 - POPC 5 O21 617',\n",
       " 'DIST: CA 6530 CA 36353 - POPC 5 O22 619',\n",
       " 'DIST: CA 6530 CA 36353 - POPC 6 O12 717',\n",
       " 'DIST: CA 6530 CA 36353 - POPC 6 O11 718',\n",
       " 'DIST: CA 6530 CA 36353 - POPC 6 O21 751',\n",
       " 'DIST: CA 6530 CA 36353 - POPC 6 O22 753',\n",
       " 'DIST: CA 6530 CA 36353 - POPC 7 O12 851',\n",
       " 'DIST: CA 6530 CA 36353 - POPC 7 O11 852',\n",
       " 'DIST: CA 6530 CA 36353 - POPC 7 O21 885',\n",
       " 'DIST: CA 6530 CA 36353 - POPC 7 O22 887',\n",
       " 'DIST: CA 6530 CA 36353 - POPC 8 O12 985',\n",
       " 'DIST: CA 6530 CA 36353 - POPC 8 O11 986',\n",
       " 'DIST: CA 6530 CA 36353 - POPC 8 O21 1019',\n",
       " 'DIST: CA 6530 CA 36353 - POPC 8 O22 1021',\n",
       " 'DIST: CA 6530 CA 36353 - POPC 9 O12 1119',\n",
       " 'DIST: CA 6530 CA 36353 - POPC 9 O11 1120',\n",
       " 'DIST: CA 6530 CA 36353 - POPC 9 O21 1153',\n",
       " 'DIST: CA 6530 CA 36353 - POPC 9 O22 1155',\n",
       " 'DIST: CA 6530 CA 36353 - POPC 10 O12 1253',\n",
       " 'DIST: CA 6530 CA 36353 - POPC 10 O11 1254',\n",
       " 'DIST: CA 6530 CA 36353 - POPC 10 O21 1287',\n",
       " 'DIST: CA 6530 CA 36353 - POPC 10 O22 1289',\n",
       " 'DIST: CA 6530 CA 36353 - POPC 11 O12 1387',\n",
       " 'DIST: CA 6530 CA 36353 - POPC 11 O11 1388',\n",
       " 'DIST: CA 6530 CA 36353 - POPC 11 O21 1421',\n",
       " 'DIST: CA 6530 CA 36353 - POPC 11 O22 1423',\n",
       " 'DIST: CA 6530 CA 36353 - POPC 12 O12 1521',\n",
       " 'DIST: CA 6530 CA 36353 - POPC 12 O11 1522',\n",
       " 'DIST: CA 6530 CA 36353 - POPC 12 O21 1555',\n",
       " 'DIST: CA 6530 CA 36353 - POPC 12 O22 1557',\n",
       " 'DIST: CA 6530 CA 36353 - POPC 13 O12 1655',\n",
       " 'DIST: CA 6530 CA 36353 - POPC 13 O11 1656',\n",
       " 'DIST: CA 6530 CA 36353 - POPC 13 O21 1689',\n",
       " 'DIST: CA 6530 CA 36353 - POPC 13 O22 1691',\n",
       " 'DIST: CA 6530 CA 36353 - POPC 14 O12 1789',\n",
       " 'DIST: CA 6530 CA 36353 - POPC 14 O11 1790',\n",
       " 'DIST: CA 6530 CA 36353 - POPC 14 O21 1823',\n",
       " 'DIST: CA 6530 CA 36353 - POPC 14 O22 1825',\n",
       " 'DIST: CA 6530 CA 36353 - POPC 15 O12 1923',\n",
       " 'DIST: CA 6530 CA 36353 - POPC 15 O11 1924',\n",
       " 'DIST: CA 6530 CA 36353 - POPC 15 O21 1957',\n",
       " 'DIST: CA 6530 CA 36353 - POPC 15 O22 1959',\n",
       " 'DIST: CA 6530 CA 36353 - POPC 16 O12 2057',\n",
       " 'DIST: CA 6530 CA 36353 - POPC 16 O11 2058',\n",
       " 'DIST: CA 6530 CA 36353 - POPC 16 O21 2091',\n",
       " 'DIST: CA 6530 CA 36353 - POPC 16 O22 2093',\n",
       " 'DIST: CA 6530 CA 36353 - POPC 17 O12 2191',\n",
       " 'DIST: CA 6530 CA 36353 - POPC 17 O11 2192',\n",
       " 'DIST: CA 6530 CA 36353 - POPC 17 O21 2225',\n",
       " 'DIST: CA 6530 CA 36353 - POPC 17 O22 2227',\n",
       " 'DIST: CA 6530 CA 36353 - POPC 18 O12 2325',\n",
       " 'DIST: CA 6530 CA 36353 - POPC 18 O11 2326',\n",
       " 'DIST: CA 6530 CA 36353 - POPC 18 O21 2359',\n",
       " 'DIST: CA 6530 CA 36353 - POPC 18 O22 2361',\n",
       " 'DIST: CA 6530 CA 36353 - POPC 19 O12 2459',\n",
       " 'DIST: CA 6530 CA 36353 - POPC 19 O11 2460',\n",
       " 'DIST: CA 6530 CA 36353 - POPC 19 O21 2493',\n",
       " 'DIST: CA 6530 CA 36353 - POPC 19 O22 2495',\n",
       " 'DIST: CA 6530 CA 36353 - POPC 20 O12 2593',\n",
       " 'DIST: CA 6530 CA 36353 - POPC 20 O11 2594',\n",
       " 'DIST: CA 6530 CA 36353 - POPC 20 O21 2627',\n",
       " 'DIST: CA 6530 CA 36353 - POPC 20 O22 2629',\n",
       " 'DIST: CA 6530 CA 36353 - POPC 21 O12 2727',\n",
       " 'DIST: CA 6530 CA 36353 - POPC 21 O11 2728',\n",
       " 'DIST: CA 6530 CA 36353 - POPC 21 O21 2761',\n",
       " 'DIST: CA 6530 CA 36353 - POPC 21 O22 2763',\n",
       " 'DIST: CA 6530 CA 36353 - POPC 22 O12 2861',\n",
       " 'DIST: CA 6530 CA 36353 - POPC 22 O11 2862',\n",
       " 'DIST: CA 6530 CA 36353 - POPC 22 O21 2895',\n",
       " 'DIST: CA 6530 CA 36353 - POPC 22 O22 2897',\n",
       " 'DIST: CA 6530 CA 36353 - POPC 23 O12 2995',\n",
       " 'DIST: CA 6530 CA 36353 - POPC 23 O11 2996',\n",
       " 'DIST: CA 6530 CA 36353 - POPC 23 O21 3029',\n",
       " 'DIST: CA 6530 CA 36353 - POPC 23 O22 3031',\n",
       " 'DIST: CA 6530 CA 36353 - POPC 24 O12 3129',\n",
       " 'DIST: CA 6530 CA 36353 - POPC 24 O11 3130',\n",
       " 'DIST: CA 6530 CA 36353 - POPC 24 O21 3163',\n",
       " 'DIST: CA 6530 CA 36353 - POPC 24 O22 3165',\n",
       " 'DIST: CA 6530 CA 36353 - POPC 25 O12 3263',\n",
       " 'DIST: CA 6530 CA 36353 - POPC 25 O11 3264',\n",
       " 'DIST: CA 6530 CA 36353 - POPC 25 O21 3297',\n",
       " 'DIST: CA 6530 CA 36353 - POPC 25 O22 3299',\n",
       " 'DIST: CA 6530 CA 36353 - POPC 26 O12 3397',\n",
       " 'DIST: CA 6530 CA 36353 - POPC 26 O11 3398',\n",
       " 'DIST: CA 6530 CA 36353 - POPC 26 O21 3431',\n",
       " 'DIST: CA 6530 CA 36353 - POPC 26 O22 3433',\n",
       " 'DIST: CA 6530 CA 36353 - POPC 27 O12 3531',\n",
       " 'DIST: CA 6530 CA 36353 - POPC 27 O11 3532',\n",
       " 'DIST: CA 6530 CA 36353 - POPC 27 O21 3565',\n",
       " 'DIST: CA 6530 CA 36353 - POPC 27 O22 3567',\n",
       " 'DIST: CA 6530 CA 36353 - POPC 28 O12 3665',\n",
       " 'DIST: CA 6530 CA 36353 - POPC 28 O11 3666',\n",
       " 'DIST: CA 6530 CA 36353 - POPC 28 O21 3699',\n",
       " 'DIST: CA 6530 CA 36353 - POPC 28 O22 3701',\n",
       " 'DIST: CA 6530 CA 36353 - POPC 29 O12 3799',\n",
       " 'DIST: CA 6530 CA 36353 - POPC 29 O11 3800',\n",
       " 'DIST: CA 6530 CA 36353 - POPC 29 O21 3833',\n",
       " 'DIST: CA 6530 CA 36353 - POPC 29 O22 3835',\n",
       " 'DIST: CA 6530 CA 36353 - POPC 30 O12 3933',\n",
       " 'DIST: CA 6530 CA 36353 - POPC 30 O11 3934',\n",
       " 'DIST: CA 6530 CA 36353 - POPC 30 O21 3967',\n",
       " 'DIST: CA 6530 CA 36353 - POPC 30 O22 3969',\n",
       " 'DIST: CA 6530 CA 36353 - POPC 31 O12 4067',\n",
       " 'DIST: CA 6530 CA 36353 - POPC 31 O11 4068',\n",
       " 'DIST: CA 6530 CA 36353 - POPC 31 O21 4101',\n",
       " 'DIST: CA 6530 CA 36353 - POPC 31 O22 4103',\n",
       " 'DIST: CA 6530 CA 36353 - POPC 32 O12 4201',\n",
       " 'DIST: CA 6530 CA 36353 - POPC 32 O11 4202',\n",
       " 'DIST: CA 6530 CA 36353 - POPC 32 O21 4235',\n",
       " 'DIST: CA 6530 CA 36353 - POPC 32 O22 4237',\n",
       " 'DIST: CA 6530 CA 36353 - POPC 33 O12 4335',\n",
       " 'DIST: CA 6530 CA 36353 - POPC 33 O11 4336',\n",
       " 'DIST: CA 6530 CA 36353 - POPC 33 O21 4369',\n",
       " 'DIST: CA 6530 CA 36353 - POPC 33 O22 4371',\n",
       " 'DIST: CA 6530 CA 36353 - POPC 34 O12 4469',\n",
       " 'DIST: CA 6530 CA 36353 - POPC 34 O11 4470',\n",
       " 'DIST: CA 6530 CA 36353 - POPC 34 O21 4503',\n",
       " 'DIST: CA 6530 CA 36353 - POPC 34 O22 4505',\n",
       " 'DIST: CA 6530 CA 36353 - POPC 35 O12 4603',\n",
       " 'DIST: CA 6530 CA 36353 - POPC 35 O11 4604',\n",
       " 'DIST: CA 6530 CA 36353 - POPC 35 O21 4637',\n",
       " 'DIST: CA 6530 CA 36353 - POPC 35 O22 4639',\n",
       " 'DIST: CA 6530 CA 36353 - POPC 36 O12 4737',\n",
       " 'DIST: CA 6530 CA 36353 - POPC 36 O11 4738',\n",
       " 'DIST: CA 6530 CA 36353 - POPC 36 O21 4771',\n",
       " 'DIST: CA 6530 CA 36353 - POPC 36 O22 4773',\n",
       " 'DIST: CA 6530 CA 36353 - POPC 37 O12 4871',\n",
       " 'DIST: CA 6530 CA 36353 - POPC 37 O11 4872',\n",
       " 'DIST: CA 6530 CA 36353 - POPC 37 O21 4905',\n",
       " 'DIST: CA 6530 CA 36353 - POPC 37 O22 4907',\n",
       " 'DIST: CA 6530 CA 36353 - POPC 38 O12 5005',\n",
       " 'DIST: CA 6530 CA 36353 - POPC 38 O11 5006',\n",
       " 'DIST: CA 6530 CA 36353 - POPC 38 O21 5039',\n",
       " 'DIST: CA 6530 CA 36353 - POPC 38 O22 5041',\n",
       " 'DIST: CA 6530 CA 36353 - POPC 39 O12 5139',\n",
       " 'DIST: CA 6530 CA 36353 - POPC 39 O11 5140',\n",
       " 'DIST: CA 6530 CA 36353 - POPC 39 O21 5173',\n",
       " 'DIST: CA 6530 CA 36353 - POPC 39 O22 5175',\n",
       " 'DIST: CA 6530 CA 36353 - POPC 40 O12 5273',\n",
       " 'DIST: CA 6530 CA 36353 - POPC 40 O11 5274',\n",
       " 'DIST: CA 6530 CA 36353 - POPC 40 O21 5307',\n",
       " 'DIST: CA 6530 CA 36353 - POPC 40 O22 5309',\n",
       " 'DIST: CA 6530 CA 36353 - POPC 41 O12 5407',\n",
       " 'DIST: CA 6530 CA 36353 - POPC 41 O11 5408',\n",
       " 'DIST: CA 6530 CA 36353 - POPC 41 O21 5441',\n",
       " 'DIST: CA 6530 CA 36353 - POPC 41 O22 5443',\n",
       " 'DIST: CA 6530 CA 36353 - POPC 42 O12 5541',\n",
       " 'DIST: CA 6530 CA 36353 - POPC 42 O11 5542',\n",
       " 'DIST: CA 6530 CA 36353 - POPC 42 O21 5575',\n",
       " 'DIST: CA 6530 CA 36353 - POPC 42 O22 5577',\n",
       " 'DIST: CA 6530 CA 36353 - POPC 43 O12 5675',\n",
       " 'DIST: CA 6530 CA 36353 - POPC 43 O11 5676',\n",
       " 'DIST: CA 6530 CA 36353 - POPC 43 O21 5709',\n",
       " 'DIST: CA 6530 CA 36353 - POPC 43 O22 5711',\n",
       " 'DIST: CA 6530 CA 36353 - POPC 44 O12 5809',\n",
       " 'DIST: CA 6530 CA 36353 - POPC 44 O11 5810',\n",
       " 'DIST: CA 6530 CA 36353 - POPC 44 O21 5843',\n",
       " 'DIST: CA 6530 CA 36353 - POPC 44 O22 5845',\n",
       " 'DIST: CA 6530 CA 36353 - POPC 45 O12 5943',\n",
       " 'DIST: CA 6530 CA 36353 - POPC 45 O11 5944',\n",
       " 'DIST: CA 6530 CA 36353 - POPC 45 O21 5977',\n",
       " 'DIST: CA 6530 CA 36353 - POPC 45 O22 5979',\n",
       " 'DIST: CA 6530 CA 36353 - POPC 46 O12 6077',\n",
       " 'DIST: CA 6530 CA 36353 - POPC 46 O11 6078',\n",
       " 'DIST: CA 6530 CA 36353 - POPC 46 O21 6111',\n",
       " 'DIST: CA 6530 CA 36353 - POPC 46 O22 6113',\n",
       " 'DIST: CA 6530 CA 36353 - POPC 47 O12 6211',\n",
       " 'DIST: CA 6530 CA 36353 - POPC 47 O11 6212',\n",
       " 'DIST: CA 6530 CA 36353 - POPC 47 O21 6245',\n",
       " 'DIST: CA 6530 CA 36353 - POPC 47 O22 6247',\n",
       " 'DIST: CA 6530 CA 36353 - POPC 48 O12 6345',\n",
       " 'DIST: CA 6530 CA 36353 - POPC 48 O11 6346',\n",
       " 'DIST: CA 6530 CA 36353 - POPC 48 O21 6379',\n",
       " 'DIST: CA 6530 CA 36353 - POPC 48 O22 6381',\n",
       " 'DIST: CA 6530 CA 36353 - POPC 49 O12 6479',\n",
       " 'DIST: CA 6530 CA 36353 - POPC 49 O11 6480',\n",
       " 'DIST: CA 6530 CA 36353 - POPC 49 O21 6513',\n",
       " 'DIST: CA 6530 CA 36353 - POPC 49 O22 6515',\n",
       " 'DIST: CA 6530 CA 36353 - POPC 50 O12 6613',\n",
       " 'DIST: CA 6530 CA 36353 - POPC 50 O11 6614',\n",
       " 'DIST: CA 6530 CA 36353 - POPC 50 O21 6647',\n",
       " 'DIST: CA 6530 CA 36353 - POPC 50 O22 6649',\n",
       " 'DIST: CA 6530 CA 36353 - POPC 51 O12 6747',\n",
       " 'DIST: CA 6530 CA 36353 - POPC 51 O11 6748',\n",
       " 'DIST: CA 6530 CA 36353 - POPC 51 O21 6781',\n",
       " 'DIST: CA 6530 CA 36353 - POPC 51 O22 6783',\n",
       " 'DIST: CA 6530 CA 36353 - POPC 52 O12 6881',\n",
       " 'DIST: CA 6530 CA 36353 - POPC 52 O11 6882',\n",
       " 'DIST: CA 6530 CA 36353 - POPC 52 O21 6915',\n",
       " 'DIST: CA 6530 CA 36353 - POPC 52 O22 6917',\n",
       " 'DIST: CA 6530 CA 36353 - POPC 53 O12 7015',\n",
       " 'DIST: CA 6530 CA 36353 - POPC 53 O11 7016',\n",
       " 'DIST: CA 6530 CA 36353 - POPC 53 O21 7049',\n",
       " 'DIST: CA 6530 CA 36353 - POPC 53 O22 7051',\n",
       " 'DIST: CA 6530 CA 36353 - POPC 54 O12 7149',\n",
       " 'DIST: CA 6530 CA 36353 - POPC 54 O11 7150',\n",
       " 'DIST: CA 6530 CA 36353 - POPC 54 O21 7183',\n",
       " 'DIST: CA 6530 CA 36353 - POPC 54 O22 7185',\n",
       " 'DIST: CA 6530 CA 36353 - POPC 55 O12 7283',\n",
       " 'DIST: CA 6530 CA 36353 - POPC 55 O11 7284',\n",
       " 'DIST: CA 6530 CA 36353 - POPC 55 O21 7317',\n",
       " 'DIST: CA 6530 CA 36353 - POPC 55 O22 7319',\n",
       " 'DIST: CA 6530 CA 36353 - POPC 56 O12 7417',\n",
       " 'DIST: CA 6530 CA 36353 - POPC 56 O11 7418',\n",
       " 'DIST: CA 6530 CA 36353 - POPC 56 O21 7451',\n",
       " 'DIST: CA 6530 CA 36353 - POPC 56 O22 7453',\n",
       " 'DIST: CA 6530 CA 36353 - POPC 57 O12 7551',\n",
       " 'DIST: CA 6530 CA 36353 - POPC 57 O11 7552',\n",
       " 'DIST: CA 6530 CA 36353 - POPC 57 O21 7585',\n",
       " 'DIST: CA 6530 CA 36353 - POPC 57 O22 7587',\n",
       " 'DIST: CA 6530 CA 36353 - POPC 58 O12 7685',\n",
       " 'DIST: CA 6530 CA 36353 - POPC 58 O11 7686',\n",
       " 'DIST: CA 6530 CA 36353 - POPC 58 O21 7719',\n",
       " 'DIST: CA 6530 CA 36353 - POPC 58 O22 7721',\n",
       " 'DIST: CA 6530 CA 36353 - POPC 59 O12 7819',\n",
       " 'DIST: CA 6530 CA 36353 - POPC 59 O11 7820',\n",
       " 'DIST: CA 6530 CA 36353 - POPC 59 O21 7853',\n",
       " 'DIST: CA 6530 CA 36353 - POPC 59 O22 7855',\n",
       " 'DIST: CA 6530 CA 36353 - POPC 60 O12 7953',\n",
       " 'DIST: CA 6530 CA 36353 - POPC 60 O11 7954',\n",
       " 'DIST: CA 6530 CA 36353 - POPC 60 O21 7987',\n",
       " 'DIST: CA 6530 CA 36353 - POPC 60 O22 7989',\n",
       " 'DIST: CA 6530 CA 36353 - POPC 61 O12 8087',\n",
       " 'DIST: CA 6530 CA 36353 - POPC 61 O11 8088',\n",
       " 'DIST: CA 6530 CA 36353 - POPC 61 O21 8121',\n",
       " 'DIST: CA 6530 CA 36353 - POPC 61 O22 8123',\n",
       " 'DIST: CA 6530 CA 36353 - POPC 62 O12 8221',\n",
       " 'DIST: CA 6530 CA 36353 - POPC 62 O11 8222',\n",
       " 'DIST: CA 6530 CA 36353 - POPC 62 O21 8255',\n",
       " 'DIST: CA 6530 CA 36353 - POPC 62 O22 8257',\n",
       " 'DIST: CA 6530 CA 36353 - POPC 63 O12 8355',\n",
       " 'DIST: CA 6530 CA 36353 - POPC 63 O11 8356',\n",
       " 'DIST: CA 6530 CA 36353 - POPC 63 O21 8389',\n",
       " 'DIST: CA 6530 CA 36353 - POPC 63 O22 8391',\n",
       " 'DIST: CA 6530 CA 36353 - POPC 64 O12 8489',\n",
       " 'DIST: CA 6530 CA 36353 - POPC 64 O11 8490',\n",
       " 'DIST: CA 6530 CA 36353 - POPC 64 O21 8523',\n",
       " 'DIST: CA 6530 CA 36353 - POPC 64 O22 8525',\n",
       " 'DIST: CA 6530 CA 36353 - POPC 65 O12 8623',\n",
       " 'DIST: CA 6530 CA 36353 - POPC 65 O11 8624',\n",
       " 'DIST: CA 6530 CA 36353 - POPC 65 O21 8657',\n",
       " 'DIST: CA 6530 CA 36353 - POPC 65 O22 8659',\n",
       " 'DIST: CA 6530 CA 36353 - POPC 66 O12 8757',\n",
       " 'DIST: CA 6530 CA 36353 - POPC 66 O11 8758',\n",
       " 'DIST: CA 6530 CA 36353 - POPC 66 O21 8791',\n",
       " 'DIST: CA 6530 CA 36353 - POPC 66 O22 8793',\n",
       " 'DIST: CA 6530 CA 36353 - POPC 67 O12 8891',\n",
       " 'DIST: CA 6530 CA 36353 - POPC 67 O11 8892',\n",
       " 'DIST: CA 6530 CA 36353 - POPC 67 O21 8925',\n",
       " 'DIST: CA 6530 CA 36353 - POPC 67 O22 8927',\n",
       " 'DIST: CA 6530 CA 36353 - POPC 68 O12 9025',\n",
       " 'DIST: CA 6530 CA 36353 - POPC 68 O11 9026',\n",
       " 'DIST: CA 6530 CA 36353 - POPC 68 O21 9059',\n",
       " 'DIST: CA 6530 CA 36353 - POPC 68 O22 9061',\n",
       " 'DIST: CA 6530 CA 36353 - POPC 69 O12 9159',\n",
       " 'DIST: CA 6530 CA 36353 - POPC 69 O11 9160',\n",
       " 'DIST: CA 6530 CA 36353 - POPC 69 O21 9193',\n",
       " 'DIST: CA 6530 CA 36353 - POPC 69 O22 9195',\n",
       " 'DIST: CA 6530 CA 36353 - POPC 70 O12 9293',\n",
       " 'DIST: CA 6530 CA 36353 - POPC 70 O11 9294',\n",
       " 'DIST: CA 6530 CA 36353 - POPC 70 O21 9327',\n",
       " 'DIST: CA 6530 CA 36353 - POPC 70 O22 9329',\n",
       " 'DIST: CA 6530 CA 36353 - POPC 71 O12 9427',\n",
       " 'DIST: CA 6530 CA 36353 - POPC 71 O11 9428',\n",
       " 'DIST: CA 6530 CA 36353 - POPC 71 O21 9461',\n",
       " 'DIST: CA 6530 CA 36353 - POPC 71 O22 9463',\n",
       " 'DIST: CA 6530 CA 36353 - POPC 72 O12 9561',\n",
       " 'DIST: CA 6530 CA 36353 - POPC 72 O11 9562',\n",
       " 'DIST: CA 6530 CA 36353 - POPC 72 O21 9595',\n",
       " 'DIST: CA 6530 CA 36353 - POPC 72 O22 9597',\n",
       " 'DIST: CA 6530 CA 36353 - POPC 73 O12 9695',\n",
       " 'DIST: CA 6530 CA 36353 - POPC 73 O11 9696',\n",
       " 'DIST: CA 6530 CA 36353 - POPC 73 O21 9729',\n",
       " 'DIST: CA 6530 CA 36353 - POPC 73 O22 9731',\n",
       " 'DIST: CA 6530 CA 36353 - POPC 74 O12 9829',\n",
       " 'DIST: CA 6530 CA 36353 - POPC 74 O11 9830',\n",
       " 'DIST: CA 6530 CA 36353 - POPC 74 O21 9863',\n",
       " 'DIST: CA 6530 CA 36353 - POPC 74 O22 9865',\n",
       " 'DIST: CA 6530 CA 36353 - POPC 75 O12 9963',\n",
       " 'DIST: CA 6530 CA 36353 - POPC 75 O11 9964',\n",
       " 'DIST: CA 6530 CA 36353 - POPC 75 O21 9997',\n",
       " 'DIST: CA 6530 CA 36353 - POPC 75 O22 9999',\n",
       " 'DIST: CA 6530 CA 36353 - POPC 76 O12 10097',\n",
       " 'DIST: CA 6530 CA 36353 - POPC 76 O11 10098',\n",
       " 'DIST: CA 6530 CA 36353 - POPC 76 O21 10131',\n",
       " 'DIST: CA 6530 CA 36353 - POPC 76 O22 10133',\n",
       " 'DIST: CA 6530 CA 36353 - POPC 77 O12 10231',\n",
       " 'DIST: CA 6530 CA 36353 - POPC 77 O11 10232',\n",
       " 'DIST: CA 6530 CA 36353 - POPC 77 O21 10265',\n",
       " 'DIST: CA 6530 CA 36353 - POPC 77 O22 10267',\n",
       " 'DIST: CA 6530 CA 36353 - POPC 78 O12 10365',\n",
       " 'DIST: CA 6530 CA 36353 - POPC 78 O11 10366',\n",
       " 'DIST: CA 6530 CA 36353 - POPC 78 O21 10399',\n",
       " 'DIST: CA 6530 CA 36353 - POPC 78 O22 10401',\n",
       " 'DIST: CA 6530 CA 36353 - POPC 79 O12 10499',\n",
       " 'DIST: CA 6530 CA 36353 - POPC 79 O11 10500',\n",
       " 'DIST: CA 6530 CA 36353 - POPC 79 O21 10533',\n",
       " 'DIST: CA 6530 CA 36353 - POPC 79 O22 10535',\n",
       " 'DIST: CA 6530 CA 36353 - POPC 80 O12 10633',\n",
       " 'DIST: CA 6530 CA 36353 - POPC 80 O11 10634',\n",
       " 'DIST: CA 6530 CA 36353 - POPC 80 O21 10667',\n",
       " 'DIST: CA 6530 CA 36353 - POPC 80 O22 10669',\n",
       " 'DIST: CA 6530 CA 36353 - POPC 81 O12 10767',\n",
       " 'DIST: CA 6530 CA 36353 - POPC 81 O11 10768',\n",
       " 'DIST: CA 6530 CA 36353 - POPC 81 O21 10801',\n",
       " 'DIST: CA 6530 CA 36353 - POPC 81 O22 10803',\n",
       " 'DIST: CA 6530 CA 36353 - POPC 82 O12 10901',\n",
       " 'DIST: CA 6530 CA 36353 - POPC 82 O11 10902',\n",
       " 'DIST: CA 6530 CA 36353 - POPC 82 O21 10935',\n",
       " 'DIST: CA 6530 CA 36353 - POPC 82 O22 10937',\n",
       " 'DIST: CA 6530 CA 36353 - POPC 83 O12 11035',\n",
       " 'DIST: CA 6530 CA 36353 - POPC 83 O11 11036',\n",
       " 'DIST: CA 6530 CA 36353 - POPC 83 O21 11069',\n",
       " 'DIST: CA 6530 CA 36353 - POPC 83 O22 11071',\n",
       " 'DIST: CA 6530 CA 36353 - POPC 84 O12 11169',\n",
       " 'DIST: CA 6530 CA 36353 - POPC 84 O11 11170',\n",
       " 'DIST: CA 6530 CA 36353 - POPC 84 O21 11203',\n",
       " 'DIST: CA 6530 CA 36353 - POPC 84 O22 11205',\n",
       " 'DIST: CA 6530 CA 36353 - POPC 85 O12 11303',\n",
       " 'DIST: CA 6530 CA 36353 - POPC 85 O11 11304',\n",
       " 'DIST: CA 6530 CA 36353 - POPC 85 O21 11337',\n",
       " 'DIST: CA 6530 CA 36353 - POPC 85 O22 11339',\n",
       " 'DIST: CA 6530 CA 36353 - POPC 86 O12 11437',\n",
       " 'DIST: CA 6530 CA 36353 - POPC 86 O11 11438',\n",
       " 'DIST: CA 6530 CA 36353 - POPC 86 O21 11471',\n",
       " 'DIST: CA 6530 CA 36353 - POPC 86 O22 11473',\n",
       " 'DIST: CA 6530 CA 36353 - POPC 87 O12 11571',\n",
       " 'DIST: CA 6530 CA 36353 - POPC 87 O11 11572',\n",
       " 'DIST: CA 6530 CA 36353 - POPC 87 O21 11605',\n",
       " 'DIST: CA 6530 CA 36353 - POPC 87 O22 11607',\n",
       " 'DIST: CA 6530 CA 36353 - POPC 88 O12 11705',\n",
       " 'DIST: CA 6530 CA 36353 - POPC 88 O11 11706',\n",
       " 'DIST: CA 6530 CA 36353 - POPC 88 O21 11739',\n",
       " 'DIST: CA 6530 CA 36353 - POPC 88 O22 11741',\n",
       " 'DIST: CA 6530 CA 36353 - POPC 89 O12 11839',\n",
       " 'DIST: CA 6530 CA 36353 - POPC 89 O11 11840',\n",
       " 'DIST: CA 6530 CA 36353 - POPC 89 O21 11873',\n",
       " 'DIST: CA 6530 CA 36353 - POPC 89 O22 11875',\n",
       " 'DIST: CA 6530 CA 36353 - POPC 90 O12 11973',\n",
       " 'DIST: CA 6530 CA 36353 - POPC 90 O11 11974',\n",
       " 'DIST: CA 6530 CA 36353 - POPC 90 O21 12007',\n",
       " 'DIST: CA 6530 CA 36353 - POPC 90 O22 12009',\n",
       " 'DIST: CA 6530 CA 36353 - POPC 91 O12 12107',\n",
       " 'DIST: CA 6530 CA 36353 - POPC 91 O11 12108',\n",
       " 'DIST: CA 6530 CA 36353 - POPC 91 O21 12141',\n",
       " 'DIST: CA 6530 CA 36353 - POPC 91 O22 12143',\n",
       " 'DIST: CA 6530 CA 36353 - POPC 92 O12 12241',\n",
       " 'DIST: CA 6530 CA 36353 - POPC 92 O11 12242',\n",
       " 'DIST: CA 6530 CA 36353 - POPC 92 O21 12275',\n",
       " 'DIST: CA 6530 CA 36353 - POPC 92 O22 12277',\n",
       " 'DIST: CA 6530 CA 36353 - POPC 93 O12 12375',\n",
       " 'DIST: CA 6530 CA 36353 - POPC 93 O11 12376',\n",
       " 'DIST: CA 6530 CA 36353 - POPC 93 O21 12409',\n",
       " 'DIST: CA 6530 CA 36353 - POPC 93 O22 12411',\n",
       " 'DIST: CA 6530 CA 36353 - POPC 94 O12 12509',\n",
       " 'DIST: CA 6530 CA 36353 - POPC 94 O11 12510',\n",
       " 'DIST: CA 6530 CA 36353 - POPC 94 O21 12543',\n",
       " 'DIST: CA 6530 CA 36353 - POPC 94 O22 12545',\n",
       " 'DIST: CA 6530 CA 36353 - POPC 95 O12 12643',\n",
       " 'DIST: CA 6530 CA 36353 - POPC 95 O11 12644',\n",
       " 'DIST: CA 6530 CA 36353 - POPC 95 O21 12677',\n",
       " 'DIST: CA 6530 CA 36353 - POPC 95 O22 12679',\n",
       " 'DIST: CA 6530 CA 36353 - POPC 96 O12 12777',\n",
       " 'DIST: CA 6530 CA 36353 - POPC 96 O11 12778',\n",
       " 'DIST: CA 6530 CA 36353 - POPC 96 O21 12811',\n",
       " 'DIST: CA 6530 CA 36353 - POPC 96 O22 12813',\n",
       " 'DIST: CA 6530 CA 36353 - POPC 97 O12 12911',\n",
       " 'DIST: CA 6530 CA 36353 - POPC 97 O11 12912',\n",
       " 'DIST: CA 6530 CA 36353 - POPC 97 O21 12945',\n",
       " 'DIST: CA 6530 CA 36353 - POPC 97 O22 12947',\n",
       " 'DIST: CA 6530 CA 36353 - POPC 98 O12 13045',\n",
       " 'DIST: CA 6530 CA 36353 - POPC 98 O11 13046',\n",
       " 'DIST: CA 6530 CA 36353 - POPC 98 O21 13079',\n",
       " 'DIST: CA 6530 CA 36353 - POPC 98 O22 13081',\n",
       " 'DIST: CA 6530 CA 36353 - POPC 99 O12 13179',\n",
       " 'DIST: CA 6530 CA 36353 - POPC 99 O11 13180',\n",
       " 'DIST: CA 6530 CA 36353 - POPC 99 O21 13213',\n",
       " 'DIST: CA 6530 CA 36353 - POPC 99 O22 13215',\n",
       " 'DIST: CA 6530 CA 36353 - POPC 100 O12 13313',\n",
       " 'DIST: CA 6530 CA 36353 - POPC 100 O11 13314',\n",
       " 'DIST: CA 6530 CA 36353 - POPC 100 O21 13347',\n",
       " 'DIST: CA 6530 CA 36353 - POPC 100 O22 13349',\n",
       " 'DIST: CA 6530 CA 36353 - POPC 101 O12 13447',\n",
       " 'DIST: CA 6530 CA 36353 - POPC 101 O11 13448',\n",
       " 'DIST: CA 6530 CA 36353 - POPC 101 O21 13481',\n",
       " 'DIST: CA 6530 CA 36353 - POPC 101 O22 13483',\n",
       " 'DIST: CA 6530 CA 36353 - POPC 102 O12 13581',\n",
       " 'DIST: CA 6530 CA 36353 - POPC 102 O11 13582',\n",
       " 'DIST: CA 6530 CA 36353 - POPC 102 O21 13615',\n",
       " 'DIST: CA 6530 CA 36353 - POPC 102 O22 13617',\n",
       " 'DIST: CA 6530 CA 36353 - POPC 103 O12 13715',\n",
       " 'DIST: CA 6530 CA 36353 - POPC 103 O11 13716',\n",
       " 'DIST: CA 6530 CA 36353 - POPC 103 O21 13749',\n",
       " 'DIST: CA 6530 CA 36353 - POPC 103 O22 13751',\n",
       " 'DIST: CA 6530 CA 36353 - POPC 104 O12 13849',\n",
       " 'DIST: CA 6530 CA 36353 - POPC 104 O11 13850',\n",
       " 'DIST: CA 6530 CA 36353 - POPC 104 O21 13883',\n",
       " 'DIST: CA 6530 CA 36353 - POPC 104 O22 13885',\n",
       " 'DIST: CA 6530 CA 36353 - POPC 105 O12 13983',\n",
       " 'DIST: CA 6530 CA 36353 - POPC 105 O11 13984',\n",
       " 'DIST: CA 6530 CA 36353 - POPC 105 O21 14017',\n",
       " 'DIST: CA 6530 CA 36353 - POPC 105 O22 14019',\n",
       " 'DIST: CA 6530 CA 36353 - POPC 106 O12 14117',\n",
       " 'DIST: CA 6530 CA 36353 - POPC 106 O11 14118',\n",
       " 'DIST: CA 6530 CA 36353 - POPC 106 O21 14151',\n",
       " 'DIST: CA 6530 CA 36353 - POPC 106 O22 14153',\n",
       " 'DIST: CA 6530 CA 36353 - POPC 107 O12 14251',\n",
       " 'DIST: CA 6530 CA 36353 - POPC 107 O11 14252',\n",
       " 'DIST: CA 6530 CA 36353 - POPC 107 O21 14285',\n",
       " 'DIST: CA 6530 CA 36353 - POPC 107 O22 14287',\n",
       " 'DIST: CA 6530 CA 36353 - POPC 108 O12 14385',\n",
       " 'DIST: CA 6530 CA 36353 - POPC 108 O11 14386',\n",
       " 'DIST: CA 6530 CA 36353 - POPC 108 O21 14419',\n",
       " 'DIST: CA 6530 CA 36353 - POPC 108 O22 14421',\n",
       " 'DIST: CA 6530 CA 36353 - POPC 109 O12 14519',\n",
       " 'DIST: CA 6530 CA 36353 - POPC 109 O11 14520',\n",
       " 'DIST: CA 6530 CA 36353 - POPC 109 O21 14553',\n",
       " 'DIST: CA 6530 CA 36353 - POPC 109 O22 14555',\n",
       " 'DIST: CA 6530 CA 36353 - POPC 110 O12 14653',\n",
       " 'DIST: CA 6530 CA 36353 - POPC 110 O11 14654',\n",
       " 'DIST: CA 6530 CA 36353 - POPC 110 O21 14687',\n",
       " 'DIST: CA 6530 CA 36353 - POPC 110 O22 14689',\n",
       " 'DIST: CA 6530 CA 36353 - POPC 111 O12 14787',\n",
       " 'DIST: CA 6530 CA 36353 - POPC 111 O11 14788',\n",
       " 'DIST: CA 6530 CA 36353 - POPC 111 O21 14821',\n",
       " 'DIST: CA 6530 CA 36353 - POPC 111 O22 14823',\n",
       " 'DIST: CA 6530 CA 36353 - POPC 112 O12 14921',\n",
       " 'DIST: CA 6530 CA 36353 - POPC 112 O11 14922',\n",
       " 'DIST: CA 6530 CA 36353 - POPC 112 O21 14955',\n",
       " 'DIST: CA 6530 CA 36353 - POPC 112 O22 14957',\n",
       " 'DIST: CA 6530 CA 36353 - POPC 113 O12 15055',\n",
       " 'DIST: CA 6530 CA 36353 - POPC 113 O11 15056',\n",
       " 'DIST: CA 6530 CA 36353 - POPC 113 O21 15089',\n",
       " 'DIST: CA 6530 CA 36353 - POPC 113 O22 15091',\n",
       " 'DIST: CA 6530 CA 36353 - POPC 114 O12 15189',\n",
       " 'DIST: CA 6530 CA 36353 - POPC 114 O11 15190',\n",
       " 'DIST: CA 6530 CA 36353 - POPC 114 O21 15223',\n",
       " 'DIST: CA 6530 CA 36353 - POPC 114 O22 15225',\n",
       " 'DIST: CA 6530 CA 36353 - POPC 115 O12 15323',\n",
       " 'DIST: CA 6530 CA 36353 - POPC 115 O11 15324',\n",
       " 'DIST: CA 6530 CA 36353 - POPC 115 O21 15357',\n",
       " 'DIST: CA 6530 CA 36353 - POPC 115 O22 15359',\n",
       " 'DIST: CA 6530 CA 36353 - POPC 116 O12 15457',\n",
       " 'DIST: CA 6530 CA 36353 - POPC 116 O11 15458',\n",
       " 'DIST: CA 6530 CA 36353 - POPC 116 O21 15491',\n",
       " 'DIST: CA 6530 CA 36353 - POPC 116 O22 15493',\n",
       " 'DIST: CA 6530 CA 36353 - POPC 117 O12 15591',\n",
       " 'DIST: CA 6530 CA 36353 - POPC 117 O11 15592',\n",
       " 'DIST: CA 6530 CA 36353 - POPC 117 O21 15625',\n",
       " 'DIST: CA 6530 CA 36353 - POPC 117 O22 15627',\n",
       " 'DIST: CA 6530 CA 36353 - POPC 118 O12 15725',\n",
       " 'DIST: CA 6530 CA 36353 - POPC 118 O11 15726',\n",
       " 'DIST: CA 6530 CA 36353 - POPC 118 O21 15759',\n",
       " 'DIST: CA 6530 CA 36353 - POPC 118 O22 15761',\n",
       " 'DIST: CA 6530 CA 36353 - POPC 119 O12 15859',\n",
       " 'DIST: CA 6530 CA 36353 - POPC 119 O11 15860',\n",
       " 'DIST: CA 6530 CA 36353 - POPC 119 O21 15893',\n",
       " 'DIST: CA 6530 CA 36353 - POPC 119 O22 15895',\n",
       " 'DIST: CA 6530 CA 36353 - POPC 120 O12 15993',\n",
       " 'DIST: CA 6530 CA 36353 - POPC 120 O11 15994',\n",
       " 'DIST: CA 6530 CA 36353 - POPC 120 O21 16027',\n",
       " 'DIST: CA 6530 CA 36353 - POPC 120 O22 16029',\n",
       " 'DIST: CA 6530 CA 36353 - POPC 121 O12 16127',\n",
       " 'DIST: CA 6530 CA 36353 - POPC 121 O11 16128',\n",
       " 'DIST: CA 6530 CA 36353 - POPC 121 O21 16161',\n",
       " 'DIST: CA 6530 CA 36353 - POPC 121 O22 16163',\n",
       " 'DIST: CA 6530 CA 36353 - POPC 122 O12 16261',\n",
       " 'DIST: CA 6530 CA 36353 - POPC 122 O11 16262',\n",
       " 'DIST: CA 6530 CA 36353 - POPC 122 O21 16295',\n",
       " 'DIST: CA 6530 CA 36353 - POPC 122 O22 16297',\n",
       " ...]"
      ]
     },
     "execution_count": 7,
     "metadata": {},
     "output_type": "execute_result"
    }
   ],
   "source": [
    "top = feat.topology\n",
    "cations = top.select('resname CA')\n",
    "memb_sites = top.select(\"name =~ 'O[1-2][1-4]'\")\n",
    "pairs = [ [cat, oxy] for cat in cations for oxy in memb_sites ]\n",
    "feat.add_distances(pairs)\n",
    "\n",
    "feat.describe()"
   ]
  },
  {
   "cell_type": "code",
   "execution_count": 8,
   "metadata": {
    "collapsed": false
   },
   "outputs": [
    {
     "data": {
      "text/plain": [
       "20480"
      ]
     },
     "execution_count": 8,
     "metadata": {},
     "output_type": "execute_result"
    }
   ],
   "source": [
    "feat.dimension()"
   ]
  },
  {
   "cell_type": "markdown",
   "metadata": {},
   "source": [
    "Now we define the source of input coordinates (we don't load them into memory at this stage - they will be loaded as needed). Compute a few basic data statistics gives:"
   ]
  },
  {
   "cell_type": "code",
   "execution_count": 9,
   "metadata": {
    "collapsed": false
   },
   "outputs": [
    {
     "name": "stdout",
     "output_type": "stream",
     "text": [
      "number of trajectories =  1\n",
      "trajectory length =  15001\n",
      "number of dimension =  20480\n"
     ]
    }
   ],
   "source": [
    "inp = coor.source(traj_list, feat)\n",
    "print('number of trajectories = ',inp.number_of_trajectories())\n",
    "print('trajectory length = ',inp.trajectory_length(0))\n",
    "#print('trajectory time step = ',500.0 / (inp.trajectory_length(0)-1),'ns')\n",
    "print('number of dimension = ',inp.dimension())"
   ]
  },
  {
   "cell_type": "code",
   "execution_count": 10,
   "metadata": {
    "collapsed": false
   },
   "outputs": [
    {
     "name": "stdout",
     "output_type": "stream",
     "text": [
      "number of trajectories =  1\n",
      "number of frames =  15001\n",
      "number of dimensions =  20480\n"
     ]
    }
   ],
   "source": [
    "Y = inp.get_output() # get tica coordinates\n",
    "print('number of trajectories = ', np.shape(Y)[0])\n",
    "print('number of frames = ', np.shape(Y)[1])\n",
    "print('number of dimensions = ',np.shape(Y)[2])"
   ]
  },
  {
   "cell_type": "markdown",
   "metadata": {},
   "source": [
    "Now, I split the trajectory Y into separate individual trajectories of each individual calcium"
   ]
  },
  {
   "cell_type": "code",
   "execution_count": 11,
   "metadata": {
    "collapsed": false
   },
   "outputs": [],
   "source": [
    "Y = np.split(Y[0], cations.shape[0], axis=1)"
   ]
  },
  {
   "cell_type": "markdown",
   "metadata": {},
   "source": [
    "Split the separate trajectories in Y into residue-based-blocks"
   ]
  },
  {
   "cell_type": "code",
   "execution_count": 12,
   "metadata": {
    "collapsed": false
   },
   "outputs": [],
   "source": [
    "for i in range(len(Y)):\n",
    "    Y[i] = np.reshape(Y[i], [Y[i].shape[0], Y[i].shape[1]/n_at_per_res, n_at_per_res])\n"
   ]
  },
  {
   "cell_type": "markdown",
   "metadata": {},
   "source": [
    "Is there a contact per each cation and each individual lipid?"
   ]
  },
  {
   "cell_type": "code",
   "execution_count": 13,
   "metadata": {
    "collapsed": false,
    "scrolled": true
   },
   "outputs": [
    {
     "name": "stdout",
     "output_type": "stream",
     "text": [
      "Working on traj 0\n",
      "Working on traj 1\n",
      "Working on traj 2\n",
      "Working on traj 3\n",
      "Working on traj 4\n",
      "Working on traj 5\n",
      "Working on traj 6\n",
      "Working on traj 7\n",
      "Working on traj 8\n",
      "Working on traj 9\n",
      "Working on traj 10\n",
      "Working on traj 11\n",
      "Working on traj 12\n",
      "Working on traj 13\n",
      "Working on traj 14\n",
      "Working on traj 15\n",
      "Working on traj 16\n",
      "Working on traj 17\n",
      "Working on traj 18\n",
      "Working on traj 19\n",
      "Working on traj 20\n",
      "Working on traj 21\n",
      "Working on traj 22\n",
      "Working on traj 23\n",
      "Working on traj 24\n",
      "Working on traj 25\n",
      "Working on traj 26\n",
      "Working on traj 27\n",
      "Working on traj 28\n",
      "Working on traj 29\n",
      "Working on traj 30\n",
      "Working on traj 31\n",
      "Working on traj 32\n",
      "Working on traj 33\n",
      "Working on traj 34\n",
      "Working on traj 35\n",
      "Working on traj 36\n",
      "Working on traj 37\n",
      "Working on traj 38\n",
      "Working on traj 39\n"
     ]
    }
   ],
   "source": [
    "# 1st g(r) depression (after 1st peak) is at 0.28nm -- 0.3nm is a good cut-off distance\n",
    "# next g(r) depression is at 0.525nm and after that 0.8nm -- there are small peaks in between these two\n",
    "real_cutoff=0.3\n",
    "trajs = []\n",
    "# for each cation\n",
    "for i,traj in enumerate(Y):\n",
    "    print(\"Working on traj {}\".format(i))\n",
    "    #frames = np.split(traj, traj.shape[0])\n",
    "    frames_ana = np.any(traj[:,:,:]<real_cutoff, axis=-1)\n",
    "    trajs.append(frames_ana)\n",
    "        "
   ]
  },
  {
   "cell_type": "markdown",
   "metadata": {},
   "source": [
    "Convert individual trajcetories \"trajs\" into one large array back again:"
   ]
  },
  {
   "cell_type": "code",
   "execution_count": 14,
   "metadata": {
    "collapsed": false
   },
   "outputs": [],
   "source": [
    "contacts = np.stack(trajs)"
   ]
  },
  {
   "cell_type": "code",
   "execution_count": 15,
   "metadata": {
    "collapsed": false
   },
   "outputs": [
    {
     "name": "stdout",
     "output_type": "stream",
     "text": [
      "tot no. contacts -- no. bound cations -- no. lipids bound to cation(s) -- stoichiometry\n",
      "---------------------------------------------------------------------------------------\n",
      "  9   8   9   1.1\n",
      "  9   8   9   1.1\n",
      "  9   7   9   1.3\n",
      "  9   8   9   1.1\n",
      "  9   7   9   1.3\n",
      "  9   8   9   1.1\n",
      "  6   5   6   1.2\n",
      "  4   4   4   1.0\n",
      "  7   7   7   1.0\n",
      "  6   6   6   1.0\n"
     ]
    }
   ],
   "source": [
    "print(\"tot no. contacts -- no. bound cations -- no. lipids bound to cation(s) -- stoichiometry\")\n",
    "print(\"---------------------------------------------------------------------------------------\")\n",
    "for i in range(1,1000,100):\n",
    "    n_bound_cations = contacts[:,i,:].any(axis=-1).sum()\n",
    "    n_bound_lipids  = contacts[:,i,:].any(axis=0).sum()\n",
    "    stoichiometry = 1.0*n_bound_lipids/n_bound_cations\n",
    "    print(\"{:3d} {:3d} {:3d} {:5.1f}\".format(\n",
    "            contacts[:,i,:].sum(), \n",
    "            n_bound_cations, \n",
    "            n_bound_lipids,\n",
    "            stoichiometry\n",
    "          ))"
   ]
  },
  {
   "cell_type": "code",
   "execution_count": 16,
   "metadata": {
    "collapsed": false
   },
   "outputs": [],
   "source": [
    "stoichiometries = np.empty(shape=(contacts.shape[1]))\n",
    "for i in range(contacts.shape[1]):\n",
    "    n_bound_cations = contacts[:,i,:].any(axis=-1).sum()\n",
    "    n_bound_lipids  = contacts[:,i,:].any(axis=0).sum()\n",
    "    stoichiometries[i] = 1.0*n_bound_lipids/n_bound_cations\n"
   ]
  },
  {
   "cell_type": "code",
   "execution_count": 17,
   "metadata": {
    "collapsed": false
   },
   "outputs": [
    {
     "name": "stdout",
     "output_type": "stream",
     "text": [
      "Average stoichiometry of cation-lipid binding =  1.19\n"
     ]
    }
   ],
   "source": [
    "print(\"Average stoichiometry of cation-lipid binding = {:5.2f}\".format(stoichiometries.mean()))"
   ]
  },
  {
   "cell_type": "code",
   "execution_count": 18,
   "metadata": {
    "collapsed": false
   },
   "outputs": [],
   "source": [
    "n_bound_cations_per_lipid = np.empty(shape=(contacts.shape[1], contacts.shape[2]), dtype=int)  # per lipid\n",
    "n_bound_lipids_per_cation = np.empty(shape=(contacts.shape[1], contacts.shape[0]), dtype=int)  # per cation\n",
    "for i in range(contacts.shape[1]):\n",
    "    for ica in range(contacts.shape[0]):\n",
    "        n_bound_lipids_per_cation[i,ica]  = contacts[ica,i,:].sum()\n",
    "    for ilip in range(contacts.shape[2]):\n",
    "        n_bound_cations_per_lipid[i,ilip] = contacts[:,i,ilip].sum()"
   ]
  },
  {
   "cell_type": "markdown",
   "metadata": {},
   "source": [
    "Histogram of no. of bound cations per lipid"
   ]
  },
  {
   "cell_type": "code",
   "execution_count": 19,
   "metadata": {
    "collapsed": false
   },
   "outputs": [
    {
     "data": {
      "image/png": "[encoded data removed]",
      "text/plain": [
       "<matplotlib.figure.Figure at 0x7f2aad2f0cd0>"
      ]
     },
     "metadata": {},
     "output_type": "display_data"
    }
   ],
   "source": [
    "hist_cat_per_lip = np.histogram(n_bound_cations_per_lipid, bins=(0,1,2,3,4))\n",
    "plt.bar(hist_cat_per_lip[1][:-1]-0.35, 100*hist_cat_per_lip[0]/n_bound_cations_per_lipid.size, width=0.7)#, hist_cat_per_lip[0])\n",
    "#np.histogram(n_bound_lipids_per_cation, bins=(0,1,2,3,4,5))\n",
    "plt.xlim([1-0.5,3-0.5])\n",
    "plt.xticks([1,2])\n",
    "plt.xlabel(\"number of bound cations per lipid\")\n",
    "plt.ylabel(\"probability in %\")\n",
    "plt.savefig(\"number_bound_cat_p_lipid_Ecc-lipidscarbonyls-only.pdf\")"
   ]
  },
  {
   "cell_type": "markdown",
   "metadata": {},
   "source": [
    "Histogram of no. of bound lipids per cation"
   ]
  },
  {
   "cell_type": "code",
   "execution_count": 20,
   "metadata": {
    "collapsed": false
   },
   "outputs": [],
   "source": [
    "# average number of cations, no double counting when a cation binds 2 lipids\n",
    "n_bound_cations_avg = np.extract(n_bound_lipids_per_cation, n_bound_lipids_per_cation>0).shape[0]*1.0/n_bound_lipids_per_cation.shape[0]"
   ]
  },
  {
   "cell_type": "code",
   "execution_count": 21,
   "metadata": {
    "collapsed": false
   },
   "outputs": [
    {
     "data": {
      "image/png": "[encoded data removed]",
      "text/plain": [
       "<matplotlib.figure.Figure at 0x7f2aa78070d0>"
      ]
     },
     "metadata": {},
     "output_type": "display_data"
    }
   ],
   "source": [
    "hist_lip_per_cat = np.histogram(n_bound_lipids_per_cation, bins=(0,1,2,3,4))\n",
    "plt.bar(hist_lip_per_cat[1][:-1]-0.35, 100*hist_lip_per_cat[0]/n_bound_lipids_per_cation.size, width=0.7)#, hist_cat_per_lip[0])\n",
    "#np.histogram(n_bound_lipids_per_cation, bins=(0,1,2,3,4,5))\n",
    "plt.xlim([1-0.5,4-0.5])\n",
    "plt.xticks([1,2,3])\n",
    "plt.xlabel(\"number of bound lipids per cation\")\n",
    "plt.ylabel(\"probability in %\")\n",
    "plt.ylim([0,20])\n",
    "plt.savefig(\"number_bound_lipids_p_cation_Ecc-lipids_carbonyls-only.pdf\")"
   ]
  },
  {
   "cell_type": "code",
   "execution_count": 22,
   "metadata": {
    "collapsed": false
   },
   "outputs": [
    {
     "name": "stdout",
     "output_type": "stream",
     "text": [
      "Average number of bound cations =   6.1\n",
      "per lipid = 0.048\n"
     ]
    }
   ],
   "source": [
    "print(\"Average number of bound cations = {:5.1f}\\nper lipid = {:5.3f}\".format(n_bound_cations_avg,n_bound_cations_avg/128.0))"
   ]
  },
  {
   "cell_type": "markdown",
   "metadata": {
    "collapsed": true
   },
   "source": [
    "Now, let's get an estimate of a mean residence time:\n",
    "frame time step is 20 ps = 0.02 ns"
   ]
  },
  {
   "cell_type": "code",
   "execution_count": 23,
   "metadata": {
    "collapsed": false
   },
   "outputs": [
    {
     "data": {
      "text/plain": [
       "(15001, 40)"
      ]
     },
     "execution_count": 23,
     "metadata": {},
     "output_type": "execute_result"
    }
   ],
   "source": [
    "n_bound_lipids_per_cation.shape"
   ]
  },
  {
   "cell_type": "code",
   "execution_count": 24,
   "metadata": {
    "collapsed": false
   },
   "outputs": [],
   "source": [
    "#icat = 0\n",
    "bound_times = []\n",
    "time_bound = 0\n",
    "for icat in range(n_bound_cations_per_lipid.shape[1]):\n",
    "    cat_traj_temp = n_bound_cations_per_lipid[:,icat]\n",
    "    for i in range(1, cat_traj_temp.shape[0]):\n",
    "        if cat_traj_temp[i]>=1:\n",
    "            if cat_traj_temp[i-1]>=1:\n",
    "                time_bound += 1\n",
    "            else:\n",
    "                time_bound = 1\n",
    "        else:\n",
    "            if cat_traj_temp[i-1]>=1:\n",
    "                bound_times.append(time_bound)\n",
    "                time_bound = 0\n",
    "\n",
    "    # last \"unfinished\" residence time that is still bound at the end of the simulation            \n",
    "    bound_times.append(time_bound)\n",
    "    time_bound = 0\n"
   ]
  },
  {
   "cell_type": "code",
   "execution_count": 25,
   "metadata": {
    "collapsed": false
   },
   "outputs": [
    {
     "data": {
      "text/plain": [
       "(array([ 529.,  139.,  112., ...,    0.,    0.,    1.]),\n",
       " array([  0.00000000e+00,   1.33333333e+00,   2.66666667e+00, ...,\n",
       "          1.59733333e+03,   1.59866667e+03,   1.60000000e+03]),\n",
       " <a list of 1200 Patch objects>)"
      ]
     },
     "execution_count": 25,
     "metadata": {},
     "output_type": "execute_result"
    },
    {
     "data": {
      "image/png": "[encoded data removed]",
      "text/plain": [
       "<matplotlib.figure.Figure at 0x7f2af675c210>"
      ]
     },
     "metadata": {},
     "output_type": "display_data"
    }
   ],
   "source": [
    "plt.hist(bound_times, bins=1200)"
   ]
  },
  {
   "cell_type": "code",
   "execution_count": 26,
   "metadata": {
    "collapsed": false
   },
   "outputs": [
    {
     "name": "stdout",
     "output_type": "stream",
     "text": [
      "median: 11.0\n"
     ]
    }
   ],
   "source": [
    "bound_times.sort()\n",
    "print(\"median: {}\".format(np.median(bound_times)))\n",
    "time_total = np.sum(bound_times)"
   ]
  },
  {
   "cell_type": "code",
   "execution_count": 27,
   "metadata": {
    "collapsed": false
   },
   "outputs": [
    {
     "name": "stdout",
     "output_type": "stream",
     "text": [
      "[586, 596, 605, 611, 636, 640, 658, 679, 736, 737, 772, 814, 885, 981, 1289, 1420, 1600]\n",
      " 87% of bound residence time is smaller that  12 ns, \n",
      "The longest is  32 ns\n"
     ]
    }
   ],
   "source": [
    "cut = -17\n",
    "print(bound_times[cut:])\n",
    "fraction_events = 1.0*np.sum(bound_times[:cut])/time_total\n",
    "print(\"{:3.0f}% of bound residence time is smaller that {:3.0f} ns, \\nThe longest is {:3.0f} ns\".format(fraction_events*100.0, bound_times[cut]*0.02,  bound_times[-1]*0.02))\n"
   ]
  },
  {
   "cell_type": "code",
   "execution_count": 28,
   "metadata": {
    "collapsed": false
   },
   "outputs": [],
   "source": [
    "hist = np.histogram(bound_times, bins=6000)"
   ]
  },
  {
   "cell_type": "code",
   "execution_count": 29,
   "metadata": {
    "collapsed": false
   },
   "outputs": [
    {
     "name": "stdout",
     "output_type": "stream",
     "text": [
      "99.4067887996 2.96542925386\n"
     ]
    }
   ],
   "source": [
    "import scipy\n",
    "def f(x, a=1.0, tau=1.0):\n",
    "    return a*np.exp(-x/tau)\n",
    "opt_par = scipy.optimize.curve_fit(f, hist[1][:-1], hist[0])\n",
    "a   = opt_par[0][0]\n",
    "tau = opt_par[0][1]\n",
    "print(a, tau)"
   ]
  },
  {
   "cell_type": "code",
   "execution_count": 30,
   "metadata": {
    "collapsed": false
   },
   "outputs": [
    {
     "data": {
      "text/plain": [
       "[<matplotlib.lines.Line2D at 0x7f2aa75b2290>]"
      ]
     },
     "execution_count": 30,
     "metadata": {},
     "output_type": "execute_result"
    },
    {
     "data": {
      "image/png": "[encoded data removed]",
      "text/plain": [
       "<matplotlib.figure.Figure at 0x7f2aa761cad0>"
      ]
     },
     "metadata": {},
     "output_type": "display_data"
    }
   ],
   "source": [
    "xdata = hist[1][:-1]\n",
    "plt.plot(hist[0], xdata)\n",
    "plt.plot( [f(x, a=a, tau=tau) for x in xdata], xdata )\n",
    "#plt.xlim([0,1500])\n",
    "#plt.ylim([-1,10])"
   ]
  }
 ],
 "metadata": {
  "anaconda-cloud": {},
  "kernelspec": {
   "display_name": "Python 2",
   "language": "python",
   "name": "python2"
  },
  "language_info": {
   "codemirror_mode": {
    "name": "ipython",
    "version": 2
   },
   "file_extension": ".py",
   "mimetype": "text/x-python",
   "name": "python",
   "nbconvert_exporter": "python",
   "pygments_lexer": "ipython2",
   "version": "2.7.13"
  }
 },
 "nbformat": 4,
 "nbformat_minor": 0
}
