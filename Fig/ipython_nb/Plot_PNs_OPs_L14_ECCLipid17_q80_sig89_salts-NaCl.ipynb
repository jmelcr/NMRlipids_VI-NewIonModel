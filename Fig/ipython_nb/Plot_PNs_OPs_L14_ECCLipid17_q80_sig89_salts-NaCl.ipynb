{
 "cells": [
  {
   "cell_type": "code",
   "execution_count": 69,
   "metadata": {
    "collapsed": false
   },
   "outputs": [
    {
     "name": "stdout",
     "output_type": "stream",
     "text": [
      "Populating the interactive namespace from numpy and matplotlib\n"
     ]
    },
    {
     "name": "stderr",
     "output_type": "stream",
     "text": [
      "WARNING: pylab import has clobbered these variables: ['f', 'xlim', 'ylim']\n",
      "`%matplotlib` prevents importing * from pylab and numpy\n"
     ]
    }
   ],
   "source": [
    "import matplotlib\n",
    "import matplotlib.pyplot as plt\n",
    "import numpy as np\n",
    "import os, sys\n",
    "import itertools\n",
    "sys.path.append(\"/mnt/ssd/NMRlipids_VI-NewIonModel/scripts/\")\n",
    "import calcOrderParameters as cop\n",
    "import fnmatch\n",
    "import re\n",
    "%pylab inline"
   ]
  },
  {
   "cell_type": "code",
   "execution_count": 70,
   "metadata": {
    "collapsed": true
   },
   "outputs": [],
   "source": [
    "def locate(pattern, root=os.curdir):\n",
    "    '''Locate all files matching supplied filename pattern in and below\n",
    "    supplied root directory.'''\n",
    "    for path, dirs, files in os.walk(os.path.abspath(root)):\n",
    "        for filename in fnmatch.filter(files, pattern):\n",
    "            yield os.path.join(path, filename)\n",
    "            "
   ]
  },
  {
   "cell_type": "code",
   "execution_count": 71,
   "metadata": {
    "collapsed": false
   },
   "outputs": [],
   "source": [
    "class Simulation():\n",
    "    '''Simulation class stores simulation data relevant for NMRlipids project 6'''\n",
    "    def __init__(self, dirname, \n",
    "                 ordpars_fname=\"OrdPars.dat\", \n",
    "                 dens_fname=\"density_ca_cl_water.xvg\", \n",
    "                 conc_bulk_fname=\"conc_ion_bulk_mmolL.dat\", \n",
    "                 conc_nominal_fname=\"conc_ion_nominal_mmolL.dat\"):\n",
    "        self.dirname = dirname\n",
    "        self.ordpars = cop.parse_op_input(os.path.join(dirname, ordpars_fname))\n",
    "        try:\n",
    "            self.dens    = np.loadtxt(os.path.join(dirname, dens_fname))\n",
    "            self.conc_bulk = np.loadtxt(os.path.join(dirname, conc_bulk_fname))\n",
    "            self.conc_nominal = np.loadtxt(os.path.join(dirname, conc_nominal_fname))\n",
    "        except:\n",
    "            print \"Simulation in \\n {d} \\n has no densities or files with concentrations, setting concentrations to 0.\".format(d=self.dirname)\n",
    "            self.conc_bulk = np.zeros([2])\n",
    "            self.conc_nominal = 0.0\n",
    "                    "
   ]
  },
  {
   "cell_type": "markdown",
   "metadata": {},
   "source": [
    "Finding all simulations with ECC-lipids and cationic surfactant"
   ]
  },
  {
   "cell_type": "code",
   "execution_count": 72,
   "metadata": {
    "collapsed": false
   },
   "outputs": [],
   "source": [
    "sim_dirs = []\n",
    "for f in locate(\"OrdPars.dat\", root=os.curdir+\"/NpT\"):\n",
    "    if \"sim22a_\" in f and \"OPC3\" in f and \"mM_NaCl\" in f and not \"MODEL_LIPID14\" in f:\n",
    "        sim_dirs.append(os.path.dirname(f))\n",
    "\n",
    "for f in sim_dirs:\n",
    "    if \"300K\" in f:\n",
    "        sim_dirs.remove(f)\n",
    "        \n",
    "sim_dirs.sort()\n",
    "#print sim_dirs"
   ]
  },
  {
   "cell_type": "code",
   "execution_count": 73,
   "metadata": {
    "collapsed": false
   },
   "outputs": [
    {
     "name": "stdout",
     "output_type": "stream",
     "text": [
      "Simulation in \n",
      " /mnt/ssd/NMRlipids_VI-NewIonModel/simulations/POPC/lipid14/NpT/sim22a_0mM_NaCl_OPC3_non-tail-atoms_q-sc_0.80_sig-sc_0.89_noIons-ref \n",
      " has no densities or files with concentrations, setting concentrations to 0.\n"
     ]
    }
   ],
   "source": [
    "sims = []\n",
    "for d in sim_dirs:\n",
    "    sim = Simulation(d)\n",
    "    sims.append(sim)"
   ]
  },
  {
   "cell_type": "markdown",
   "metadata": {},
   "source": [
    "getting PN_vector data from ECC-lipids simulations"
   ]
  },
  {
   "cell_type": "code",
   "execution_count": 74,
   "metadata": {
    "collapsed": false
   },
   "outputs": [
    {
     "name": "stdout",
     "output_type": "stream",
     "text": [
      "0.0 0.00859 0.00111\n",
      "0.0 0.00926 0.00111\n",
      "0.0 -0.0459 0.00106\n",
      "0.0 -0.04657 0.00106\n",
      "0.0 71.0464 0.08009\n",
      "0.0 -0.16015 0.00089\n",
      "0.0 -0.17845 0.00083\n",
      "1013.82405316 0.00103 0.00078\n",
      "1013.82405316 0.00195 0.00078\n",
      "1013.82405316 -0.04882 0.00075\n",
      "1013.82405316 -0.05319 0.00074\n",
      "1013.82405316 70.2098 0.05829\n",
      "1013.82405316 -0.15229 0.00064\n",
      "1013.82405316 -0.17219 0.00059\n",
      "{'alpha2': [[0.0, 0.00926], [1013.8240531599999, 0.00195]], 'alpha1': [[0.0, 0.00859], [1013.8240531599999, 0.00103]], 'g3_2': [[0.0, -0.17845], [1013.8240531599999, -0.17219]], 'g3_1': [[0.0, -0.16015], [1013.8240531599999, -0.15229]], 'beta2': [[0.0, -0.04657], [1013.8240531599999, -0.05319]], 'beta1': [[0.0, -0.0459], [1013.8240531599999, -0.04882]], 'PN_vector': [[0.0, 71.0464], [1013.8240531599999, 70.2098]]}\n"
     ]
    }
   ],
   "source": [
    "opsdata = {}\n",
    "# regular expressions explained at https://docs.python.org/2/howto/regex.html#match-versus-search\n",
    "p = re.compile('\\d+p_')  # string pattern for molar fraction in %\n",
    "for s in sims:\n",
    "    if \"T7H\" in s.dirname:\n",
    "        m = p.search(s.dirname)\n",
    "        s.conc_bulk[0] = float(m.group()[0:2])\n",
    "    for opname in [\"alpha1\", \"alpha2\", \"beta1\", \"beta2\", \"PN_vector\", \"g3_1\", \"g3_2\"]:\n",
    "        temp_list = []\n",
    "        try:\n",
    "            temp_list.append([s.conc_bulk[0], float(s.ordpars[opname].avg)])\n",
    "            print s.conc_bulk[0], float(s.ordpars[opname].avg), float(s.ordpars[opname].errest)\n",
    "        except:\n",
    "            print \"Simulation in dir \\n {d} \\n seem to have no record of the order parameter {op} -- skipping\".format(d=s.dirname, op=opname)\n",
    "        if opname in opsdata.keys():\n",
    "            opsdata[opname].extend(temp_list)\n",
    "        else:\n",
    "            opsdata[opname] = temp_list\n",
    "            \n",
    "\n",
    "print opsdata"
   ]
  },
  {
   "cell_type": "markdown",
   "metadata": {},
   "source": [
    "Redoing the file search again for the reference simulations set (i.e. Lipid14 + Aqvist ions)"
   ]
  },
  {
   "cell_type": "code",
   "execution_count": 75,
   "metadata": {
    "collapsed": false
   },
   "outputs": [
    {
     "name": "stdout",
     "output_type": "stream",
     "text": [
      "Simulation in \n",
      " /mnt/ssd/NMRlipids_VI-NewIonModel/simulations/POPC/lipid14/NpT/sim0_ref_noIons \n",
      " has no densities or files with concentrations, setting concentrations to 0.\n"
     ]
    }
   ],
   "source": [
    "#REUSING sim_dirs!!\n",
    "sim_dirs = []\n",
    "for f in locate(\"OrdPars.dat\", root=os.curdir+\"/NpT\"):\n",
    "    if \"sim0_ref_noIons\" in f:\n",
    "        sim_dirs.append(os.path.dirname(f))\n",
    "    if \"sim0-3_\" in f and \"NaCl_Aqvist\" in f:\n",
    "        sim_dirs.append(os.path.dirname(f))\n",
    "\n",
    "sim_dirs.sort()\n",
    "#print sim_dirs\n",
    "\n",
    "sims_l14 = []\n",
    "for d in sim_dirs:\n",
    "    sim = Simulation(d)\n",
    "    sims_l14.append(sim)"
   ]
  },
  {
   "cell_type": "markdown",
   "metadata": {},
   "source": [
    "getting PN_vector data from Lipid14 simulations"
   ]
  },
  {
   "cell_type": "code",
   "execution_count": 76,
   "metadata": {
    "collapsed": false
   },
   "outputs": [
    {
     "name": "stdout",
     "output_type": "stream",
     "text": [
      "930.0 0.0613939 Simulation in dir \n",
      " /mnt/ssd/NMRlipids_VI-NewIonModel/simulations/POPC/lipid14/NpT/sim0-3_930mM_NaCl_Aqvist_TIP3p \n",
      " seem to have no record of the order parameter alpha1 -- skipping\n",
      "930.0 0.0609197 Simulation in dir \n",
      " /mnt/ssd/NMRlipids_VI-NewIonModel/simulations/POPC/lipid14/NpT/sim0-3_930mM_NaCl_Aqvist_TIP3p \n",
      " seem to have no record of the order parameter alpha2 -- skipping\n",
      "930.0 -0.00320134 Simulation in dir \n",
      " /mnt/ssd/NMRlipids_VI-NewIonModel/simulations/POPC/lipid14/NpT/sim0-3_930mM_NaCl_Aqvist_TIP3p \n",
      " seem to have no record of the order parameter beta1 -- skipping\n",
      "930.0 -0.0059824 Simulation in dir \n",
      " /mnt/ssd/NMRlipids_VI-NewIonModel/simulations/POPC/lipid14/NpT/sim0-3_930mM_NaCl_Aqvist_TIP3p \n",
      " seem to have no record of the order parameter beta2 -- skipping\n",
      "Simulation in dir \n",
      " /mnt/ssd/NMRlipids_VI-NewIonModel/simulations/POPC/lipid14/NpT/sim0-3_930mM_NaCl_Aqvist_TIP3p \n",
      " seem to have no record of the order parameter PN_vector -- skipping\n",
      "930.0 -0.143512 Simulation in dir \n",
      " /mnt/ssd/NMRlipids_VI-NewIonModel/simulations/POPC/lipid14/NpT/sim0-3_930mM_NaCl_Aqvist_TIP3p \n",
      " seem to have no record of the order parameter g3_1 -- skipping\n",
      "930.0 -0.236545 Simulation in dir \n",
      " /mnt/ssd/NMRlipids_VI-NewIonModel/simulations/POPC/lipid14/NpT/sim0-3_930mM_NaCl_Aqvist_TIP3p \n",
      " seem to have no record of the order parameter g3_2 -- skipping\n",
      "0.0 0.06928 0.00077\n",
      "0.0 0.07021 0.00076\n",
      "0.0 -0.00241 0.00073\n",
      "0.0 0.00048 0.00073\n",
      "0.0 76.79575 0.05124\n",
      "0.0 -0.17378 0.00055\n",
      "0.0 -0.23514 0.00049\n",
      "{'alpha2': [[930.0, 0.0609197], [0.0, 0.07021]], 'alpha1': [[930.0, 0.0613939], [0.0, 0.06928]], 'g3_2': [[930.0, -0.236545], [0.0, -0.23514]], 'g3_1': [[930.0, -0.143512], [0.0, -0.17378]], 'beta2': [[930.0, -0.0059824], [0.0, 0.00048]], 'beta1': [[930.0, -0.00320134], [0.0, -0.00241]], 'PN_vector': [[0.0, 76.79575]]}\n"
     ]
    }
   ],
   "source": [
    "opsdata_l14 = {}\n",
    "# regular expressions explained at https://docs.python.org/2/howto/regex.html#match-versus-search\n",
    "#p = re.compile('\\d+molF')  # string pattern for molar fraction in %\n",
    "for s in sims_l14:\n",
    "    for opname in [\"alpha1\", \"alpha2\", \"beta1\", \"beta2\", \"PN_vector\", \"g3_1\", \"g3_2\"]:\n",
    "        temp_list = []\n",
    "        try:\n",
    "            temp_list.append([s.conc_bulk[0], float(s.ordpars[opname].avg)])\n",
    "            print s.conc_bulk[0], float(s.ordpars[opname].avg), float(s.ordpars[opname].errest)\n",
    "        except:\n",
    "            print \"Simulation in dir \\n {d} \\n seem to have no record of the order parameter {op} -- skipping\".format(d=s.dirname, op=opname)\n",
    "        if opname in opsdata_l14.keys():\n",
    "            opsdata_l14[opname].extend(temp_list)\n",
    "        else:\n",
    "            opsdata_l14[opname] = temp_list\n",
    "            \n",
    "\n",
    "print opsdata_l14"
   ]
  },
  {
   "cell_type": "markdown",
   "metadata": {},
   "source": [
    "Locating and loading Lipid14 + Dang ions simulations"
   ]
  },
  {
   "cell_type": "code",
   "execution_count": 77,
   "metadata": {
    "collapsed": false
   },
   "outputs": [
    {
     "name": "stdout",
     "output_type": "stream",
     "text": [
      "['/mnt/ssd/NMRlipids_VI-NewIonModel/simulations/POPC/lipid14/NpT/sim0_ref_noIons', '/mnt/ssd/NMRlipids_VI-NewIonModel/simulations/POPC/lipid14/NpT/sim1_843mM_NaCl_Dang_ref']\n",
      "Simulation in \n",
      " /mnt/ssd/NMRlipids_VI-NewIonModel/simulations/POPC/lipid14/NpT/sim0_ref_noIons \n",
      " has no densities or files with concentrations, setting concentrations to 0.\n"
     ]
    }
   ],
   "source": [
    "#REUSING sim_dirs!!\n",
    "sim_dirs = []\n",
    "for f in locate(\"OrdPars.dat\", root=os.curdir+\"/NpT\"):\n",
    "    if \"sim1_\" in f or \"sim0_ref_noIons\" in f:\n",
    "        sim_dirs.append(os.path.dirname(f))\n",
    "\n",
    "sim_dirs.sort()\n",
    "print sim_dirs\n",
    "\n",
    "sims_l14d = []\n",
    "for d in sim_dirs:\n",
    "    sim = Simulation(d)\n",
    "    sims_l14d.append(sim)"
   ]
  },
  {
   "cell_type": "code",
   "execution_count": 78,
   "metadata": {
    "collapsed": false
   },
   "outputs": [
    {
     "name": "stdout",
     "output_type": "stream",
     "text": [
      "0.0 0.06928 0.00077\n",
      "0.0 0.07021 0.00076\n",
      "0.0 -0.00241 0.00073\n",
      "0.0 0.00048 0.00073\n",
      "0.0 76.79575 0.05124\n",
      "0.0 -0.17378 0.00055\n",
      "0.0 -0.23514 0.00049\n",
      "580.557940199 0.0380736760829 Simulation in dir \n",
      " /mnt/ssd/NMRlipids_VI-NewIonModel/simulations/POPC/lipid14/NpT/sim1_843mM_NaCl_Dang_ref \n",
      " seem to have no record of the order parameter alpha1 -- skipping\n",
      "580.557940199 0.040288558033 Simulation in dir \n",
      " /mnt/ssd/NMRlipids_VI-NewIonModel/simulations/POPC/lipid14/NpT/sim1_843mM_NaCl_Dang_ref \n",
      " seem to have no record of the order parameter alpha2 -- skipping\n",
      "580.557940199 -0.0174058668188 Simulation in dir \n",
      " /mnt/ssd/NMRlipids_VI-NewIonModel/simulations/POPC/lipid14/NpT/sim1_843mM_NaCl_Dang_ref \n",
      " seem to have no record of the order parameter beta1 -- skipping\n",
      "580.557940199 -0.01621163431 Simulation in dir \n",
      " /mnt/ssd/NMRlipids_VI-NewIonModel/simulations/POPC/lipid14/NpT/sim1_843mM_NaCl_Dang_ref \n",
      " seem to have no record of the order parameter beta2 -- skipping\n",
      "Simulation in dir \n",
      " /mnt/ssd/NMRlipids_VI-NewIonModel/simulations/POPC/lipid14/NpT/sim1_843mM_NaCl_Dang_ref \n",
      " seem to have no record of the order parameter PN_vector -- skipping\n",
      "580.557940199 -0.164579077282 Simulation in dir \n",
      " /mnt/ssd/NMRlipids_VI-NewIonModel/simulations/POPC/lipid14/NpT/sim1_843mM_NaCl_Dang_ref \n",
      " seem to have no record of the order parameter g3_1 -- skipping\n",
      "580.557940199 -0.222820734553 Simulation in dir \n",
      " /mnt/ssd/NMRlipids_VI-NewIonModel/simulations/POPC/lipid14/NpT/sim1_843mM_NaCl_Dang_ref \n",
      " seem to have no record of the order parameter g3_2 -- skipping\n",
      "{'alpha2': [[0.0, 0.07021], [580.55794019899997, 0.040288558033]], 'alpha1': [[0.0, 0.06928], [580.55794019899997, 0.0380736760829]], 'g3_2': [[0.0, -0.23514], [580.55794019899997, -0.222820734553]], 'g3_1': [[0.0, -0.17378], [580.55794019899997, -0.164579077282]], 'beta2': [[0.0, 0.00048], [580.55794019899997, -0.01621163431]], 'beta1': [[0.0, -0.00241], [580.55794019899997, -0.0174058668188]], 'PN_vector': [[0.0, 76.79575]]}\n"
     ]
    }
   ],
   "source": [
    "opsdata_l14d = {}\n",
    "# regular expressions explained at https://docs.python.org/2/howto/regex.html#match-versus-search\n",
    "#p = re.compile('\\d+molF')  # string pattern for molar fraction in %\n",
    "for s in sims_l14d:\n",
    "    if \"molF\" in s.dirname:\n",
    "        m = p.search(s.dirname)\n",
    "        s.conc_bulk[0] = float(m.group()[0:2])\n",
    "    for opname in [\"alpha1\", \"alpha2\", \"beta1\", \"beta2\", \"PN_vector\", \"g3_1\", \"g3_2\"]:\n",
    "        temp_list = []\n",
    "        try:\n",
    "            temp_list.append([s.conc_bulk[0], float(s.ordpars[opname].avg)])\n",
    "            print s.conc_bulk[0], float(s.ordpars[opname].avg), float(s.ordpars[opname].errest)\n",
    "        except:\n",
    "            print \"Simulation in dir \\n {d} \\n seem to have no record of the order parameter {op} -- skipping\".format(d=s.dirname, op=opname)\n",
    "        if opname in opsdata_l14d.keys():\n",
    "            opsdata_l14d[opname].extend(temp_list)\n",
    "        else:\n",
    "            opsdata_l14d[opname] = temp_list\n",
    "            \n",
    "\n",
    "print opsdata_l14d"
   ]
  },
  {
   "cell_type": "markdown",
   "metadata": {},
   "source": [
    "getting experimental results from Scherer89"
   ]
  },
  {
   "cell_type": "code",
   "execution_count": 79,
   "metadata": {
    "collapsed": false
   },
   "outputs": [
    {
     "name": "stdout",
     "output_type": "stream",
     "text": [
      "{'alpha': array([[  0.00000000e+00,   0.00000000e+00],\n",
      "       [  1.05000000e+03,  -5.61000000e-03]]), 'beta': array([[  0.00000000e+00,  -0.00000000e+00],\n",
      "       [  1.05000000e+03,  -2.24400000e-03]])}\n"
     ]
    }
   ],
   "source": [
    "exp_filenames = []\n",
    "experiments = {}\n",
    "freq_to_scd = 0.00748\n",
    "# find files with the experimental values as read from figure4 in scherer89\n",
    "for f in locate(\"EXP-Akutsu*NaClchange.dat\", root=os.curdir+\"/../../../../lipid_ionINTERACTION/\"):\n",
    "    exp_filenames.append(f)\n",
    "    \n",
    "exp_data = np.loadtxt(exp_filenames[0], dtype=str)\n",
    "# convert col1 to contain S_CD with a correct sign -- this is specific to these data\n",
    "# convert col0 to contain concentrations in %-unit\n",
    "experiments['beta']  = exp_data[:,0:-1]\n",
    "experiments['alpha'] = exp_data[:,[0,2]]\n",
    "for key in experiments.keys():\n",
    "    templist = []\n",
    "    for item in experiments[key]:\n",
    "        if not item[1]=='-':\n",
    "            fitem = np.array(item, dtype=float)\n",
    "            freq_sign = 1.0\n",
    "            if 'beta' in key:\n",
    "                freq_sign = -1.0\n",
    "            templist.append([fitem[0]*1.0, fitem[1]*freq_to_scd*freq_sign])\n",
    "    experiments[key] = np.array(templist, dtype=float)\n",
    "    \n",
    "print experiments\n",
    "        "
   ]
  },
  {
   "cell_type": "markdown",
   "metadata": {},
   "source": [
    "# Plotting figure 1: PN_vector and order parameters $\\alpha$ and $\\beta$ depend on the amount of bound charge - cationic surfactant"
   ]
  },
  {
   "cell_type": "code",
   "execution_count": 80,
   "metadata": {
    "collapsed": false
   },
   "outputs": [
    {
     "name": "stdout",
     "output_type": "stream",
     "text": [
      "this should not happen, setting iplt = 2 \n",
      " Key name was g3_2\n",
      "this should not happen, setting iplt = 2 \n",
      " Key name was g3_1\n",
      "this should not happen, setting iplt = 2 \n",
      " Key name was g3_2\n",
      "this should not happen, setting iplt = 2 \n",
      " Key name was g3_1\n",
      "this should not happen, setting iplt = 2 \n",
      " Key name was g3_2\n",
      "this should not happen, setting iplt = 2 \n",
      " Key name was g3_1\n"
     ]
    },
    {
     "data": {
      "image/png": "[encoded data removed]",
      "text/plain": [
       "<matplotlib.figure.Figure at 0x7f747e633b50>"
      ]
     },
     "metadata": {},
     "output_type": "display_data"
    }
   ],
   "source": [
    "font = {'family' : 'Liberation Sans',\n",
    "        'style'  : 'normal',\n",
    "        'weight' : 'normal',\n",
    "        'size'   : 18}\n",
    "\n",
    "matplotlib.rc('font', **font)\n",
    "\n",
    "fig, axs = plt.subplots(nrows=3, ncols=1, sharex=\"all\", figsize=[4,8], dpi=200)\n",
    "#fig.subplotpars.left = 0.3\n",
    "\n",
    "# give subplots human-redable names\n",
    "dsa = axs[1] # Delta S alpha\n",
    "dsb = axs[0] # Delta S beta\n",
    "pna = axs[2] # PN_vector\n",
    "\n",
    "# add some text for labels, title and axes ticks\n",
    "pna.set_xlabel(r'Concentration of NaCl / mM')\n",
    "pna.set_ylabel(r'P-N angle')\n",
    "dsa.set_ylabel(r'$\\Delta S_{CH} ^{\\alpha}$')\n",
    "dsb.set_ylabel(r'$\\Delta S_{CH} ^{\\beta}$')\n",
    "\n",
    "#pna.set_xlim([0.0,60.0])\n",
    "#ax.set_xticks(r1)\n",
    "#xlabelsl = list(xlabels)\n",
    "#xlabelsl.extend(range(2, 18))\n",
    "#ax.set_xticklabels(xlabelsl, rotation=0)\n",
    "\n",
    "for (opsplot, c, label) in zip([opsdata, opsdata_l14, opsdata_l14d, experiments], \n",
    "                               [\"red\", \"blue\", \"green\", \"black\"], \n",
    "                               [\"ECC-lipids\", ur\"Lipid14 (\\u00c5qvist)\", \"Lipid14 (Dang)\", \"Experiment\"]):\n",
    "    for key in opsplot.keys():\n",
    "        yerror = 0.001\n",
    "        do_delta = False\n",
    "        if key.startswith(\"alpha\"):\n",
    "            iplt = 1\n",
    "            do_delta = True\n",
    "            ylim = [-0.04, 0.005]\n",
    "        elif key.startswith(\"beta\"):\n",
    "            iplt = 0\n",
    "            do_delta = True\n",
    "            ylim = [-0.04, 0.005]\n",
    "        elif key.startswith(\"PN\"):\n",
    "            iplt = 2\n",
    "            yerror = 0.15\n",
    "            ylim = [60.0, 80.0]\n",
    "        else:\n",
    "            print \"this should not happen, setting iplt = 2 \\n Key name was {}\".format(key)\n",
    "            iplt = 2\n",
    "        ax = axs[iplt]\n",
    "        ax.set_ylim(ylim)\n",
    "        if isinstance(opsplot[key], list):\n",
    "            opsplot[key].sort()\n",
    "        else:\n",
    "            #print \"this is not list, not sorting. It's likely the experimental data.\"\n",
    "            pass\n",
    "        data = np.array(opsplot[key])\n",
    "        if do_delta:\n",
    "            data[:,1] -= data[0,1]\n",
    "        #ax.errorbar(data[:,0], data[:,1], yerr=yerror, lw=2.0, marker='s', markersize=5, mew=0, color=c) #, c=colour, lw=1.0, label=point_label)\n",
    "        if key==\"beta\" or key==\"beta1\":\n",
    "            plot_label = label\n",
    "        else:\n",
    "            plot_label = None\n",
    "        ax.plot(data[:,0], data[:,1], lw=2.0, marker='o', markersize=5, mew=0, color=c, label=plot_label) #, c=colour, lw=1.0, label=point_label)\n",
    "\n",
    "        \n",
    "for ax in axs:\n",
    "    ax.minorticks_on()\n",
    "    pass\n",
    "    \n",
    "xlim = pna.get_xlim()\n",
    "ticks = range(0, 1200, 200)\n",
    "pna.set_xticks(ticks)\n",
    "pna.set_xticklabels([ str(i) for i in ticks])\n",
    "pna.set_xlim(xlim)\n",
    "\n",
    "ylim = pna.get_ylim()\n",
    "pna.set_yticks(range(0,90,5))\n",
    "pna.set_yticklabels([ str(i)+r\"$^\\circ$\" for i in range(0,90,5)])\n",
    "pna.set_ylim(ylim)\n",
    "\n",
    "dsb.legend(loc=\"lower right\", ncol=1, markerscale=1.0, scatterpoints=4, fontsize='xx-small')\n",
    "\n",
    "plt.savefig(\"PN_angle_OrdPars-A-B_L14-ECCL17_q80_sig89_NaCl.pdf\", dpi=200, bbox_inches='tight')\n",
    "plt.show()\n"
   ]
  },
  {
   "cell_type": "markdown",
   "metadata": {},
   "source": [
    "# Plotting figure 2: PN_vector and order parameters $\\alpha$, $\\beta$, and $g_3$ depend on the amount of bound charge - cationic surfactant"
   ]
  },
  {
   "cell_type": "code",
   "execution_count": 81,
   "metadata": {
    "collapsed": false
   },
   "outputs": [
    {
     "data": {
      "image/png": "[encoded data removed]",
      "text/plain": [
       "<matplotlib.figure.Figure at 0x7f747dc92c10>"
      ]
     },
     "metadata": {},
     "output_type": "display_data"
    }
   ],
   "source": [
    "font = {'family' : 'Liberation Sans',\n",
    "        'style'  : 'normal',\n",
    "        'weight' : 'normal',\n",
    "        'size'   : 18}\n",
    "\n",
    "matplotlib.rc('font', **font)\n",
    "\n",
    "fig, axs = plt.subplots(nrows=4, ncols=1, sharex=\"all\", figsize=[4,12], dpi=200)\n",
    "#fig.subplotpars.left = 0.3\n",
    "\n",
    "# give subplots human-redable names\n",
    "dsa = axs[1] # Delta S alpha\n",
    "dsb = axs[0] # Delta S beta\n",
    "dsg = axs[2] # Delta S g_3\n",
    "pna = axs[3] # PN_vector\n",
    "\n",
    "# add some text for labels, title and axes ticks\n",
    "pna.set_xlabel(r'Concentration of NaCl / mM')\n",
    "pna.set_ylabel(r'P-N angle')\n",
    "dsa.set_ylabel(r'$\\Delta S_{CH} ^{\\alpha}$')\n",
    "dsb.set_ylabel(r'$\\Delta S_{CH} ^{\\beta}$')\n",
    "dsg.set_ylabel(r'$\\Delta S_{CH} ^{g_3}$')\n",
    "\n",
    "#pna.set_xlim([0.0,60.0])\n",
    "#ax.set_xticks(r1)\n",
    "#xlabelsl = list(xlabels)\n",
    "#xlabelsl.extend(range(2, 18))\n",
    "#ax.set_xticklabels(xlabelsl, rotation=0)\n",
    "\n",
    "for (opsplot, c, label) in zip([opsdata, opsdata_l14, opsdata_l14d, experiments], \n",
    "                               [\"red\", \"blue\", \"green\", \"black\"], \n",
    "                               [\"ECC-lipids\", ur\"Lipid14 (\\u00c5qvist)\", \"Lipid14 (Dang)\", \"Experiment\"]):\n",
    "    for key in opsplot.keys():\n",
    "        yerror = 0.001\n",
    "        do_delta = False\n",
    "        if key.startswith(\"alpha\"):\n",
    "            iplt = 1\n",
    "            do_delta = True\n",
    "            ylim = [-0.04, 0.005]\n",
    "        elif key.startswith(\"beta\"):\n",
    "            iplt = 0\n",
    "            do_delta = True\n",
    "            ylim = [-0.04, 0.005]\n",
    "        elif key.startswith(\"g3\"):\n",
    "            iplt = 2\n",
    "            do_delta = True\n",
    "            ylim = [-0.01, 0.04]\n",
    "        elif key.startswith(\"PN\"):\n",
    "            iplt = 3\n",
    "            yerror = 0.15\n",
    "            ylim = [55.0, 80.0]\n",
    "        else:\n",
    "            print \"this should not happen, setting iplt = 2\"\n",
    "            iplt = 2\n",
    "        ax = axs[iplt]\n",
    "        ax.set_ylim(ylim)\n",
    "        if isinstance(opsplot[key], list):\n",
    "            opsplot[key].sort()\n",
    "        else:\n",
    "            #print \"this is not list, not sorting. It's likely the experimental data.\"\n",
    "            pass\n",
    "        data = np.array(opsplot[key])\n",
    "        if do_delta:\n",
    "            data[:,1] -= data[0,1]\n",
    "        #ax.errorbar(data[:,0], data[:,1], yerr=yerror, lw=2.0, marker='s', markersize=5, mew=0, color=c) #, c=colour, lw=1.0, label=point_label)\n",
    "        if key==\"beta\" or key==\"beta1\":\n",
    "            plot_label = label\n",
    "        else:\n",
    "            plot_label = None\n",
    "        ax.plot(data[:,0], data[:,1], lw=2.0, marker='o', markersize=5, mew=0, color=c, label=plot_label) #, c=colour, lw=1.0, label=point_label)\n",
    "\n",
    "        \n",
    "for ax in axs:\n",
    "    ax.minorticks_on()\n",
    "    pass\n",
    "    \n",
    "xlim = pna.get_xlim()\n",
    "ticks = range(0, 1200, 200)\n",
    "pna.set_xticks(ticks)\n",
    "pna.set_xticklabels([ str(i) for i in ticks])\n",
    "pna.set_xlim(xlim)\n",
    "\n",
    "ylim = pna.get_ylim()\n",
    "pna.set_yticks(range(0,90,5))\n",
    "pna.set_yticklabels([ str(i)+r\"$^\\circ$\" for i in range(0,90,5)])\n",
    "pna.set_ylim(ylim)\n",
    "\n",
    "dsb.legend(loc=\"lower right\", ncol=1, markerscale=1.0, scatterpoints=4, fontsize='xx-small')\n",
    "\n",
    "plt.savefig(\"PN_angle_OrdPars-A-B-g3_L14-ECCL17_q80_sig89_NaCl.pdf\", dpi=200, bbox_inches='tight')\n",
    "plt.show()\n"
   ]
  },
  {
   "cell_type": "code",
   "execution_count": null,
   "metadata": {
    "collapsed": true
   },
   "outputs": [],
   "source": []
  }
 ],
 "metadata": {
  "kernelspec": {
   "display_name": "Python 2",
   "language": "python",
   "name": "python2"
  },
  "language_info": {
   "codemirror_mode": {
    "name": "ipython",
    "version": 2
   },
   "file_extension": ".py",
   "mimetype": "text/x-python",
   "name": "python",
   "nbconvert_exporter": "python",
   "pygments_lexer": "ipython2",
   "version": "2.7.13"
  }
 },
 "nbformat": 4,
 "nbformat_minor": 0
}
