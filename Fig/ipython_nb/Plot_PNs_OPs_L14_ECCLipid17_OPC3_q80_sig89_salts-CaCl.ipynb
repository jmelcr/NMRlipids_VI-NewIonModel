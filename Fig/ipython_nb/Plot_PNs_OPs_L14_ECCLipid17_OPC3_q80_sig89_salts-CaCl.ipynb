{
 "cells": [
  {
   "cell_type": "code",
   "execution_count": 99,
   "metadata": {
    "collapsed": false
   },
   "outputs": [
    {
     "name": "stdout",
     "output_type": "stream",
     "text": [
      "Populating the interactive namespace from numpy and matplotlib\n"
     ]
    },
    {
     "name": "stderr",
     "output_type": "stream",
     "text": [
      "WARNING: pylab import has clobbered these variables: ['f', 'xlim', 'ylim']\n",
      "`%matplotlib` prevents importing * from pylab and numpy\n"
     ]
    }
   ],
   "source": [
    "import matplotlib\n",
    "import matplotlib.pyplot as plt\n",
    "import numpy as np\n",
    "import os, sys\n",
    "import itertools\n",
    "sys.path.append(\"/mnt/ssd/NMRlipids_VI-NewIonModel/scripts/\")\n",
    "import calcOrderParameters as cop\n",
    "import fnmatch\n",
    "import re\n",
    "%pylab inline"
   ]
  },
  {
   "cell_type": "code",
   "execution_count": 100,
   "metadata": {
    "collapsed": true
   },
   "outputs": [],
   "source": [
    "def locate(pattern, root=os.curdir):\n",
    "    '''Locate all files matching supplied filename pattern in and below\n",
    "    supplied root directory.'''\n",
    "    for path, dirs, files in os.walk(os.path.abspath(root)):\n",
    "        for filename in fnmatch.filter(files, pattern):\n",
    "            yield os.path.join(path, filename)\n",
    "            "
   ]
  },
  {
   "cell_type": "code",
   "execution_count": 101,
   "metadata": {
    "collapsed": false
   },
   "outputs": [],
   "source": [
    "class Simulation():\n",
    "    '''Simulation class stores simulation data relevant for NMRlipids project 6'''\n",
    "    def __init__(self, dirname, \n",
    "                 ordpars_fname=\"OrdPars.dat\", \n",
    "                 dens_fname=\"density_ca_cl_water.xvg\", \n",
    "                 conc_bulk_fname=\"conc_ion_bulk_mmolL.dat\", \n",
    "                 conc_nominal_fname=\"conc_ion_nominal_mmolL.dat\"):\n",
    "        self.dirname = dirname\n",
    "        self.ordpars = cop.parse_op_input(os.path.join(dirname, ordpars_fname))\n",
    "        try:\n",
    "            self.dens    = np.loadtxt(os.path.join(dirname, dens_fname))\n",
    "            self.conc_bulk = np.loadtxt(os.path.join(dirname, conc_bulk_fname))\n",
    "            self.conc_nominal = np.loadtxt(os.path.join(dirname, conc_nominal_fname))\n",
    "        except:\n",
    "            print \"Simulation in \\n {d} \\n has no densities or files with concentrations, setting concentrations to 0.\".format(d=self.dirname)\n",
    "            self.conc_bulk = np.zeros([2])\n",
    "            self.conc_nominal = 0.0\n",
    "                    "
   ]
  },
  {
   "cell_type": "markdown",
   "metadata": {},
   "source": [
    "Finding all simulations with ECC-lipids and cationic surfactant"
   ]
  },
  {
   "cell_type": "code",
   "execution_count": 102,
   "metadata": {
    "collapsed": false
   },
   "outputs": [],
   "source": [
    "sim_dirs = []\n",
    "for f in locate(\"OrdPars.dat\", root=os.curdir+\"/NpT\"):\n",
    "    if \"sim22a_0mM\" in f and \"NaCl\" in f and \"OPC3\" in f:\n",
    "        sim_dirs.append(os.path.dirname(f))\n",
    "    if \"sim22a_\" in f and \"OPC3\" in f and \"mM_CaCl-2s\" in f and not \"MODEL_LIPID14\" in f:\n",
    "        sim_dirs.append(os.path.dirname(f))\n",
    "\n",
    "for f in sim_dirs:\n",
    "    if \"300K\" in f:\n",
    "        sim_dirs.remove(f)\n",
    "        \n",
    "sim_dirs.sort()\n",
    "#print sim_dirs"
   ]
  },
  {
   "cell_type": "code",
   "execution_count": 103,
   "metadata": {
    "collapsed": false
   },
   "outputs": [
    {
     "name": "stdout",
     "output_type": "stream",
     "text": [
      "Simulation in \n",
      " /mnt/ssd/NMRlipids_VI-NewIonModel/simulations/POPC/lipid14/NpT/sim22a_0mM_NaCl_OPC3_non-tail-atoms_q-sc_0.80_sig-sc_0.89_noIons-ref \n",
      " has no densities or files with concentrations, setting concentrations to 0.\n"
     ]
    }
   ],
   "source": [
    "sims = []\n",
    "for d in sim_dirs:\n",
    "    sim = Simulation(d)\n",
    "    sims.append(sim)"
   ]
  },
  {
   "cell_type": "markdown",
   "metadata": {},
   "source": [
    "getting PN_vector data from ECC-lipids simulations"
   ]
  },
  {
   "cell_type": "code",
   "execution_count": 104,
   "metadata": {
    "collapsed": false
   },
   "outputs": [
    {
     "name": "stdout",
     "output_type": "stream",
     "text": [
      "0.0 0.00859 0.00111\n",
      "0.0 0.00926 0.00111\n",
      "0.0 -0.0459 0.00106\n",
      "0.0 -0.04657 0.00106\n",
      "0.0 71.0464 0.08009\n",
      "0.0 -0.16015 0.00089\n",
      "0.0 -0.17845 0.00083\n",
      "92.7881827243 0.00083 0.00078\n",
      "92.7881827243 -0.00082 0.00078\n",
      "92.7881827243 -0.04993 0.00075\n",
      "92.7881827243 -0.05245 0.00075\n",
      "92.7881827243 69.76658 0.05807\n",
      "92.7881827243 -0.15837 0.00063\n",
      "92.7881827243 -0.1742 0.00059\n",
      "105.869870432 -0.00392 0.00078\n",
      "105.869870432 -0.00066 0.00078\n",
      "105.869870432 -0.05061 0.00075\n",
      "105.869870432 -0.05425 0.00074\n",
      "105.869870432 69.47076 0.0585\n",
      "105.869870432 -0.15467 0.00063\n",
      "105.869870432 -0.1748 0.00059\n",
      "199.21089701 -0.00881 0.00077\n",
      "199.21089701 -0.01107 0.00077\n",
      "199.21089701 -0.05389 0.00074\n",
      "199.21089701 -0.05641 0.00074\n",
      "199.21089701 68.58783 0.05938\n",
      "199.21089701 -0.14982 0.00064\n",
      "199.21089701 -0.17398 0.00059\n",
      "286.565780731 -0.01526 0.00077\n",
      "286.565780731 -0.0136 0.00077\n",
      "286.565780731 -0.05638 0.00074\n",
      "286.565780731 -0.05788 0.00074\n",
      "286.565780731 67.89426 0.06\n",
      "286.565780731 -0.14859 0.00064\n",
      "286.565780731 -0.16833 0.0006\n",
      "380.367641196 -0.02006 0.00108\n",
      "380.367641196 -0.01924 0.00108\n",
      "380.367641196 -0.061 0.00104\n",
      "380.367641196 -0.0599 0.00105\n",
      "380.367641196 67.65904 0.08706\n",
      "380.367641196 -0.15838 0.00089\n",
      "380.367641196 -0.16652 0.00085\n",
      "616.770996678 -0.02181 0.00076\n",
      "616.770996678 -0.01975 0.00077\n",
      "616.770996678 -0.0571 0.00074\n",
      "616.770996678 -0.06098 0.00074\n",
      "616.770996678 67.59791 0.06167\n",
      "616.770996678 -0.15234 0.00064\n",
      "616.770996678 -0.15608 0.00061\n",
      "845.25372093 -0.02585 0.00076\n",
      "845.25372093 -0.02403 0.00076\n",
      "845.25372093 -0.05954 0.00074\n",
      "845.25372093 -0.06236 0.00074\n",
      "845.25372093 66.60255 0.06116\n",
      "845.25372093 -0.13274 0.00065\n",
      "845.25372093 -0.16446 0.0006\n",
      "{'alpha2': [[0.0, 0.00926], [92.7881827243, -0.00082], [105.869870432, -0.00066], [199.21089701, -0.01107], [286.56578073100002, -0.0136], [380.36764119600002, -0.01924], [616.77099667799996, -0.01975], [845.25372092999999, -0.02403]], 'alpha1': [[0.0, 0.00859], [92.7881827243, 0.00083], [105.869870432, -0.00392], [199.21089701, -0.00881], [286.56578073100002, -0.01526], [380.36764119600002, -0.02006], [616.77099667799996, -0.02181], [845.25372092999999, -0.02585]], 'g3_2': [[0.0, -0.17845], [92.7881827243, -0.1742], [105.869870432, -0.1748], [199.21089701, -0.17398], [286.56578073100002, -0.16833], [380.36764119600002, -0.16652], [616.77099667799996, -0.15608], [845.25372092999999, -0.16446]], 'g3_1': [[0.0, -0.16015], [92.7881827243, -0.15837], [105.869870432, -0.15467], [199.21089701, -0.14982], [286.56578073100002, -0.14859], [380.36764119600002, -0.15838], [616.77099667799996, -0.15234], [845.25372092999999, -0.13274]], 'beta2': [[0.0, -0.04657], [92.7881827243, -0.05245], [105.869870432, -0.05425], [199.21089701, -0.05641], [286.56578073100002, -0.05788], [380.36764119600002, -0.0599], [616.77099667799996, -0.06098], [845.25372092999999, -0.06236]], 'beta1': [[0.0, -0.0459], [92.7881827243, -0.04993], [105.869870432, -0.05061], [199.21089701, -0.05389], [286.56578073100002, -0.05638], [380.36764119600002, -0.061], [616.77099667799996, -0.0571], [845.25372092999999, -0.05954]], 'PN_vector': [[0.0, 71.0464], [92.7881827243, 69.76658], [105.869870432, 69.47076], [199.21089701, 68.58783], [286.56578073100002, 67.89426], [380.36764119600002, 67.65904], [616.77099667799996, 67.59791], [845.25372092999999, 66.60255]]}\n"
     ]
    }
   ],
   "source": [
    "opsdata = {}\n",
    "# regular expressions explained at https://docs.python.org/2/howto/regex.html#match-versus-search\n",
    "p = re.compile('\\d+p_')  # string pattern for molar fraction in %\n",
    "for s in sims:\n",
    "    if \"T7H\" in s.dirname:\n",
    "        m = p.search(s.dirname)\n",
    "        s.conc_bulk[0] = float(m.group()[0:2])\n",
    "    for opname in [\"alpha1\", \"alpha2\", \"beta1\", \"beta2\", \"PN_vector\", \"g3_1\", \"g3_2\"]:\n",
    "        temp_list = []\n",
    "        try:\n",
    "            temp_list.append([s.conc_bulk[0], float(s.ordpars[opname].avg)])\n",
    "            print s.conc_bulk[0], float(s.ordpars[opname].avg), float(s.ordpars[opname].errest)\n",
    "        except:\n",
    "            print \"Simulation in dir \\n {d} \\n seem to have no record of the order parameter {op} -- skipping\".format(d=s.dirname, op=opname)\n",
    "        if opname in opsdata.keys():\n",
    "            opsdata[opname].extend(temp_list)\n",
    "        else:\n",
    "            opsdata[opname] = temp_list\n",
    "            \n",
    "\n",
    "print opsdata"
   ]
  },
  {
   "cell_type": "markdown",
   "metadata": {},
   "source": [
    "Redoing the file search again for the reference simulations set (i.e. Lipid14 + Aqvist ions)"
   ]
  },
  {
   "cell_type": "code",
   "execution_count": 105,
   "metadata": {
    "collapsed": false
   },
   "outputs": [
    {
     "name": "stdout",
     "output_type": "stream",
     "text": [
      "Simulation in \n",
      " /mnt/ssd/NMRlipids_VI-NewIonModel/simulations/POPC/lipid14/NpT/sim0_ref_noIons \n",
      " has no densities or files with concentrations, setting concentrations to 0.\n"
     ]
    }
   ],
   "source": [
    "#REUSING sim_dirs!!\n",
    "sim_dirs = []\n",
    "for f in locate(\"OrdPars.dat\", root=os.curdir+\"/NpT\"):\n",
    "    if \"sim0_ref_noIons\" in f:\n",
    "        sim_dirs.append(os.path.dirname(f))\n",
    "    if \"sim0-3_\" in f and \"CaCl_Aqvist\" in f:\n",
    "        sim_dirs.append(os.path.dirname(f))\n",
    "\n",
    "sim_dirs.sort()\n",
    "#print sim_dirs\n",
    "\n",
    "sims_l14 = []\n",
    "for d in sim_dirs:\n",
    "    sim = Simulation(d)\n",
    "    sims_l14.append(sim)"
   ]
  },
  {
   "cell_type": "markdown",
   "metadata": {},
   "source": [
    "getting PN_vector data from Lipid14 simulations"
   ]
  },
  {
   "cell_type": "code",
   "execution_count": 106,
   "metadata": {
    "collapsed": false
   },
   "outputs": [
    {
     "name": "stdout",
     "output_type": "stream",
     "text": [
      "213.831860465 0.00209 0.00078\n",
      "213.831860465 -0.0038 0.00077\n",
      "213.831860465 -0.03167 0.00076\n",
      "213.831860465 -0.03163 0.00076\n",
      "213.831860465 67.66171 0.06049\n",
      "213.831860465 -0.09784 0.00064\n",
      "213.831860465 -0.20735 0.00055\n",
      "730.0 -0.0348113 Simulation in dir \n",
      " /mnt/ssd/NMRlipids_VI-NewIonModel/simulations/POPC/lipid14/NpT/sim0-3_999mM_CaCl_Aqvist_TIP3p \n",
      " seem to have no record of the order parameter alpha1 -- skipping\n",
      "730.0 -0.0418298 Simulation in dir \n",
      " /mnt/ssd/NMRlipids_VI-NewIonModel/simulations/POPC/lipid14/NpT/sim0-3_999mM_CaCl_Aqvist_TIP3p \n",
      " seem to have no record of the order parameter alpha2 -- skipping\n",
      "730.0 -0.0512234 Simulation in dir \n",
      " /mnt/ssd/NMRlipids_VI-NewIonModel/simulations/POPC/lipid14/NpT/sim0-3_999mM_CaCl_Aqvist_TIP3p \n",
      " seem to have no record of the order parameter beta1 -- skipping\n",
      "730.0 -0.0537995 Simulation in dir \n",
      " /mnt/ssd/NMRlipids_VI-NewIonModel/simulations/POPC/lipid14/NpT/sim0-3_999mM_CaCl_Aqvist_TIP3p \n",
      " seem to have no record of the order parameter beta2 -- skipping\n",
      "Simulation in dir \n",
      " /mnt/ssd/NMRlipids_VI-NewIonModel/simulations/POPC/lipid14/NpT/sim0-3_999mM_CaCl_Aqvist_TIP3p \n",
      " seem to have no record of the order parameter PN_vector -- skipping\n",
      "730.0 -0.0380337 Simulation in dir \n",
      " /mnt/ssd/NMRlipids_VI-NewIonModel/simulations/POPC/lipid14/NpT/sim0-3_999mM_CaCl_Aqvist_TIP3p \n",
      " seem to have no record of the order parameter g3_1 -- skipping\n",
      "730.0 -0.162445 Simulation in dir \n",
      " /mnt/ssd/NMRlipids_VI-NewIonModel/simulations/POPC/lipid14/NpT/sim0-3_999mM_CaCl_Aqvist_TIP3p \n",
      " seem to have no record of the order parameter g3_2 -- skipping\n",
      "0.0 0.06928 0.00077\n",
      "0.0 0.07021 0.00076\n",
      "0.0 -0.00241 0.00073\n",
      "0.0 0.00048 0.00073\n",
      "0.0 76.79575 0.05124\n",
      "0.0 -0.17378 0.00055\n",
      "0.0 -0.23514 0.00049\n",
      "{'alpha2': [[213.83186046500001, -0.0038], [730.0, -0.0418298], [0.0, 0.07021]], 'alpha1': [[213.83186046500001, 0.00209], [730.0, -0.0348113], [0.0, 0.06928]], 'g3_2': [[213.83186046500001, -0.20735], [730.0, -0.162445], [0.0, -0.23514]], 'g3_1': [[213.83186046500001, -0.09784], [730.0, -0.0380337], [0.0, -0.17378]], 'beta2': [[213.83186046500001, -0.03163], [730.0, -0.0537995], [0.0, 0.00048]], 'beta1': [[213.83186046500001, -0.03167], [730.0, -0.0512234], [0.0, -0.00241]], 'PN_vector': [[213.83186046500001, 67.66171], [0.0, 76.79575]]}\n"
     ]
    }
   ],
   "source": [
    "opsdata_l14 = {}\n",
    "# regular expressions explained at https://docs.python.org/2/howto/regex.html#match-versus-search\n",
    "#p = re.compile('\\d+molF')  # string pattern for molar fraction in %\n",
    "for s in sims_l14:\n",
    "    for opname in [\"alpha1\", \"alpha2\", \"beta1\", \"beta2\", \"PN_vector\", \"g3_1\", \"g3_2\"]:\n",
    "        temp_list = []\n",
    "        try:\n",
    "            temp_list.append([s.conc_bulk[0], float(s.ordpars[opname].avg)])\n",
    "            print s.conc_bulk[0], float(s.ordpars[opname].avg), float(s.ordpars[opname].errest)\n",
    "        except:\n",
    "            print \"Simulation in dir \\n {d} \\n seem to have no record of the order parameter {op} -- skipping\".format(d=s.dirname, op=opname)\n",
    "        if opname in opsdata_l14.keys():\n",
    "            opsdata_l14[opname].extend(temp_list)\n",
    "        else:\n",
    "            opsdata_l14[opname] = temp_list\n",
    "            \n",
    "\n",
    "print opsdata_l14"
   ]
  },
  {
   "cell_type": "markdown",
   "metadata": {},
   "source": [
    "Locating and loading Lipid14 + Dang ions simulations"
   ]
  },
  {
   "cell_type": "code",
   "execution_count": 107,
   "metadata": {
    "collapsed": false
   },
   "outputs": [
    {
     "name": "stdout",
     "output_type": "stream",
     "text": [
      "Simulation in \n",
      " /mnt/ssd/NMRlipids_VI-NewIonModel/simulations/POPC/lipid14/NpT/sim0_ref_noIons \n",
      " has no densities or files with concentrations, setting concentrations to 0.\n"
     ]
    }
   ],
   "source": [
    "#REUSING sim_dirs!!\n",
    "sim_dirs = []\n",
    "for f in locate(\"OrdPars.dat\", root=os.curdir+\"/NpT\"):\n",
    "    if \"sim2-3_\" in f or \"sim0_ref_noIons\" in f:\n",
    "        sim_dirs.append(os.path.dirname(f))\n",
    "\n",
    "sim_dirs.sort()\n",
    "#print sim_dirs\n",
    "\n",
    "sims_l14d = []\n",
    "for d in sim_dirs:\n",
    "    sim = Simulation(d)\n",
    "    sims_l14d.append(sim)"
   ]
  },
  {
   "cell_type": "code",
   "execution_count": 108,
   "metadata": {
    "collapsed": false,
    "scrolled": true
   },
   "outputs": [
    {
     "name": "stdout",
     "output_type": "stream",
     "text": [
      "0.0 0.06928 0.00077\n",
      "0.0 0.07021 0.00076\n",
      "0.0 -0.00241 0.00073\n",
      "0.0 0.00048 0.00073\n",
      "0.0 76.79575 0.05124\n",
      "0.0 -0.17378 0.00055\n",
      "0.0 -0.23514 0.00049\n",
      "161.167561462 0.00074 0.00077\n",
      "161.167561462 -0.00173 0.00077\n",
      "161.167561462 -0.03721 0.00075\n",
      "161.167561462 -0.04146 0.00075\n",
      "161.167561462 67.83188 0.06174\n",
      "161.167561462 -0.12664 0.00065\n",
      "161.167561462 -0.16689 0.0006\n",
      "589.637973422 -0.05558 0.00073\n",
      "589.637973422 -0.04821 0.00074\n",
      "589.637973422 -0.05486 0.00074\n",
      "589.637973422 -0.06368 0.00073\n",
      "589.637973422 60.4994 0.06119\n",
      "589.637973422 -0.11615 0.00066\n",
      "589.637973422 -0.12024 0.00063\n",
      "{'alpha2': [[0.0, 0.07021], [161.16756146200001, -0.00173], [589.63797342199996, -0.04821]], 'alpha1': [[0.0, 0.06928], [161.16756146200001, 0.00074], [589.63797342199996, -0.05558]], 'g3_2': [[0.0, -0.23514], [161.16756146200001, -0.16689], [589.63797342199996, -0.12024]], 'g3_1': [[0.0, -0.17378], [161.16756146200001, -0.12664], [589.63797342199996, -0.11615]], 'beta2': [[0.0, 0.00048], [161.16756146200001, -0.04146], [589.63797342199996, -0.06368]], 'beta1': [[0.0, -0.00241], [161.16756146200001, -0.03721], [589.63797342199996, -0.05486]], 'PN_vector': [[0.0, 76.79575], [161.16756146200001, 67.83188], [589.63797342199996, 60.4994]]}\n"
     ]
    }
   ],
   "source": [
    "opsdata_l14d = {}\n",
    "# regular expressions explained at https://docs.python.org/2/howto/regex.html#match-versus-search\n",
    "#p = re.compile('\\d+molF')  # string pattern for molar fraction in %\n",
    "for s in sims_l14d:\n",
    "    if \"molF\" in s.dirname:\n",
    "        m = p.search(s.dirname)\n",
    "        s.conc_bulk[0] = float(m.group()[0:2])\n",
    "    for opname in [\"alpha1\", \"alpha2\", \"beta1\", \"beta2\", \"PN_vector\", \"g3_1\", \"g3_2\"]:\n",
    "        temp_list = []\n",
    "        try:\n",
    "            temp_list.append([s.conc_bulk[0], float(s.ordpars[opname].avg)])\n",
    "            print s.conc_bulk[0], float(s.ordpars[opname].avg), float(s.ordpars[opname].errest)\n",
    "        except:\n",
    "            print \"Simulation in dir \\n {d} \\n seem to have no record of the order parameter {op} -- skipping\".format(d=s.dirname, op=opname)\n",
    "        if opname in opsdata_l14d.keys():\n",
    "            opsdata_l14d[opname].extend(temp_list)\n",
    "        else:\n",
    "            opsdata_l14d[opname] = temp_list\n",
    "            \n",
    "\n",
    "print opsdata_l14d"
   ]
  },
  {
   "cell_type": "markdown",
   "metadata": {},
   "source": [
    "getting experimental results from Scherer89"
   ]
  },
  {
   "cell_type": "code",
   "execution_count": 109,
   "metadata": {
    "collapsed": false
   },
   "outputs": [
    {
     "name": "stdout",
     "output_type": "stream",
     "text": [
      "{'alpha': array([[  0.00000000e+00,   0.00000000e+00],\n",
      "       [  1.00000000e+01,  -8.22800000e-03],\n",
      "       [  1.00000000e+02,  -1.95976000e-02],\n",
      "       [  3.50000000e+02,  -3.23884000e-02],\n",
      "       [  1.00000000e+03,  -4.69744000e-02]]), 'beta': array([[  0.00000000e+00,  -0.00000000e+00],\n",
      "       [  3.50000000e+02,  -1.69048000e-02],\n",
      "       [  1.00000000e+03,  -2.00464000e-02]])}\n"
     ]
    }
   ],
   "source": [
    "exp_filenames = []\n",
    "experiments = {}\n",
    "freq_to_scd = 0.00748\n",
    "# find files with the experimental values as read from figure4 in scherer89\n",
    "for f in locate(\"EXP-Akutsu1981*CaClchange-T323.dat\", root=os.curdir+\"/../../../../lipid_ionINTERACTION/Data\"):\n",
    "    exp_filenames.append(f)\n",
    "    \n",
    "exp_data = np.loadtxt(exp_filenames[0], dtype=str)\n",
    "# convert col1 to contain S_CD with a correct sign -- this is specific to these data\n",
    "# convert col0 to contain concentrations in %-unit\n",
    "experiments['beta']  = exp_data[:,0:-1]\n",
    "experiments['alpha'] = exp_data[:,[0,2]]\n",
    "for key in experiments.keys():\n",
    "    templist = []\n",
    "    for item in experiments[key]:\n",
    "        if not item[1]=='-':\n",
    "            fitem = np.array(item, dtype=float)\n",
    "            freq_sign = 1.0\n",
    "            if 'beta' in key:\n",
    "                freq_sign = -1.0\n",
    "            templist.append([fitem[0]*1.0, fitem[1]*freq_to_scd*freq_sign])\n",
    "    experiments[key] = np.array(templist, dtype=float)\n",
    "    \n",
    "print experiments\n",
    "        "
   ]
  },
  {
   "cell_type": "markdown",
   "metadata": {},
   "source": [
    "# Plotting figure 1: PN_vector and order parameters $\\alpha$ and $\\beta$ depend on the amount of bound charge - cationic surfactant"
   ]
  },
  {
   "cell_type": "code",
   "execution_count": 114,
   "metadata": {
    "collapsed": false
   },
   "outputs": [
    {
     "name": "stdout",
     "output_type": "stream",
     "text": [
      "this should not happen, setting iplt = 2 \n",
      " Key name was g3_2\n",
      "this should not happen, setting iplt = 2 \n",
      " Key name was g3_1\n",
      "this should not happen, setting iplt = 2 \n",
      " Key name was g3_2\n",
      "this should not happen, setting iplt = 2 \n",
      " Key name was g3_1\n",
      "this should not happen, setting iplt = 2 \n",
      " Key name was g3_2\n",
      "this should not happen, setting iplt = 2 \n",
      " Key name was g3_1\n"
     ]
    },
    {
     "data": {
      "image/png": "[encoded data removed]",
      "text/plain": [
       "<matplotlib.figure.Figure at 0x7f46bd43fd90>"
      ]
     },
     "metadata": {},
     "output_type": "display_data"
    }
   ],
   "source": [
    "font = {'family' : 'Liberation Sans',\n",
    "        'style'  : 'normal',\n",
    "        'weight' : 'normal',\n",
    "        'size'   : 18}\n",
    "\n",
    "matplotlib.rc('font', **font)\n",
    "\n",
    "fig, axs = plt.subplots(nrows=3, ncols=1, sharex=\"all\", figsize=[4,8], dpi=200)\n",
    "#fig.subplotpars.left = 0.3\n",
    "\n",
    "# give subplots human-redable names\n",
    "dsa = axs[1] # Delta S alpha\n",
    "dsb = axs[0] # Delta S beta\n",
    "pna = axs[2] # PN_vector\n",
    "\n",
    "# add some text for labels, title and axes ticks\n",
    "pna.set_xlabel(r'Concentration of CaCl$_2$ / mM')\n",
    "pna.set_ylabel(r'P-N angle')\n",
    "dsa.set_ylabel(r'$\\Delta S_{CH} ^{\\alpha}$')\n",
    "dsb.set_ylabel(r'$\\Delta S_{CH} ^{\\beta}$')\n",
    "\n",
    "#pna.set_xlim([0.0,60.0])\n",
    "#ax.set_xticks(r1)\n",
    "#xlabelsl = list(xlabels)\n",
    "#xlabelsl.extend(range(2, 18))\n",
    "#ax.set_xticklabels(xlabelsl, rotation=0)\n",
    "\n",
    "for (opsplot, c, label) in zip([opsdata, opsdata_l14, opsdata_l14d, experiments], \n",
    "                               [\"red\", \"blue\", \"green\", \"black\"], \n",
    "                               [\"ECC-lipids\", ur\"Lipid14 (\\u00c5qvist)\", \"Lipid14 (Dang)\", \"Experiment\"]):\n",
    "    for key in opsplot.keys():\n",
    "        yerror = 0.001\n",
    "        do_delta = False\n",
    "        if key.startswith(\"alpha\"):\n",
    "            iplt = 1\n",
    "            do_delta = True\n",
    "            ylim = [-0.14, 0.01]\n",
    "        elif key.startswith(\"beta\"):\n",
    "            iplt = 0\n",
    "            do_delta = True\n",
    "            ylim = [-0.14, 0.01]\n",
    "        elif key.startswith(\"PN\"):\n",
    "            iplt = 2\n",
    "            yerror = 0.15\n",
    "            ylim = [60.0, 80.0]\n",
    "        else:\n",
    "            print \"this should not happen, setting iplt = 2 \\n Key name was {}\".format(key)\n",
    "            iplt = 2\n",
    "        ax = axs[iplt]\n",
    "        ax.set_ylim(ylim)\n",
    "        if isinstance(opsplot[key], list):\n",
    "            opsplot[key].sort()\n",
    "        else:\n",
    "            #print \"this is not list, not sorting. It's likely the experimental data.\"\n",
    "            pass\n",
    "        data = np.array(opsplot[key])\n",
    "        if do_delta:\n",
    "            data[:,1] -= data[0,1]\n",
    "        #ax.errorbar(data[:,0], data[:,1], yerr=yerror, lw=2.0, marker='s', markersize=5, mew=0, color=c) #, c=colour, lw=1.0, label=point_label)\n",
    "        if key==\"beta\" or key==\"beta1\":\n",
    "            plot_label = label\n",
    "        else:\n",
    "            plot_label = None\n",
    "        ax.plot(data[:,0], data[:,1], lw=2.0, marker='o', markersize=5, mew=0, color=c, label=plot_label) #, c=colour, lw=1.0, label=point_label)\n",
    "\n",
    "        \n",
    "for ax in axs:\n",
    "    ax.minorticks_on()\n",
    "    pass\n",
    "    \n",
    "#xlim = pna.get_xlim()\n",
    "#pna.set_xticks(range(0,90,20))\n",
    "#pna.set_xticklabels([ str(i)+r\"%\" for i in range(0,90,20)])\n",
    "#pna.set_xlim(xlim)\n",
    "\n",
    "ylim = pna.get_ylim()\n",
    "pna.set_yticks(range(0,90,5))\n",
    "pna.set_yticklabels([ str(i)+r\"$^\\circ$\" for i in range(0,90,5)])\n",
    "pna.set_ylim(ylim)\n",
    "\n",
    "dsb.legend(loc=\"lower left\", ncol=1, markerscale=1.0, scatterpoints=4, fontsize='xx-small')\n",
    "\n",
    "plt.savefig(\"PN_angle_OrdPars-A-B_L14-ECCL17_OPC3_q80_sig89_CaCl.pdf\", dpi=200, bbox_inches='tight')\n",
    "plt.show()\n"
   ]
  },
  {
   "cell_type": "markdown",
   "metadata": {},
   "source": [
    "# Plotting figure 2: PN_vector and order parameters $\\alpha$, $\\beta$, and $g_3$ depend on the amount of bound charge - cationic surfactant"
   ]
  },
  {
   "cell_type": "code",
   "execution_count": 113,
   "metadata": {
    "collapsed": false
   },
   "outputs": [
    {
     "data": {
      "image/png": "[encoded data removed]",
      "text/plain": [
       "<matplotlib.figure.Figure at 0x7f46bd21d650>"
      ]
     },
     "metadata": {},
     "output_type": "display_data"
    }
   ],
   "source": [
    "font = {'family' : 'Liberation Sans',\n",
    "        'style'  : 'normal',\n",
    "        'weight' : 'normal',\n",
    "        'size'   : 18}\n",
    "\n",
    "matplotlib.rc('font', **font)\n",
    "\n",
    "fig, axs = plt.subplots(nrows=4, ncols=1, sharex=\"all\", figsize=[4,12], dpi=200)\n",
    "#fig.subplotpars.left = 0.3\n",
    "\n",
    "# give subplots human-redable names\n",
    "dsa = axs[1] # Delta S alpha\n",
    "dsb = axs[0] # Delta S beta\n",
    "dsg = axs[2] # Delta S g_3\n",
    "pna = axs[3] # PN_vector\n",
    "\n",
    "# add some text for labels, title and axes ticks\n",
    "pna.set_xlabel(r'Concentration of CaCl$_2$ / mM')\n",
    "pna.set_ylabel(r'P-N angle')\n",
    "dsa.set_ylabel(r'$\\Delta S_{CH} ^{\\alpha}$')\n",
    "dsb.set_ylabel(r'$\\Delta S_{CH} ^{\\beta}$')\n",
    "dsg.set_ylabel(r'$\\Delta S_{CH} ^{g_3}$')\n",
    "\n",
    "#pna.set_xlim([0.0,60.0])\n",
    "#ax.set_xticks(r1)\n",
    "#xlabelsl = list(xlabels)\n",
    "#xlabelsl.extend(range(2, 18))\n",
    "#ax.set_xticklabels(xlabelsl, rotation=0)\n",
    "\n",
    "for (opsplot, c, label) in zip([opsdata, opsdata_l14, opsdata_l14d, experiments], \n",
    "                               [\"red\", \"blue\", \"green\", \"black\"], \n",
    "                               [\"ECC-lipids\", ur\"Lipid14 (\\u00c5qvist)\", \"Lipid14 (Dang)\", \"Experiment\"]):\n",
    "    for key in opsplot.keys():\n",
    "        yerror = 0.001\n",
    "        do_delta = False\n",
    "        if key.startswith(\"alpha\"):\n",
    "            iplt = 1\n",
    "            do_delta = True\n",
    "            ylim = [-0.22, 0.01]\n",
    "        elif key.startswith(\"beta\"):\n",
    "            iplt = 0\n",
    "            do_delta = True\n",
    "            ylim = [-0.22, 0.01]\n",
    "        elif key.startswith(\"g3\"):\n",
    "            iplt = 2\n",
    "            do_delta = True\n",
    "            ylim = [-0.01, 0.14]\n",
    "        elif key.startswith(\"PN\"):\n",
    "            iplt = 3\n",
    "            yerror = 0.15\n",
    "            ylim = [55.0, 80.0]\n",
    "        else:\n",
    "            print \"this should not happen, setting iplt = 2\"\n",
    "            iplt = 2\n",
    "        ax = axs[iplt]\n",
    "        ax.set_ylim(ylim)\n",
    "        if isinstance(opsplot[key], list):\n",
    "            opsplot[key].sort()\n",
    "        else:\n",
    "            #print \"this is not list, not sorting. It's likely the experimental data.\"\n",
    "            pass\n",
    "        data = np.array(opsplot[key])\n",
    "        if do_delta:\n",
    "            data[:,1] -= data[0,1]\n",
    "        #ax.errorbar(data[:,0], data[:,1], yerr=yerror, lw=2.0, marker='s', markersize=5, mew=0, color=c) #, c=colour, lw=1.0, label=point_label)\n",
    "        if key==\"beta\" or key==\"beta1\":\n",
    "            plot_label = label\n",
    "        else:\n",
    "            plot_label = None\n",
    "        ax.plot(data[:,0], data[:,1], lw=2.0, marker='o', markersize=5, mew=0, color=c, label=plot_label) #, c=colour, lw=1.0, label=point_label)\n",
    "\n",
    "        \n",
    "for ax in axs:\n",
    "    ax.minorticks_on()\n",
    "    pass\n",
    "    \n",
    "#xlim = pna.get_xlim()\n",
    "#pna.set_xticks(range(0,90,20))\n",
    "#pna.set_xticklabels([ str(i)+r\"%\" for i in range(0,90,20)])\n",
    "#pna.set_xlim(xlim)\n",
    "\n",
    "ylim = pna.get_ylim()\n",
    "pna.set_yticks(range(0,90,5))\n",
    "pna.set_yticklabels([ str(i)+r\"$^\\circ$\" for i in range(0,90,5)])\n",
    "pna.set_ylim(ylim)\n",
    "\n",
    "dsb.legend(loc=\"lower left\", markerscale=1.0, scatterpoints=4, fontsize='x-small')\n",
    "\n",
    "plt.savefig(\"PN_angle_OrdPars-A-B-g3_L14-ECCL17_OPC3_q80_sig89_CaCl.pdf\", dpi=200, bbox_inches='tight')\n",
    "plt.show()\n"
   ]
  },
  {
   "cell_type": "code",
   "execution_count": null,
   "metadata": {
    "collapsed": true
   },
   "outputs": [],
   "source": []
  }
 ],
 "metadata": {
  "kernelspec": {
   "display_name": "Python 2",
   "language": "python",
   "name": "python2"
  },
  "language_info": {
   "codemirror_mode": {
    "name": "ipython",
    "version": 2
   },
   "file_extension": ".py",
   "mimetype": "text/x-python",
   "name": "python",
   "nbconvert_exporter": "python",
   "pygments_lexer": "ipython2",
   "version": "2.7.13"
  }
 },
 "nbformat": 4,
 "nbformat_minor": 0
}
