{
 "cells": [
  {
   "cell_type": "markdown",
   "metadata": {},
   "source": [
    "Binding of cations into POPC membrane\n",
    "=====\n",
    "\n",
    "In this notebook I will estimate the binding stochiometry of cations and POPC lipids."
   ]
  },
  {
   "cell_type": "markdown",
   "metadata": {},
   "source": [
    "First we import pyemma and check what version we are using."
   ]
  },
  {
   "cell_type": "code",
   "execution_count": 2,
   "metadata": {
    "collapsed": false
   },
   "outputs": [],
   "source": [
    "from __future__ import print_function\n",
    "import pyemma\n"
   ]
  },
  {
   "cell_type": "markdown",
   "metadata": {},
   "source": [
    "Now we import a few general packages, including basic numerics and algebra routines (numpy) and plotting routines (matplotlib), and makes sure that all plots are shown inside the notebook rather than in a separate window (nicer that way)."
   ]
  },
  {
   "cell_type": "code",
   "execution_count": 3,
   "metadata": {
    "collapsed": false
   },
   "outputs": [
    {
     "name": "stdout",
     "output_type": "stream",
     "text": [
      "Populating the interactive namespace from numpy and matplotlib\n"
     ]
    }
   ],
   "source": [
    "import os\n",
    "%pylab inline\n",
    "matplotlib.rcParams.update({'font.size': 12})"
   ]
  },
  {
   "cell_type": "markdown",
   "metadata": {},
   "source": [
    "Now we import the PyEMMA, mdtraj and MDAnalysis modules required for the following steps."
   ]
  },
  {
   "cell_type": "code",
   "execution_count": 4,
   "metadata": {
    "collapsed": false
   },
   "outputs": [],
   "source": [
    "import pyemma.coordinates as coor\n",
    "import pyemma.msm as msm\n",
    "import pyemma.plots as mplt\n",
    "\n",
    "import MDAnalysis as mda\n",
    "import mdtraj as mdt"
   ]
  },
  {
   "cell_type": "markdown",
   "metadata": {},
   "source": [
    "Load coordinates and select features\n",
    "------\n",
    "\n",
    "We first have to load the PDB file and the trajectory data.\n",
    "In this section I specify the input files and what metrics (i.e. distances in this case) to measure -- those are called \"features\" in PyEMMA. I will use this framework to get the distances computed and I will apply some sorting to them later on..."
   ]
  },
  {
   "cell_type": "code",
   "execution_count": 5,
   "metadata": {
    "collapsed": false
   },
   "outputs": [],
   "source": [
    "indir = './NpT/sim22a_978mM_CaCl-2s_OPC3_non-tail-atoms_q-sc_0.80_sig-sc_0.89'\n",
    "topfile =  indir+'/last_frame_nonwat.gro'\n",
    "from glob import glob\n",
    "traj_list = glob(indir+'/traj_nonwat_pbc.xtc')"
   ]
  },
  {
   "cell_type": "markdown",
   "metadata": {},
   "source": [
    "We can decide here which features we would like to use in the further analysis. In this case I select all distances between each calcium and Oxygen atoms in POPC. "
   ]
  },
  {
   "cell_type": "code",
   "execution_count": 6,
   "metadata": {
    "collapsed": false,
    "scrolled": true
   },
   "outputs": [
    {
     "name": "stderr",
     "output_type": "stream",
     "text": [
      "/usr/lib64/python2.7/site-packages/pyemma/__init__.py:108: UserWarning: You are not using the latest release of PyEMMA. Latest is 2.4, you have 2.3.\n",
      "  .format(latest=latest, current=current), category=UserWarning)\n"
     ]
    }
   ],
   "source": [
    "feat = coor.featurizer(topfile)\n",
    "#feat.add_contacts(indices=feat.select(\"name P31\"), indices2=feat.select(\"index 17152\"), count_contacts=True)\n",
    "#feat.add_contacts(indices=feat.select(\"name P31\"), indices2=feat.select(\"index 17153\"), count_contacts=True)\n",
    "#feat.add_contacts(indices=feat.select(\"name P31\"), indices2=feat.select(\"index 17154\"), count_contacts=True)\n",
    "#feat.add_contacts(indices=feat.select(\"name P31\"), indices2=feat.select(\"index 17155\"), count_contacts=True)\n",
    "#groups_p = feat.select(\"name P31\")\n",
    "#groups_ca = feat.select(\"resname CA\")\n",
    "#groups_ca = feat.select(\"index 17153\")\n",
    "#groups = np.split(np.append(groups_ca, groups_p), range(1,1+groups_ca.shape[0]) )\n",
    "\n",
    "#pairs = [ [a,groups_ca.shape[0]] for a in range(groups_ca.shape[0])]\n",
    "\n",
    "#feat.add_group_mindist(groups, np.array(pairs))\n",
    "\n",
    "#feat.describe()\n",
    "\n",
    "#feat.add_distances\n",
    "#feat.add_distances(feat.pairs(feat.select_Heavy()))\n",
    "# describe the features\n",
    "# feat.describe()"
   ]
  },
  {
   "cell_type": "markdown",
   "metadata": {
    "collapsed": false
   },
   "source": [
    "Get the names, idices and the total number of selected atoms pear each residue"
   ]
  },
  {
   "cell_type": "code",
   "execution_count": 7,
   "metadata": {
    "collapsed": false
   },
   "outputs": [
    {
     "name": "stdout",
     "output_type": "stream",
     "text": [
      "Will select atoms:\n",
      "47 O12\n",
      "48 O11\n",
      "57 O31\n",
      "59 O32\n",
      "79 O33\n",
      "80 O34\n",
      "81 O21\n",
      "83 O22\n",
      "No. selected atoms per residue = 8\n"
     ]
    }
   ],
   "source": [
    "res = feat.topology.residue(0)\n",
    "n_at_per_res = 0\n",
    "print(\"Will select atoms:\")\n",
    "for a in res.atoms:\n",
    "    if a.name.startswith(\"O\"):\n",
    "        print(a.index,a.name)\n",
    "        n_at_per_res += 1\n",
    "        \n",
    "print(\"No. selected atoms per residue = {}\".format(n_at_per_res))"
   ]
  },
  {
   "cell_type": "code",
   "execution_count": 8,
   "metadata": {
    "collapsed": false
   },
   "outputs": [
    {
     "data": {
      "text/plain": [
       "['DIST: CA 6361 CA 17152 - PALM 1 O12 47',\n",
       " 'DIST: CA 6361 CA 17152 - PALM 1 O11 48',\n",
       " 'DIST: CA 6361 CA 17152 - PALM 1 O31 57',\n",
       " 'DIST: CA 6361 CA 17152 - PALM 1 O32 59',\n",
       " 'DIST: CA 6361 CA 17152 - PALM 1 O33 79',\n",
       " 'DIST: CA 6361 CA 17152 - PALM 1 O34 80',\n",
       " 'DIST: CA 6361 CA 17152 - PALM 1 O21 81',\n",
       " 'DIST: CA 6361 CA 17152 - PALM 1 O22 83',\n",
       " 'DIST: CA 6361 CA 17152 - PALM 2 O12 181',\n",
       " 'DIST: CA 6361 CA 17152 - PALM 2 O11 182',\n",
       " 'DIST: CA 6361 CA 17152 - PALM 2 O31 191',\n",
       " 'DIST: CA 6361 CA 17152 - PALM 2 O32 193',\n",
       " 'DIST: CA 6361 CA 17152 - PALM 2 O33 213',\n",
       " 'DIST: CA 6361 CA 17152 - PALM 2 O34 214',\n",
       " 'DIST: CA 6361 CA 17152 - PALM 2 O21 215',\n",
       " 'DIST: CA 6361 CA 17152 - PALM 2 O22 217',\n",
       " 'DIST: CA 6361 CA 17152 - PALM 3 O12 315',\n",
       " 'DIST: CA 6361 CA 17152 - PALM 3 O11 316',\n",
       " 'DIST: CA 6361 CA 17152 - PALM 3 O31 325',\n",
       " 'DIST: CA 6361 CA 17152 - PALM 3 O32 327',\n",
       " 'DIST: CA 6361 CA 17152 - PALM 3 O33 347',\n",
       " 'DIST: CA 6361 CA 17152 - PALM 3 O34 348',\n",
       " 'DIST: CA 6361 CA 17152 - PALM 3 O21 349',\n",
       " 'DIST: CA 6361 CA 17152 - PALM 3 O22 351',\n",
       " 'DIST: CA 6361 CA 17152 - PALM 4 O12 449',\n",
       " 'DIST: CA 6361 CA 17152 - PALM 4 O11 450',\n",
       " 'DIST: CA 6361 CA 17152 - PALM 4 O31 459',\n",
       " 'DIST: CA 6361 CA 17152 - PALM 4 O32 461',\n",
       " 'DIST: CA 6361 CA 17152 - PALM 4 O33 481',\n",
       " 'DIST: CA 6361 CA 17152 - PALM 4 O34 482',\n",
       " 'DIST: CA 6361 CA 17152 - PALM 4 O21 483',\n",
       " 'DIST: CA 6361 CA 17152 - PALM 4 O22 485',\n",
       " 'DIST: CA 6361 CA 17152 - PALM 5 O12 583',\n",
       " 'DIST: CA 6361 CA 17152 - PALM 5 O11 584',\n",
       " 'DIST: CA 6361 CA 17152 - PALM 5 O31 593',\n",
       " 'DIST: CA 6361 CA 17152 - PALM 5 O32 595',\n",
       " 'DIST: CA 6361 CA 17152 - PALM 5 O33 615',\n",
       " 'DIST: CA 6361 CA 17152 - PALM 5 O34 616',\n",
       " 'DIST: CA 6361 CA 17152 - PALM 5 O21 617',\n",
       " 'DIST: CA 6361 CA 17152 - PALM 5 O22 619',\n",
       " 'DIST: CA 6361 CA 17152 - PALM 6 O12 717',\n",
       " 'DIST: CA 6361 CA 17152 - PALM 6 O11 718',\n",
       " 'DIST: CA 6361 CA 17152 - PALM 6 O31 727',\n",
       " 'DIST: CA 6361 CA 17152 - PALM 6 O32 729',\n",
       " 'DIST: CA 6361 CA 17152 - PALM 6 O33 749',\n",
       " 'DIST: CA 6361 CA 17152 - PALM 6 O34 750',\n",
       " 'DIST: CA 6361 CA 17152 - PALM 6 O21 751',\n",
       " 'DIST: CA 6361 CA 17152 - PALM 6 O22 753',\n",
       " 'DIST: CA 6361 CA 17152 - PALM 7 O12 851',\n",
       " 'DIST: CA 6361 CA 17152 - PALM 7 O11 852',\n",
       " 'DIST: CA 6361 CA 17152 - PALM 7 O31 861',\n",
       " 'DIST: CA 6361 CA 17152 - PALM 7 O32 863',\n",
       " 'DIST: CA 6361 CA 17152 - PALM 7 O33 883',\n",
       " 'DIST: CA 6361 CA 17152 - PALM 7 O34 884',\n",
       " 'DIST: CA 6361 CA 17152 - PALM 7 O21 885',\n",
       " 'DIST: CA 6361 CA 17152 - PALM 7 O22 887',\n",
       " 'DIST: CA 6361 CA 17152 - PALM 8 O12 985',\n",
       " 'DIST: CA 6361 CA 17152 - PALM 8 O11 986',\n",
       " 'DIST: CA 6361 CA 17152 - PALM 8 O31 995',\n",
       " 'DIST: CA 6361 CA 17152 - PALM 8 O32 997',\n",
       " 'DIST: CA 6361 CA 17152 - PALM 8 O33 1017',\n",
       " 'DIST: CA 6361 CA 17152 - PALM 8 O34 1018',\n",
       " 'DIST: CA 6361 CA 17152 - PALM 8 O21 1019',\n",
       " 'DIST: CA 6361 CA 17152 - PALM 8 O22 1021',\n",
       " 'DIST: CA 6361 CA 17152 - PALM 9 O12 1119',\n",
       " 'DIST: CA 6361 CA 17152 - PALM 9 O11 1120',\n",
       " 'DIST: CA 6361 CA 17152 - PALM 9 O31 1129',\n",
       " 'DIST: CA 6361 CA 17152 - PALM 9 O32 1131',\n",
       " 'DIST: CA 6361 CA 17152 - PALM 9 O33 1151',\n",
       " 'DIST: CA 6361 CA 17152 - PALM 9 O34 1152',\n",
       " 'DIST: CA 6361 CA 17152 - PALM 9 O21 1153',\n",
       " 'DIST: CA 6361 CA 17152 - PALM 9 O22 1155',\n",
       " 'DIST: CA 6361 CA 17152 - PALM 10 O12 1253',\n",
       " 'DIST: CA 6361 CA 17152 - PALM 10 O11 1254',\n",
       " 'DIST: CA 6361 CA 17152 - PALM 10 O31 1263',\n",
       " 'DIST: CA 6361 CA 17152 - PALM 10 O32 1265',\n",
       " 'DIST: CA 6361 CA 17152 - PALM 10 O33 1285',\n",
       " 'DIST: CA 6361 CA 17152 - PALM 10 O34 1286',\n",
       " 'DIST: CA 6361 CA 17152 - PALM 10 O21 1287',\n",
       " 'DIST: CA 6361 CA 17152 - PALM 10 O22 1289',\n",
       " 'DIST: CA 6361 CA 17152 - PALM 11 O12 1387',\n",
       " 'DIST: CA 6361 CA 17152 - PALM 11 O11 1388',\n",
       " 'DIST: CA 6361 CA 17152 - PALM 11 O31 1397',\n",
       " 'DIST: CA 6361 CA 17152 - PALM 11 O32 1399',\n",
       " 'DIST: CA 6361 CA 17152 - PALM 11 O33 1419',\n",
       " 'DIST: CA 6361 CA 17152 - PALM 11 O34 1420',\n",
       " 'DIST: CA 6361 CA 17152 - PALM 11 O21 1421',\n",
       " 'DIST: CA 6361 CA 17152 - PALM 11 O22 1423',\n",
       " 'DIST: CA 6361 CA 17152 - PALM 12 O12 1521',\n",
       " 'DIST: CA 6361 CA 17152 - PALM 12 O11 1522',\n",
       " 'DIST: CA 6361 CA 17152 - PALM 12 O31 1531',\n",
       " 'DIST: CA 6361 CA 17152 - PALM 12 O32 1533',\n",
       " 'DIST: CA 6361 CA 17152 - PALM 12 O33 1553',\n",
       " 'DIST: CA 6361 CA 17152 - PALM 12 O34 1554',\n",
       " 'DIST: CA 6361 CA 17152 - PALM 12 O21 1555',\n",
       " 'DIST: CA 6361 CA 17152 - PALM 12 O22 1557',\n",
       " 'DIST: CA 6361 CA 17152 - PALM 13 O12 1655',\n",
       " 'DIST: CA 6361 CA 17152 - PALM 13 O11 1656',\n",
       " 'DIST: CA 6361 CA 17152 - PALM 13 O31 1665',\n",
       " 'DIST: CA 6361 CA 17152 - PALM 13 O32 1667',\n",
       " 'DIST: CA 6361 CA 17152 - PALM 13 O33 1687',\n",
       " 'DIST: CA 6361 CA 17152 - PALM 13 O34 1688',\n",
       " 'DIST: CA 6361 CA 17152 - PALM 13 O21 1689',\n",
       " 'DIST: CA 6361 CA 17152 - PALM 13 O22 1691',\n",
       " 'DIST: CA 6361 CA 17152 - PALM 14 O12 1789',\n",
       " 'DIST: CA 6361 CA 17152 - PALM 14 O11 1790',\n",
       " 'DIST: CA 6361 CA 17152 - PALM 14 O31 1799',\n",
       " 'DIST: CA 6361 CA 17152 - PALM 14 O32 1801',\n",
       " 'DIST: CA 6361 CA 17152 - PALM 14 O33 1821',\n",
       " 'DIST: CA 6361 CA 17152 - PALM 14 O34 1822',\n",
       " 'DIST: CA 6361 CA 17152 - PALM 14 O21 1823',\n",
       " 'DIST: CA 6361 CA 17152 - PALM 14 O22 1825',\n",
       " 'DIST: CA 6361 CA 17152 - PALM 15 O12 1923',\n",
       " 'DIST: CA 6361 CA 17152 - PALM 15 O11 1924',\n",
       " 'DIST: CA 6361 CA 17152 - PALM 15 O31 1933',\n",
       " 'DIST: CA 6361 CA 17152 - PALM 15 O32 1935',\n",
       " 'DIST: CA 6361 CA 17152 - PALM 15 O33 1955',\n",
       " 'DIST: CA 6361 CA 17152 - PALM 15 O34 1956',\n",
       " 'DIST: CA 6361 CA 17152 - PALM 15 O21 1957',\n",
       " 'DIST: CA 6361 CA 17152 - PALM 15 O22 1959',\n",
       " 'DIST: CA 6361 CA 17152 - PALM 16 O12 2057',\n",
       " 'DIST: CA 6361 CA 17152 - PALM 16 O11 2058',\n",
       " 'DIST: CA 6361 CA 17152 - PALM 16 O31 2067',\n",
       " 'DIST: CA 6361 CA 17152 - PALM 16 O32 2069',\n",
       " 'DIST: CA 6361 CA 17152 - PALM 16 O33 2089',\n",
       " 'DIST: CA 6361 CA 17152 - PALM 16 O34 2090',\n",
       " 'DIST: CA 6361 CA 17152 - PALM 16 O21 2091',\n",
       " 'DIST: CA 6361 CA 17152 - PALM 16 O22 2093',\n",
       " 'DIST: CA 6361 CA 17152 - PALM 17 O12 2191',\n",
       " 'DIST: CA 6361 CA 17152 - PALM 17 O11 2192',\n",
       " 'DIST: CA 6361 CA 17152 - PALM 17 O31 2201',\n",
       " 'DIST: CA 6361 CA 17152 - PALM 17 O32 2203',\n",
       " 'DIST: CA 6361 CA 17152 - PALM 17 O33 2223',\n",
       " 'DIST: CA 6361 CA 17152 - PALM 17 O34 2224',\n",
       " 'DIST: CA 6361 CA 17152 - PALM 17 O21 2225',\n",
       " 'DIST: CA 6361 CA 17152 - PALM 17 O22 2227',\n",
       " 'DIST: CA 6361 CA 17152 - PALM 18 O12 2325',\n",
       " 'DIST: CA 6361 CA 17152 - PALM 18 O11 2326',\n",
       " 'DIST: CA 6361 CA 17152 - PALM 18 O31 2335',\n",
       " 'DIST: CA 6361 CA 17152 - PALM 18 O32 2337',\n",
       " 'DIST: CA 6361 CA 17152 - PALM 18 O33 2357',\n",
       " 'DIST: CA 6361 CA 17152 - PALM 18 O34 2358',\n",
       " 'DIST: CA 6361 CA 17152 - PALM 18 O21 2359',\n",
       " 'DIST: CA 6361 CA 17152 - PALM 18 O22 2361',\n",
       " 'DIST: CA 6361 CA 17152 - PALM 19 O12 2459',\n",
       " 'DIST: CA 6361 CA 17152 - PALM 19 O11 2460',\n",
       " 'DIST: CA 6361 CA 17152 - PALM 19 O31 2469',\n",
       " 'DIST: CA 6361 CA 17152 - PALM 19 O32 2471',\n",
       " 'DIST: CA 6361 CA 17152 - PALM 19 O33 2491',\n",
       " 'DIST: CA 6361 CA 17152 - PALM 19 O34 2492',\n",
       " 'DIST: CA 6361 CA 17152 - PALM 19 O21 2493',\n",
       " 'DIST: CA 6361 CA 17152 - PALM 19 O22 2495',\n",
       " 'DIST: CA 6361 CA 17152 - PALM 20 O12 2593',\n",
       " 'DIST: CA 6361 CA 17152 - PALM 20 O11 2594',\n",
       " 'DIST: CA 6361 CA 17152 - PALM 20 O31 2603',\n",
       " 'DIST: CA 6361 CA 17152 - PALM 20 O32 2605',\n",
       " 'DIST: CA 6361 CA 17152 - PALM 20 O33 2625',\n",
       " 'DIST: CA 6361 CA 17152 - PALM 20 O34 2626',\n",
       " 'DIST: CA 6361 CA 17152 - PALM 20 O21 2627',\n",
       " 'DIST: CA 6361 CA 17152 - PALM 20 O22 2629',\n",
       " 'DIST: CA 6361 CA 17152 - PALM 21 O12 2727',\n",
       " 'DIST: CA 6361 CA 17152 - PALM 21 O11 2728',\n",
       " 'DIST: CA 6361 CA 17152 - PALM 21 O31 2737',\n",
       " 'DIST: CA 6361 CA 17152 - PALM 21 O32 2739',\n",
       " 'DIST: CA 6361 CA 17152 - PALM 21 O33 2759',\n",
       " 'DIST: CA 6361 CA 17152 - PALM 21 O34 2760',\n",
       " 'DIST: CA 6361 CA 17152 - PALM 21 O21 2761',\n",
       " 'DIST: CA 6361 CA 17152 - PALM 21 O22 2763',\n",
       " 'DIST: CA 6361 CA 17152 - PALM 22 O12 2861',\n",
       " 'DIST: CA 6361 CA 17152 - PALM 22 O11 2862',\n",
       " 'DIST: CA 6361 CA 17152 - PALM 22 O31 2871',\n",
       " 'DIST: CA 6361 CA 17152 - PALM 22 O32 2873',\n",
       " 'DIST: CA 6361 CA 17152 - PALM 22 O33 2893',\n",
       " 'DIST: CA 6361 CA 17152 - PALM 22 O34 2894',\n",
       " 'DIST: CA 6361 CA 17152 - PALM 22 O21 2895',\n",
       " 'DIST: CA 6361 CA 17152 - PALM 22 O22 2897',\n",
       " 'DIST: CA 6361 CA 17152 - PALM 23 O12 2995',\n",
       " 'DIST: CA 6361 CA 17152 - PALM 23 O11 2996',\n",
       " 'DIST: CA 6361 CA 17152 - PALM 23 O31 3005',\n",
       " 'DIST: CA 6361 CA 17152 - PALM 23 O32 3007',\n",
       " 'DIST: CA 6361 CA 17152 - PALM 23 O33 3027',\n",
       " 'DIST: CA 6361 CA 17152 - PALM 23 O34 3028',\n",
       " 'DIST: CA 6361 CA 17152 - PALM 23 O21 3029',\n",
       " 'DIST: CA 6361 CA 17152 - PALM 23 O22 3031',\n",
       " 'DIST: CA 6361 CA 17152 - PALM 24 O12 3129',\n",
       " 'DIST: CA 6361 CA 17152 - PALM 24 O11 3130',\n",
       " 'DIST: CA 6361 CA 17152 - PALM 24 O31 3139',\n",
       " 'DIST: CA 6361 CA 17152 - PALM 24 O32 3141',\n",
       " 'DIST: CA 6361 CA 17152 - PALM 24 O33 3161',\n",
       " 'DIST: CA 6361 CA 17152 - PALM 24 O34 3162',\n",
       " 'DIST: CA 6361 CA 17152 - PALM 24 O21 3163',\n",
       " 'DIST: CA 6361 CA 17152 - PALM 24 O22 3165',\n",
       " 'DIST: CA 6361 CA 17152 - PALM 25 O12 3263',\n",
       " 'DIST: CA 6361 CA 17152 - PALM 25 O11 3264',\n",
       " 'DIST: CA 6361 CA 17152 - PALM 25 O31 3273',\n",
       " 'DIST: CA 6361 CA 17152 - PALM 25 O32 3275',\n",
       " 'DIST: CA 6361 CA 17152 - PALM 25 O33 3295',\n",
       " 'DIST: CA 6361 CA 17152 - PALM 25 O34 3296',\n",
       " 'DIST: CA 6361 CA 17152 - PALM 25 O21 3297',\n",
       " 'DIST: CA 6361 CA 17152 - PALM 25 O22 3299',\n",
       " 'DIST: CA 6361 CA 17152 - PALM 26 O12 3397',\n",
       " 'DIST: CA 6361 CA 17152 - PALM 26 O11 3398',\n",
       " 'DIST: CA 6361 CA 17152 - PALM 26 O31 3407',\n",
       " 'DIST: CA 6361 CA 17152 - PALM 26 O32 3409',\n",
       " 'DIST: CA 6361 CA 17152 - PALM 26 O33 3429',\n",
       " 'DIST: CA 6361 CA 17152 - PALM 26 O34 3430',\n",
       " 'DIST: CA 6361 CA 17152 - PALM 26 O21 3431',\n",
       " 'DIST: CA 6361 CA 17152 - PALM 26 O22 3433',\n",
       " 'DIST: CA 6361 CA 17152 - PALM 27 O12 3531',\n",
       " 'DIST: CA 6361 CA 17152 - PALM 27 O11 3532',\n",
       " 'DIST: CA 6361 CA 17152 - PALM 27 O31 3541',\n",
       " 'DIST: CA 6361 CA 17152 - PALM 27 O32 3543',\n",
       " 'DIST: CA 6361 CA 17152 - PALM 27 O33 3563',\n",
       " 'DIST: CA 6361 CA 17152 - PALM 27 O34 3564',\n",
       " 'DIST: CA 6361 CA 17152 - PALM 27 O21 3565',\n",
       " 'DIST: CA 6361 CA 17152 - PALM 27 O22 3567',\n",
       " 'DIST: CA 6361 CA 17152 - PALM 28 O12 3665',\n",
       " 'DIST: CA 6361 CA 17152 - PALM 28 O11 3666',\n",
       " 'DIST: CA 6361 CA 17152 - PALM 28 O31 3675',\n",
       " 'DIST: CA 6361 CA 17152 - PALM 28 O32 3677',\n",
       " 'DIST: CA 6361 CA 17152 - PALM 28 O33 3697',\n",
       " 'DIST: CA 6361 CA 17152 - PALM 28 O34 3698',\n",
       " 'DIST: CA 6361 CA 17152 - PALM 28 O21 3699',\n",
       " 'DIST: CA 6361 CA 17152 - PALM 28 O22 3701',\n",
       " 'DIST: CA 6361 CA 17152 - PALM 29 O12 3799',\n",
       " 'DIST: CA 6361 CA 17152 - PALM 29 O11 3800',\n",
       " 'DIST: CA 6361 CA 17152 - PALM 29 O31 3809',\n",
       " 'DIST: CA 6361 CA 17152 - PALM 29 O32 3811',\n",
       " 'DIST: CA 6361 CA 17152 - PALM 29 O33 3831',\n",
       " 'DIST: CA 6361 CA 17152 - PALM 29 O34 3832',\n",
       " 'DIST: CA 6361 CA 17152 - PALM 29 O21 3833',\n",
       " 'DIST: CA 6361 CA 17152 - PALM 29 O22 3835',\n",
       " 'DIST: CA 6361 CA 17152 - PALM 30 O12 3933',\n",
       " 'DIST: CA 6361 CA 17152 - PALM 30 O11 3934',\n",
       " 'DIST: CA 6361 CA 17152 - PALM 30 O31 3943',\n",
       " 'DIST: CA 6361 CA 17152 - PALM 30 O32 3945',\n",
       " 'DIST: CA 6361 CA 17152 - PALM 30 O33 3965',\n",
       " 'DIST: CA 6361 CA 17152 - PALM 30 O34 3966',\n",
       " 'DIST: CA 6361 CA 17152 - PALM 30 O21 3967',\n",
       " 'DIST: CA 6361 CA 17152 - PALM 30 O22 3969',\n",
       " 'DIST: CA 6361 CA 17152 - PALM 31 O12 4067',\n",
       " 'DIST: CA 6361 CA 17152 - PALM 31 O11 4068',\n",
       " 'DIST: CA 6361 CA 17152 - PALM 31 O31 4077',\n",
       " 'DIST: CA 6361 CA 17152 - PALM 31 O32 4079',\n",
       " 'DIST: CA 6361 CA 17152 - PALM 31 O33 4099',\n",
       " 'DIST: CA 6361 CA 17152 - PALM 31 O34 4100',\n",
       " 'DIST: CA 6361 CA 17152 - PALM 31 O21 4101',\n",
       " 'DIST: CA 6361 CA 17152 - PALM 31 O22 4103',\n",
       " 'DIST: CA 6361 CA 17152 - PALM 32 O12 4201',\n",
       " 'DIST: CA 6361 CA 17152 - PALM 32 O11 4202',\n",
       " 'DIST: CA 6361 CA 17152 - PALM 32 O31 4211',\n",
       " 'DIST: CA 6361 CA 17152 - PALM 32 O32 4213',\n",
       " 'DIST: CA 6361 CA 17152 - PALM 32 O33 4233',\n",
       " 'DIST: CA 6361 CA 17152 - PALM 32 O34 4234',\n",
       " 'DIST: CA 6361 CA 17152 - PALM 32 O21 4235',\n",
       " 'DIST: CA 6361 CA 17152 - PALM 32 O22 4237',\n",
       " 'DIST: CA 6361 CA 17152 - PALM 33 O12 4335',\n",
       " 'DIST: CA 6361 CA 17152 - PALM 33 O11 4336',\n",
       " 'DIST: CA 6361 CA 17152 - PALM 33 O31 4345',\n",
       " 'DIST: CA 6361 CA 17152 - PALM 33 O32 4347',\n",
       " 'DIST: CA 6361 CA 17152 - PALM 33 O33 4367',\n",
       " 'DIST: CA 6361 CA 17152 - PALM 33 O34 4368',\n",
       " 'DIST: CA 6361 CA 17152 - PALM 33 O21 4369',\n",
       " 'DIST: CA 6361 CA 17152 - PALM 33 O22 4371',\n",
       " 'DIST: CA 6361 CA 17152 - PALM 34 O12 4469',\n",
       " 'DIST: CA 6361 CA 17152 - PALM 34 O11 4470',\n",
       " 'DIST: CA 6361 CA 17152 - PALM 34 O31 4479',\n",
       " 'DIST: CA 6361 CA 17152 - PALM 34 O32 4481',\n",
       " 'DIST: CA 6361 CA 17152 - PALM 34 O33 4501',\n",
       " 'DIST: CA 6361 CA 17152 - PALM 34 O34 4502',\n",
       " 'DIST: CA 6361 CA 17152 - PALM 34 O21 4503',\n",
       " 'DIST: CA 6361 CA 17152 - PALM 34 O22 4505',\n",
       " 'DIST: CA 6361 CA 17152 - PALM 35 O12 4603',\n",
       " 'DIST: CA 6361 CA 17152 - PALM 35 O11 4604',\n",
       " 'DIST: CA 6361 CA 17152 - PALM 35 O31 4613',\n",
       " 'DIST: CA 6361 CA 17152 - PALM 35 O32 4615',\n",
       " 'DIST: CA 6361 CA 17152 - PALM 35 O33 4635',\n",
       " 'DIST: CA 6361 CA 17152 - PALM 35 O34 4636',\n",
       " 'DIST: CA 6361 CA 17152 - PALM 35 O21 4637',\n",
       " 'DIST: CA 6361 CA 17152 - PALM 35 O22 4639',\n",
       " 'DIST: CA 6361 CA 17152 - PALM 36 O12 4737',\n",
       " 'DIST: CA 6361 CA 17152 - PALM 36 O11 4738',\n",
       " 'DIST: CA 6361 CA 17152 - PALM 36 O31 4747',\n",
       " 'DIST: CA 6361 CA 17152 - PALM 36 O32 4749',\n",
       " 'DIST: CA 6361 CA 17152 - PALM 36 O33 4769',\n",
       " 'DIST: CA 6361 CA 17152 - PALM 36 O34 4770',\n",
       " 'DIST: CA 6361 CA 17152 - PALM 36 O21 4771',\n",
       " 'DIST: CA 6361 CA 17152 - PALM 36 O22 4773',\n",
       " 'DIST: CA 6361 CA 17152 - PALM 37 O12 4871',\n",
       " 'DIST: CA 6361 CA 17152 - PALM 37 O11 4872',\n",
       " 'DIST: CA 6361 CA 17152 - PALM 37 O31 4881',\n",
       " 'DIST: CA 6361 CA 17152 - PALM 37 O32 4883',\n",
       " 'DIST: CA 6361 CA 17152 - PALM 37 O33 4903',\n",
       " 'DIST: CA 6361 CA 17152 - PALM 37 O34 4904',\n",
       " 'DIST: CA 6361 CA 17152 - PALM 37 O21 4905',\n",
       " 'DIST: CA 6361 CA 17152 - PALM 37 O22 4907',\n",
       " 'DIST: CA 6361 CA 17152 - PALM 38 O12 5005',\n",
       " 'DIST: CA 6361 CA 17152 - PALM 38 O11 5006',\n",
       " 'DIST: CA 6361 CA 17152 - PALM 38 O31 5015',\n",
       " 'DIST: CA 6361 CA 17152 - PALM 38 O32 5017',\n",
       " 'DIST: CA 6361 CA 17152 - PALM 38 O33 5037',\n",
       " 'DIST: CA 6361 CA 17152 - PALM 38 O34 5038',\n",
       " 'DIST: CA 6361 CA 17152 - PALM 38 O21 5039',\n",
       " 'DIST: CA 6361 CA 17152 - PALM 38 O22 5041',\n",
       " 'DIST: CA 6361 CA 17152 - PALM 39 O12 5139',\n",
       " 'DIST: CA 6361 CA 17152 - PALM 39 O11 5140',\n",
       " 'DIST: CA 6361 CA 17152 - PALM 39 O31 5149',\n",
       " 'DIST: CA 6361 CA 17152 - PALM 39 O32 5151',\n",
       " 'DIST: CA 6361 CA 17152 - PALM 39 O33 5171',\n",
       " 'DIST: CA 6361 CA 17152 - PALM 39 O34 5172',\n",
       " 'DIST: CA 6361 CA 17152 - PALM 39 O21 5173',\n",
       " 'DIST: CA 6361 CA 17152 - PALM 39 O22 5175',\n",
       " 'DIST: CA 6361 CA 17152 - PALM 40 O12 5273',\n",
       " 'DIST: CA 6361 CA 17152 - PALM 40 O11 5274',\n",
       " 'DIST: CA 6361 CA 17152 - PALM 40 O31 5283',\n",
       " 'DIST: CA 6361 CA 17152 - PALM 40 O32 5285',\n",
       " 'DIST: CA 6361 CA 17152 - PALM 40 O33 5305',\n",
       " 'DIST: CA 6361 CA 17152 - PALM 40 O34 5306',\n",
       " 'DIST: CA 6361 CA 17152 - PALM 40 O21 5307',\n",
       " 'DIST: CA 6361 CA 17152 - PALM 40 O22 5309',\n",
       " 'DIST: CA 6361 CA 17152 - PALM 41 O12 5407',\n",
       " 'DIST: CA 6361 CA 17152 - PALM 41 O11 5408',\n",
       " 'DIST: CA 6361 CA 17152 - PALM 41 O31 5417',\n",
       " 'DIST: CA 6361 CA 17152 - PALM 41 O32 5419',\n",
       " 'DIST: CA 6361 CA 17152 - PALM 41 O33 5439',\n",
       " 'DIST: CA 6361 CA 17152 - PALM 41 O34 5440',\n",
       " 'DIST: CA 6361 CA 17152 - PALM 41 O21 5441',\n",
       " 'DIST: CA 6361 CA 17152 - PALM 41 O22 5443',\n",
       " 'DIST: CA 6361 CA 17152 - PALM 42 O12 5541',\n",
       " 'DIST: CA 6361 CA 17152 - PALM 42 O11 5542',\n",
       " 'DIST: CA 6361 CA 17152 - PALM 42 O31 5551',\n",
       " 'DIST: CA 6361 CA 17152 - PALM 42 O32 5553',\n",
       " 'DIST: CA 6361 CA 17152 - PALM 42 O33 5573',\n",
       " 'DIST: CA 6361 CA 17152 - PALM 42 O34 5574',\n",
       " 'DIST: CA 6361 CA 17152 - PALM 42 O21 5575',\n",
       " 'DIST: CA 6361 CA 17152 - PALM 42 O22 5577',\n",
       " 'DIST: CA 6361 CA 17152 - PALM 43 O12 5675',\n",
       " 'DIST: CA 6361 CA 17152 - PALM 43 O11 5676',\n",
       " 'DIST: CA 6361 CA 17152 - PALM 43 O31 5685',\n",
       " 'DIST: CA 6361 CA 17152 - PALM 43 O32 5687',\n",
       " 'DIST: CA 6361 CA 17152 - PALM 43 O33 5707',\n",
       " 'DIST: CA 6361 CA 17152 - PALM 43 O34 5708',\n",
       " 'DIST: CA 6361 CA 17152 - PALM 43 O21 5709',\n",
       " 'DIST: CA 6361 CA 17152 - PALM 43 O22 5711',\n",
       " 'DIST: CA 6361 CA 17152 - PALM 44 O12 5809',\n",
       " 'DIST: CA 6361 CA 17152 - PALM 44 O11 5810',\n",
       " 'DIST: CA 6361 CA 17152 - PALM 44 O31 5819',\n",
       " 'DIST: CA 6361 CA 17152 - PALM 44 O32 5821',\n",
       " 'DIST: CA 6361 CA 17152 - PALM 44 O33 5841',\n",
       " 'DIST: CA 6361 CA 17152 - PALM 44 O34 5842',\n",
       " 'DIST: CA 6361 CA 17152 - PALM 44 O21 5843',\n",
       " 'DIST: CA 6361 CA 17152 - PALM 44 O22 5845',\n",
       " 'DIST: CA 6361 CA 17152 - PALM 45 O12 5943',\n",
       " 'DIST: CA 6361 CA 17152 - PALM 45 O11 5944',\n",
       " 'DIST: CA 6361 CA 17152 - PALM 45 O31 5953',\n",
       " 'DIST: CA 6361 CA 17152 - PALM 45 O32 5955',\n",
       " 'DIST: CA 6361 CA 17152 - PALM 45 O33 5975',\n",
       " 'DIST: CA 6361 CA 17152 - PALM 45 O34 5976',\n",
       " 'DIST: CA 6361 CA 17152 - PALM 45 O21 5977',\n",
       " 'DIST: CA 6361 CA 17152 - PALM 45 O22 5979',\n",
       " 'DIST: CA 6361 CA 17152 - PALM 46 O12 6077',\n",
       " 'DIST: CA 6361 CA 17152 - PALM 46 O11 6078',\n",
       " 'DIST: CA 6361 CA 17152 - PALM 46 O31 6087',\n",
       " 'DIST: CA 6361 CA 17152 - PALM 46 O32 6089',\n",
       " 'DIST: CA 6361 CA 17152 - PALM 46 O33 6109',\n",
       " 'DIST: CA 6361 CA 17152 - PALM 46 O34 6110',\n",
       " 'DIST: CA 6361 CA 17152 - PALM 46 O21 6111',\n",
       " 'DIST: CA 6361 CA 17152 - PALM 46 O22 6113',\n",
       " 'DIST: CA 6361 CA 17152 - PALM 47 O12 6211',\n",
       " 'DIST: CA 6361 CA 17152 - PALM 47 O11 6212',\n",
       " 'DIST: CA 6361 CA 17152 - PALM 47 O31 6221',\n",
       " 'DIST: CA 6361 CA 17152 - PALM 47 O32 6223',\n",
       " 'DIST: CA 6361 CA 17152 - PALM 47 O33 6243',\n",
       " 'DIST: CA 6361 CA 17152 - PALM 47 O34 6244',\n",
       " 'DIST: CA 6361 CA 17152 - PALM 47 O21 6245',\n",
       " 'DIST: CA 6361 CA 17152 - PALM 47 O22 6247',\n",
       " 'DIST: CA 6361 CA 17152 - PALM 48 O12 6345',\n",
       " 'DIST: CA 6361 CA 17152 - PALM 48 O11 6346',\n",
       " 'DIST: CA 6361 CA 17152 - PALM 48 O31 6355',\n",
       " 'DIST: CA 6361 CA 17152 - PALM 48 O32 6357',\n",
       " 'DIST: CA 6361 CA 17152 - PALM 48 O33 6377',\n",
       " 'DIST: CA 6361 CA 17152 - PALM 48 O34 6378',\n",
       " 'DIST: CA 6361 CA 17152 - PALM 48 O21 6379',\n",
       " 'DIST: CA 6361 CA 17152 - PALM 48 O22 6381',\n",
       " 'DIST: CA 6361 CA 17152 - PALM 49 O12 6479',\n",
       " 'DIST: CA 6361 CA 17152 - PALM 49 O11 6480',\n",
       " 'DIST: CA 6361 CA 17152 - PALM 49 O31 6489',\n",
       " 'DIST: CA 6361 CA 17152 - PALM 49 O32 6491',\n",
       " 'DIST: CA 6361 CA 17152 - PALM 49 O33 6511',\n",
       " 'DIST: CA 6361 CA 17152 - PALM 49 O34 6512',\n",
       " 'DIST: CA 6361 CA 17152 - PALM 49 O21 6513',\n",
       " 'DIST: CA 6361 CA 17152 - PALM 49 O22 6515',\n",
       " 'DIST: CA 6361 CA 17152 - PALM 50 O12 6613',\n",
       " 'DIST: CA 6361 CA 17152 - PALM 50 O11 6614',\n",
       " 'DIST: CA 6361 CA 17152 - PALM 50 O31 6623',\n",
       " 'DIST: CA 6361 CA 17152 - PALM 50 O32 6625',\n",
       " 'DIST: CA 6361 CA 17152 - PALM 50 O33 6645',\n",
       " 'DIST: CA 6361 CA 17152 - PALM 50 O34 6646',\n",
       " 'DIST: CA 6361 CA 17152 - PALM 50 O21 6647',\n",
       " 'DIST: CA 6361 CA 17152 - PALM 50 O22 6649',\n",
       " 'DIST: CA 6361 CA 17152 - PALM 51 O12 6747',\n",
       " 'DIST: CA 6361 CA 17152 - PALM 51 O11 6748',\n",
       " 'DIST: CA 6361 CA 17152 - PALM 51 O31 6757',\n",
       " 'DIST: CA 6361 CA 17152 - PALM 51 O32 6759',\n",
       " 'DIST: CA 6361 CA 17152 - PALM 51 O33 6779',\n",
       " 'DIST: CA 6361 CA 17152 - PALM 51 O34 6780',\n",
       " 'DIST: CA 6361 CA 17152 - PALM 51 O21 6781',\n",
       " 'DIST: CA 6361 CA 17152 - PALM 51 O22 6783',\n",
       " 'DIST: CA 6361 CA 17152 - PALM 52 O12 6881',\n",
       " 'DIST: CA 6361 CA 17152 - PALM 52 O11 6882',\n",
       " 'DIST: CA 6361 CA 17152 - PALM 52 O31 6891',\n",
       " 'DIST: CA 6361 CA 17152 - PALM 52 O32 6893',\n",
       " 'DIST: CA 6361 CA 17152 - PALM 52 O33 6913',\n",
       " 'DIST: CA 6361 CA 17152 - PALM 52 O34 6914',\n",
       " 'DIST: CA 6361 CA 17152 - PALM 52 O21 6915',\n",
       " 'DIST: CA 6361 CA 17152 - PALM 52 O22 6917',\n",
       " 'DIST: CA 6361 CA 17152 - PALM 53 O12 7015',\n",
       " 'DIST: CA 6361 CA 17152 - PALM 53 O11 7016',\n",
       " 'DIST: CA 6361 CA 17152 - PALM 53 O31 7025',\n",
       " 'DIST: CA 6361 CA 17152 - PALM 53 O32 7027',\n",
       " 'DIST: CA 6361 CA 17152 - PALM 53 O33 7047',\n",
       " 'DIST: CA 6361 CA 17152 - PALM 53 O34 7048',\n",
       " 'DIST: CA 6361 CA 17152 - PALM 53 O21 7049',\n",
       " 'DIST: CA 6361 CA 17152 - PALM 53 O22 7051',\n",
       " 'DIST: CA 6361 CA 17152 - PALM 54 O12 7149',\n",
       " 'DIST: CA 6361 CA 17152 - PALM 54 O11 7150',\n",
       " 'DIST: CA 6361 CA 17152 - PALM 54 O31 7159',\n",
       " 'DIST: CA 6361 CA 17152 - PALM 54 O32 7161',\n",
       " 'DIST: CA 6361 CA 17152 - PALM 54 O33 7181',\n",
       " 'DIST: CA 6361 CA 17152 - PALM 54 O34 7182',\n",
       " 'DIST: CA 6361 CA 17152 - PALM 54 O21 7183',\n",
       " 'DIST: CA 6361 CA 17152 - PALM 54 O22 7185',\n",
       " 'DIST: CA 6361 CA 17152 - PALM 55 O12 7283',\n",
       " 'DIST: CA 6361 CA 17152 - PALM 55 O11 7284',\n",
       " 'DIST: CA 6361 CA 17152 - PALM 55 O31 7293',\n",
       " 'DIST: CA 6361 CA 17152 - PALM 55 O32 7295',\n",
       " 'DIST: CA 6361 CA 17152 - PALM 55 O33 7315',\n",
       " 'DIST: CA 6361 CA 17152 - PALM 55 O34 7316',\n",
       " 'DIST: CA 6361 CA 17152 - PALM 55 O21 7317',\n",
       " 'DIST: CA 6361 CA 17152 - PALM 55 O22 7319',\n",
       " 'DIST: CA 6361 CA 17152 - PALM 56 O12 7417',\n",
       " 'DIST: CA 6361 CA 17152 - PALM 56 O11 7418',\n",
       " 'DIST: CA 6361 CA 17152 - PALM 56 O31 7427',\n",
       " 'DIST: CA 6361 CA 17152 - PALM 56 O32 7429',\n",
       " 'DIST: CA 6361 CA 17152 - PALM 56 O33 7449',\n",
       " 'DIST: CA 6361 CA 17152 - PALM 56 O34 7450',\n",
       " 'DIST: CA 6361 CA 17152 - PALM 56 O21 7451',\n",
       " 'DIST: CA 6361 CA 17152 - PALM 56 O22 7453',\n",
       " 'DIST: CA 6361 CA 17152 - PALM 57 O12 7551',\n",
       " 'DIST: CA 6361 CA 17152 - PALM 57 O11 7552',\n",
       " 'DIST: CA 6361 CA 17152 - PALM 57 O31 7561',\n",
       " 'DIST: CA 6361 CA 17152 - PALM 57 O32 7563',\n",
       " 'DIST: CA 6361 CA 17152 - PALM 57 O33 7583',\n",
       " 'DIST: CA 6361 CA 17152 - PALM 57 O34 7584',\n",
       " 'DIST: CA 6361 CA 17152 - PALM 57 O21 7585',\n",
       " 'DIST: CA 6361 CA 17152 - PALM 57 O22 7587',\n",
       " 'DIST: CA 6361 CA 17152 - PALM 58 O12 7685',\n",
       " 'DIST: CA 6361 CA 17152 - PALM 58 O11 7686',\n",
       " 'DIST: CA 6361 CA 17152 - PALM 58 O31 7695',\n",
       " 'DIST: CA 6361 CA 17152 - PALM 58 O32 7697',\n",
       " 'DIST: CA 6361 CA 17152 - PALM 58 O33 7717',\n",
       " 'DIST: CA 6361 CA 17152 - PALM 58 O34 7718',\n",
       " 'DIST: CA 6361 CA 17152 - PALM 58 O21 7719',\n",
       " 'DIST: CA 6361 CA 17152 - PALM 58 O22 7721',\n",
       " 'DIST: CA 6361 CA 17152 - PALM 59 O12 7819',\n",
       " 'DIST: CA 6361 CA 17152 - PALM 59 O11 7820',\n",
       " 'DIST: CA 6361 CA 17152 - PALM 59 O31 7829',\n",
       " 'DIST: CA 6361 CA 17152 - PALM 59 O32 7831',\n",
       " 'DIST: CA 6361 CA 17152 - PALM 59 O33 7851',\n",
       " 'DIST: CA 6361 CA 17152 - PALM 59 O34 7852',\n",
       " 'DIST: CA 6361 CA 17152 - PALM 59 O21 7853',\n",
       " 'DIST: CA 6361 CA 17152 - PALM 59 O22 7855',\n",
       " 'DIST: CA 6361 CA 17152 - PALM 60 O12 7953',\n",
       " 'DIST: CA 6361 CA 17152 - PALM 60 O11 7954',\n",
       " 'DIST: CA 6361 CA 17152 - PALM 60 O31 7963',\n",
       " 'DIST: CA 6361 CA 17152 - PALM 60 O32 7965',\n",
       " 'DIST: CA 6361 CA 17152 - PALM 60 O33 7985',\n",
       " 'DIST: CA 6361 CA 17152 - PALM 60 O34 7986',\n",
       " 'DIST: CA 6361 CA 17152 - PALM 60 O21 7987',\n",
       " 'DIST: CA 6361 CA 17152 - PALM 60 O22 7989',\n",
       " 'DIST: CA 6361 CA 17152 - PALM 61 O12 8087',\n",
       " 'DIST: CA 6361 CA 17152 - PALM 61 O11 8088',\n",
       " 'DIST: CA 6361 CA 17152 - PALM 61 O31 8097',\n",
       " 'DIST: CA 6361 CA 17152 - PALM 61 O32 8099',\n",
       " 'DIST: CA 6361 CA 17152 - PALM 61 O33 8119',\n",
       " 'DIST: CA 6361 CA 17152 - PALM 61 O34 8120',\n",
       " 'DIST: CA 6361 CA 17152 - PALM 61 O21 8121',\n",
       " 'DIST: CA 6361 CA 17152 - PALM 61 O22 8123',\n",
       " 'DIST: CA 6361 CA 17152 - PALM 62 O12 8221',\n",
       " 'DIST: CA 6361 CA 17152 - PALM 62 O11 8222',\n",
       " 'DIST: CA 6361 CA 17152 - PALM 62 O31 8231',\n",
       " 'DIST: CA 6361 CA 17152 - PALM 62 O32 8233',\n",
       " 'DIST: CA 6361 CA 17152 - PALM 62 O33 8253',\n",
       " 'DIST: CA 6361 CA 17152 - PALM 62 O34 8254',\n",
       " 'DIST: CA 6361 CA 17152 - PALM 62 O21 8255',\n",
       " 'DIST: CA 6361 CA 17152 - PALM 62 O22 8257',\n",
       " 'DIST: CA 6361 CA 17152 - PALM 63 O12 8355',\n",
       " 'DIST: CA 6361 CA 17152 - PALM 63 O11 8356',\n",
       " 'DIST: CA 6361 CA 17152 - PALM 63 O31 8365',\n",
       " 'DIST: CA 6361 CA 17152 - PALM 63 O32 8367',\n",
       " 'DIST: CA 6361 CA 17152 - PALM 63 O33 8387',\n",
       " 'DIST: CA 6361 CA 17152 - PALM 63 O34 8388',\n",
       " 'DIST: CA 6361 CA 17152 - PALM 63 O21 8389',\n",
       " 'DIST: CA 6361 CA 17152 - PALM 63 O22 8391',\n",
       " 'DIST: CA 6361 CA 17152 - PALM 64 O12 8489',\n",
       " 'DIST: CA 6361 CA 17152 - PALM 64 O11 8490',\n",
       " 'DIST: CA 6361 CA 17152 - PALM 64 O31 8499',\n",
       " 'DIST: CA 6361 CA 17152 - PALM 64 O32 8501',\n",
       " 'DIST: CA 6361 CA 17152 - PALM 64 O33 8521',\n",
       " 'DIST: CA 6361 CA 17152 - PALM 64 O34 8522',\n",
       " 'DIST: CA 6361 CA 17152 - PALM 64 O21 8523',\n",
       " 'DIST: CA 6361 CA 17152 - PALM 64 O22 8525',\n",
       " 'DIST: CA 6361 CA 17152 - PALM 65 O12 8623',\n",
       " 'DIST: CA 6361 CA 17152 - PALM 65 O11 8624',\n",
       " 'DIST: CA 6361 CA 17152 - PALM 65 O31 8633',\n",
       " 'DIST: CA 6361 CA 17152 - PALM 65 O32 8635',\n",
       " 'DIST: CA 6361 CA 17152 - PALM 65 O33 8655',\n",
       " 'DIST: CA 6361 CA 17152 - PALM 65 O34 8656',\n",
       " 'DIST: CA 6361 CA 17152 - PALM 65 O21 8657',\n",
       " 'DIST: CA 6361 CA 17152 - PALM 65 O22 8659',\n",
       " 'DIST: CA 6361 CA 17152 - PALM 66 O12 8757',\n",
       " 'DIST: CA 6361 CA 17152 - PALM 66 O11 8758',\n",
       " 'DIST: CA 6361 CA 17152 - PALM 66 O31 8767',\n",
       " 'DIST: CA 6361 CA 17152 - PALM 66 O32 8769',\n",
       " 'DIST: CA 6361 CA 17152 - PALM 66 O33 8789',\n",
       " 'DIST: CA 6361 CA 17152 - PALM 66 O34 8790',\n",
       " 'DIST: CA 6361 CA 17152 - PALM 66 O21 8791',\n",
       " 'DIST: CA 6361 CA 17152 - PALM 66 O22 8793',\n",
       " 'DIST: CA 6361 CA 17152 - PALM 67 O12 8891',\n",
       " 'DIST: CA 6361 CA 17152 - PALM 67 O11 8892',\n",
       " 'DIST: CA 6361 CA 17152 - PALM 67 O31 8901',\n",
       " 'DIST: CA 6361 CA 17152 - PALM 67 O32 8903',\n",
       " 'DIST: CA 6361 CA 17152 - PALM 67 O33 8923',\n",
       " 'DIST: CA 6361 CA 17152 - PALM 67 O34 8924',\n",
       " 'DIST: CA 6361 CA 17152 - PALM 67 O21 8925',\n",
       " 'DIST: CA 6361 CA 17152 - PALM 67 O22 8927',\n",
       " 'DIST: CA 6361 CA 17152 - PALM 68 O12 9025',\n",
       " 'DIST: CA 6361 CA 17152 - PALM 68 O11 9026',\n",
       " 'DIST: CA 6361 CA 17152 - PALM 68 O31 9035',\n",
       " 'DIST: CA 6361 CA 17152 - PALM 68 O32 9037',\n",
       " 'DIST: CA 6361 CA 17152 - PALM 68 O33 9057',\n",
       " 'DIST: CA 6361 CA 17152 - PALM 68 O34 9058',\n",
       " 'DIST: CA 6361 CA 17152 - PALM 68 O21 9059',\n",
       " 'DIST: CA 6361 CA 17152 - PALM 68 O22 9061',\n",
       " 'DIST: CA 6361 CA 17152 - PALM 69 O12 9159',\n",
       " 'DIST: CA 6361 CA 17152 - PALM 69 O11 9160',\n",
       " 'DIST: CA 6361 CA 17152 - PALM 69 O31 9169',\n",
       " 'DIST: CA 6361 CA 17152 - PALM 69 O32 9171',\n",
       " 'DIST: CA 6361 CA 17152 - PALM 69 O33 9191',\n",
       " 'DIST: CA 6361 CA 17152 - PALM 69 O34 9192',\n",
       " 'DIST: CA 6361 CA 17152 - PALM 69 O21 9193',\n",
       " 'DIST: CA 6361 CA 17152 - PALM 69 O22 9195',\n",
       " 'DIST: CA 6361 CA 17152 - PALM 70 O12 9293',\n",
       " 'DIST: CA 6361 CA 17152 - PALM 70 O11 9294',\n",
       " 'DIST: CA 6361 CA 17152 - PALM 70 O31 9303',\n",
       " 'DIST: CA 6361 CA 17152 - PALM 70 O32 9305',\n",
       " 'DIST: CA 6361 CA 17152 - PALM 70 O33 9325',\n",
       " 'DIST: CA 6361 CA 17152 - PALM 70 O34 9326',\n",
       " 'DIST: CA 6361 CA 17152 - PALM 70 O21 9327',\n",
       " 'DIST: CA 6361 CA 17152 - PALM 70 O22 9329',\n",
       " 'DIST: CA 6361 CA 17152 - PALM 71 O12 9427',\n",
       " 'DIST: CA 6361 CA 17152 - PALM 71 O11 9428',\n",
       " 'DIST: CA 6361 CA 17152 - PALM 71 O31 9437',\n",
       " 'DIST: CA 6361 CA 17152 - PALM 71 O32 9439',\n",
       " 'DIST: CA 6361 CA 17152 - PALM 71 O33 9459',\n",
       " 'DIST: CA 6361 CA 17152 - PALM 71 O34 9460',\n",
       " 'DIST: CA 6361 CA 17152 - PALM 71 O21 9461',\n",
       " 'DIST: CA 6361 CA 17152 - PALM 71 O22 9463',\n",
       " 'DIST: CA 6361 CA 17152 - PALM 72 O12 9561',\n",
       " 'DIST: CA 6361 CA 17152 - PALM 72 O11 9562',\n",
       " 'DIST: CA 6361 CA 17152 - PALM 72 O31 9571',\n",
       " 'DIST: CA 6361 CA 17152 - PALM 72 O32 9573',\n",
       " 'DIST: CA 6361 CA 17152 - PALM 72 O33 9593',\n",
       " 'DIST: CA 6361 CA 17152 - PALM 72 O34 9594',\n",
       " 'DIST: CA 6361 CA 17152 - PALM 72 O21 9595',\n",
       " 'DIST: CA 6361 CA 17152 - PALM 72 O22 9597',\n",
       " 'DIST: CA 6361 CA 17152 - PALM 73 O12 9695',\n",
       " 'DIST: CA 6361 CA 17152 - PALM 73 O11 9696',\n",
       " 'DIST: CA 6361 CA 17152 - PALM 73 O31 9705',\n",
       " 'DIST: CA 6361 CA 17152 - PALM 73 O32 9707',\n",
       " 'DIST: CA 6361 CA 17152 - PALM 73 O33 9727',\n",
       " 'DIST: CA 6361 CA 17152 - PALM 73 O34 9728',\n",
       " 'DIST: CA 6361 CA 17152 - PALM 73 O21 9729',\n",
       " 'DIST: CA 6361 CA 17152 - PALM 73 O22 9731',\n",
       " 'DIST: CA 6361 CA 17152 - PALM 74 O12 9829',\n",
       " 'DIST: CA 6361 CA 17152 - PALM 74 O11 9830',\n",
       " 'DIST: CA 6361 CA 17152 - PALM 74 O31 9839',\n",
       " 'DIST: CA 6361 CA 17152 - PALM 74 O32 9841',\n",
       " 'DIST: CA 6361 CA 17152 - PALM 74 O33 9861',\n",
       " 'DIST: CA 6361 CA 17152 - PALM 74 O34 9862',\n",
       " 'DIST: CA 6361 CA 17152 - PALM 74 O21 9863',\n",
       " 'DIST: CA 6361 CA 17152 - PALM 74 O22 9865',\n",
       " 'DIST: CA 6361 CA 17152 - PALM 75 O12 9963',\n",
       " 'DIST: CA 6361 CA 17152 - PALM 75 O11 9964',\n",
       " 'DIST: CA 6361 CA 17152 - PALM 75 O31 9973',\n",
       " 'DIST: CA 6361 CA 17152 - PALM 75 O32 9975',\n",
       " 'DIST: CA 6361 CA 17152 - PALM 75 O33 9995',\n",
       " 'DIST: CA 6361 CA 17152 - PALM 75 O34 9996',\n",
       " 'DIST: CA 6361 CA 17152 - PALM 75 O21 9997',\n",
       " 'DIST: CA 6361 CA 17152 - PALM 75 O22 9999',\n",
       " 'DIST: CA 6361 CA 17152 - PALM 76 O12 10097',\n",
       " 'DIST: CA 6361 CA 17152 - PALM 76 O11 10098',\n",
       " 'DIST: CA 6361 CA 17152 - PALM 76 O31 10107',\n",
       " 'DIST: CA 6361 CA 17152 - PALM 76 O32 10109',\n",
       " 'DIST: CA 6361 CA 17152 - PALM 76 O33 10129',\n",
       " 'DIST: CA 6361 CA 17152 - PALM 76 O34 10130',\n",
       " 'DIST: CA 6361 CA 17152 - PALM 76 O21 10131',\n",
       " 'DIST: CA 6361 CA 17152 - PALM 76 O22 10133',\n",
       " 'DIST: CA 6361 CA 17152 - PALM 77 O12 10231',\n",
       " 'DIST: CA 6361 CA 17152 - PALM 77 O11 10232',\n",
       " 'DIST: CA 6361 CA 17152 - PALM 77 O31 10241',\n",
       " 'DIST: CA 6361 CA 17152 - PALM 77 O32 10243',\n",
       " 'DIST: CA 6361 CA 17152 - PALM 77 O33 10263',\n",
       " 'DIST: CA 6361 CA 17152 - PALM 77 O34 10264',\n",
       " 'DIST: CA 6361 CA 17152 - PALM 77 O21 10265',\n",
       " 'DIST: CA 6361 CA 17152 - PALM 77 O22 10267',\n",
       " 'DIST: CA 6361 CA 17152 - PALM 78 O12 10365',\n",
       " 'DIST: CA 6361 CA 17152 - PALM 78 O11 10366',\n",
       " 'DIST: CA 6361 CA 17152 - PALM 78 O31 10375',\n",
       " 'DIST: CA 6361 CA 17152 - PALM 78 O32 10377',\n",
       " 'DIST: CA 6361 CA 17152 - PALM 78 O33 10397',\n",
       " 'DIST: CA 6361 CA 17152 - PALM 78 O34 10398',\n",
       " 'DIST: CA 6361 CA 17152 - PALM 78 O21 10399',\n",
       " 'DIST: CA 6361 CA 17152 - PALM 78 O22 10401',\n",
       " 'DIST: CA 6361 CA 17152 - PALM 79 O12 10499',\n",
       " 'DIST: CA 6361 CA 17152 - PALM 79 O11 10500',\n",
       " 'DIST: CA 6361 CA 17152 - PALM 79 O31 10509',\n",
       " 'DIST: CA 6361 CA 17152 - PALM 79 O32 10511',\n",
       " 'DIST: CA 6361 CA 17152 - PALM 79 O33 10531',\n",
       " 'DIST: CA 6361 CA 17152 - PALM 79 O34 10532',\n",
       " 'DIST: CA 6361 CA 17152 - PALM 79 O21 10533',\n",
       " 'DIST: CA 6361 CA 17152 - PALM 79 O22 10535',\n",
       " 'DIST: CA 6361 CA 17152 - PALM 80 O12 10633',\n",
       " 'DIST: CA 6361 CA 17152 - PALM 80 O11 10634',\n",
       " 'DIST: CA 6361 CA 17152 - PALM 80 O31 10643',\n",
       " 'DIST: CA 6361 CA 17152 - PALM 80 O32 10645',\n",
       " 'DIST: CA 6361 CA 17152 - PALM 80 O33 10665',\n",
       " 'DIST: CA 6361 CA 17152 - PALM 80 O34 10666',\n",
       " 'DIST: CA 6361 CA 17152 - PALM 80 O21 10667',\n",
       " 'DIST: CA 6361 CA 17152 - PALM 80 O22 10669',\n",
       " 'DIST: CA 6361 CA 17152 - PALM 81 O12 10767',\n",
       " 'DIST: CA 6361 CA 17152 - PALM 81 O11 10768',\n",
       " 'DIST: CA 6361 CA 17152 - PALM 81 O31 10777',\n",
       " 'DIST: CA 6361 CA 17152 - PALM 81 O32 10779',\n",
       " 'DIST: CA 6361 CA 17152 - PALM 81 O33 10799',\n",
       " 'DIST: CA 6361 CA 17152 - PALM 81 O34 10800',\n",
       " 'DIST: CA 6361 CA 17152 - PALM 81 O21 10801',\n",
       " 'DIST: CA 6361 CA 17152 - PALM 81 O22 10803',\n",
       " 'DIST: CA 6361 CA 17152 - PALM 82 O12 10901',\n",
       " 'DIST: CA 6361 CA 17152 - PALM 82 O11 10902',\n",
       " 'DIST: CA 6361 CA 17152 - PALM 82 O31 10911',\n",
       " 'DIST: CA 6361 CA 17152 - PALM 82 O32 10913',\n",
       " 'DIST: CA 6361 CA 17152 - PALM 82 O33 10933',\n",
       " 'DIST: CA 6361 CA 17152 - PALM 82 O34 10934',\n",
       " 'DIST: CA 6361 CA 17152 - PALM 82 O21 10935',\n",
       " 'DIST: CA 6361 CA 17152 - PALM 82 O22 10937',\n",
       " 'DIST: CA 6361 CA 17152 - PALM 83 O12 11035',\n",
       " 'DIST: CA 6361 CA 17152 - PALM 83 O11 11036',\n",
       " 'DIST: CA 6361 CA 17152 - PALM 83 O31 11045',\n",
       " 'DIST: CA 6361 CA 17152 - PALM 83 O32 11047',\n",
       " 'DIST: CA 6361 CA 17152 - PALM 83 O33 11067',\n",
       " 'DIST: CA 6361 CA 17152 - PALM 83 O34 11068',\n",
       " 'DIST: CA 6361 CA 17152 - PALM 83 O21 11069',\n",
       " 'DIST: CA 6361 CA 17152 - PALM 83 O22 11071',\n",
       " 'DIST: CA 6361 CA 17152 - PALM 84 O12 11169',\n",
       " 'DIST: CA 6361 CA 17152 - PALM 84 O11 11170',\n",
       " 'DIST: CA 6361 CA 17152 - PALM 84 O31 11179',\n",
       " 'DIST: CA 6361 CA 17152 - PALM 84 O32 11181',\n",
       " 'DIST: CA 6361 CA 17152 - PALM 84 O33 11201',\n",
       " 'DIST: CA 6361 CA 17152 - PALM 84 O34 11202',\n",
       " 'DIST: CA 6361 CA 17152 - PALM 84 O21 11203',\n",
       " 'DIST: CA 6361 CA 17152 - PALM 84 O22 11205',\n",
       " 'DIST: CA 6361 CA 17152 - PALM 85 O12 11303',\n",
       " 'DIST: CA 6361 CA 17152 - PALM 85 O11 11304',\n",
       " 'DIST: CA 6361 CA 17152 - PALM 85 O31 11313',\n",
       " 'DIST: CA 6361 CA 17152 - PALM 85 O32 11315',\n",
       " 'DIST: CA 6361 CA 17152 - PALM 85 O33 11335',\n",
       " 'DIST: CA 6361 CA 17152 - PALM 85 O34 11336',\n",
       " 'DIST: CA 6361 CA 17152 - PALM 85 O21 11337',\n",
       " 'DIST: CA 6361 CA 17152 - PALM 85 O22 11339',\n",
       " 'DIST: CA 6361 CA 17152 - PALM 86 O12 11437',\n",
       " 'DIST: CA 6361 CA 17152 - PALM 86 O11 11438',\n",
       " 'DIST: CA 6361 CA 17152 - PALM 86 O31 11447',\n",
       " 'DIST: CA 6361 CA 17152 - PALM 86 O32 11449',\n",
       " 'DIST: CA 6361 CA 17152 - PALM 86 O33 11469',\n",
       " 'DIST: CA 6361 CA 17152 - PALM 86 O34 11470',\n",
       " 'DIST: CA 6361 CA 17152 - PALM 86 O21 11471',\n",
       " 'DIST: CA 6361 CA 17152 - PALM 86 O22 11473',\n",
       " 'DIST: CA 6361 CA 17152 - PALM 87 O12 11571',\n",
       " 'DIST: CA 6361 CA 17152 - PALM 87 O11 11572',\n",
       " 'DIST: CA 6361 CA 17152 - PALM 87 O31 11581',\n",
       " 'DIST: CA 6361 CA 17152 - PALM 87 O32 11583',\n",
       " 'DIST: CA 6361 CA 17152 - PALM 87 O33 11603',\n",
       " 'DIST: CA 6361 CA 17152 - PALM 87 O34 11604',\n",
       " 'DIST: CA 6361 CA 17152 - PALM 87 O21 11605',\n",
       " 'DIST: CA 6361 CA 17152 - PALM 87 O22 11607',\n",
       " 'DIST: CA 6361 CA 17152 - PALM 88 O12 11705',\n",
       " 'DIST: CA 6361 CA 17152 - PALM 88 O11 11706',\n",
       " 'DIST: CA 6361 CA 17152 - PALM 88 O31 11715',\n",
       " 'DIST: CA 6361 CA 17152 - PALM 88 O32 11717',\n",
       " 'DIST: CA 6361 CA 17152 - PALM 88 O33 11737',\n",
       " 'DIST: CA 6361 CA 17152 - PALM 88 O34 11738',\n",
       " 'DIST: CA 6361 CA 17152 - PALM 88 O21 11739',\n",
       " 'DIST: CA 6361 CA 17152 - PALM 88 O22 11741',\n",
       " 'DIST: CA 6361 CA 17152 - PALM 89 O12 11839',\n",
       " 'DIST: CA 6361 CA 17152 - PALM 89 O11 11840',\n",
       " 'DIST: CA 6361 CA 17152 - PALM 89 O31 11849',\n",
       " 'DIST: CA 6361 CA 17152 - PALM 89 O32 11851',\n",
       " 'DIST: CA 6361 CA 17152 - PALM 89 O33 11871',\n",
       " 'DIST: CA 6361 CA 17152 - PALM 89 O34 11872',\n",
       " 'DIST: CA 6361 CA 17152 - PALM 89 O21 11873',\n",
       " 'DIST: CA 6361 CA 17152 - PALM 89 O22 11875',\n",
       " 'DIST: CA 6361 CA 17152 - PALM 90 O12 11973',\n",
       " 'DIST: CA 6361 CA 17152 - PALM 90 O11 11974',\n",
       " 'DIST: CA 6361 CA 17152 - PALM 90 O31 11983',\n",
       " 'DIST: CA 6361 CA 17152 - PALM 90 O32 11985',\n",
       " 'DIST: CA 6361 CA 17152 - PALM 90 O33 12005',\n",
       " 'DIST: CA 6361 CA 17152 - PALM 90 O34 12006',\n",
       " 'DIST: CA 6361 CA 17152 - PALM 90 O21 12007',\n",
       " 'DIST: CA 6361 CA 17152 - PALM 90 O22 12009',\n",
       " 'DIST: CA 6361 CA 17152 - PALM 91 O12 12107',\n",
       " 'DIST: CA 6361 CA 17152 - PALM 91 O11 12108',\n",
       " 'DIST: CA 6361 CA 17152 - PALM 91 O31 12117',\n",
       " 'DIST: CA 6361 CA 17152 - PALM 91 O32 12119',\n",
       " 'DIST: CA 6361 CA 17152 - PALM 91 O33 12139',\n",
       " 'DIST: CA 6361 CA 17152 - PALM 91 O34 12140',\n",
       " 'DIST: CA 6361 CA 17152 - PALM 91 O21 12141',\n",
       " 'DIST: CA 6361 CA 17152 - PALM 91 O22 12143',\n",
       " 'DIST: CA 6361 CA 17152 - PALM 92 O12 12241',\n",
       " 'DIST: CA 6361 CA 17152 - PALM 92 O11 12242',\n",
       " 'DIST: CA 6361 CA 17152 - PALM 92 O31 12251',\n",
       " 'DIST: CA 6361 CA 17152 - PALM 92 O32 12253',\n",
       " 'DIST: CA 6361 CA 17152 - PALM 92 O33 12273',\n",
       " 'DIST: CA 6361 CA 17152 - PALM 92 O34 12274',\n",
       " 'DIST: CA 6361 CA 17152 - PALM 92 O21 12275',\n",
       " 'DIST: CA 6361 CA 17152 - PALM 92 O22 12277',\n",
       " 'DIST: CA 6361 CA 17152 - PALM 93 O12 12375',\n",
       " 'DIST: CA 6361 CA 17152 - PALM 93 O11 12376',\n",
       " 'DIST: CA 6361 CA 17152 - PALM 93 O31 12385',\n",
       " 'DIST: CA 6361 CA 17152 - PALM 93 O32 12387',\n",
       " 'DIST: CA 6361 CA 17152 - PALM 93 O33 12407',\n",
       " 'DIST: CA 6361 CA 17152 - PALM 93 O34 12408',\n",
       " 'DIST: CA 6361 CA 17152 - PALM 93 O21 12409',\n",
       " 'DIST: CA 6361 CA 17152 - PALM 93 O22 12411',\n",
       " 'DIST: CA 6361 CA 17152 - PALM 94 O12 12509',\n",
       " 'DIST: CA 6361 CA 17152 - PALM 94 O11 12510',\n",
       " 'DIST: CA 6361 CA 17152 - PALM 94 O31 12519',\n",
       " 'DIST: CA 6361 CA 17152 - PALM 94 O32 12521',\n",
       " 'DIST: CA 6361 CA 17152 - PALM 94 O33 12541',\n",
       " 'DIST: CA 6361 CA 17152 - PALM 94 O34 12542',\n",
       " 'DIST: CA 6361 CA 17152 - PALM 94 O21 12543',\n",
       " 'DIST: CA 6361 CA 17152 - PALM 94 O22 12545',\n",
       " 'DIST: CA 6361 CA 17152 - PALM 95 O12 12643',\n",
       " 'DIST: CA 6361 CA 17152 - PALM 95 O11 12644',\n",
       " 'DIST: CA 6361 CA 17152 - PALM 95 O31 12653',\n",
       " 'DIST: CA 6361 CA 17152 - PALM 95 O32 12655',\n",
       " 'DIST: CA 6361 CA 17152 - PALM 95 O33 12675',\n",
       " 'DIST: CA 6361 CA 17152 - PALM 95 O34 12676',\n",
       " 'DIST: CA 6361 CA 17152 - PALM 95 O21 12677',\n",
       " 'DIST: CA 6361 CA 17152 - PALM 95 O22 12679',\n",
       " 'DIST: CA 6361 CA 17152 - PALM 96 O12 12777',\n",
       " 'DIST: CA 6361 CA 17152 - PALM 96 O11 12778',\n",
       " 'DIST: CA 6361 CA 17152 - PALM 96 O31 12787',\n",
       " 'DIST: CA 6361 CA 17152 - PALM 96 O32 12789',\n",
       " 'DIST: CA 6361 CA 17152 - PALM 96 O33 12809',\n",
       " 'DIST: CA 6361 CA 17152 - PALM 96 O34 12810',\n",
       " 'DIST: CA 6361 CA 17152 - PALM 96 O21 12811',\n",
       " 'DIST: CA 6361 CA 17152 - PALM 96 O22 12813',\n",
       " 'DIST: CA 6361 CA 17152 - PALM 97 O12 12911',\n",
       " 'DIST: CA 6361 CA 17152 - PALM 97 O11 12912',\n",
       " 'DIST: CA 6361 CA 17152 - PALM 97 O31 12921',\n",
       " 'DIST: CA 6361 CA 17152 - PALM 97 O32 12923',\n",
       " 'DIST: CA 6361 CA 17152 - PALM 97 O33 12943',\n",
       " 'DIST: CA 6361 CA 17152 - PALM 97 O34 12944',\n",
       " 'DIST: CA 6361 CA 17152 - PALM 97 O21 12945',\n",
       " 'DIST: CA 6361 CA 17152 - PALM 97 O22 12947',\n",
       " 'DIST: CA 6361 CA 17152 - PALM 98 O12 13045',\n",
       " 'DIST: CA 6361 CA 17152 - PALM 98 O11 13046',\n",
       " 'DIST: CA 6361 CA 17152 - PALM 98 O31 13055',\n",
       " 'DIST: CA 6361 CA 17152 - PALM 98 O32 13057',\n",
       " 'DIST: CA 6361 CA 17152 - PALM 98 O33 13077',\n",
       " 'DIST: CA 6361 CA 17152 - PALM 98 O34 13078',\n",
       " 'DIST: CA 6361 CA 17152 - PALM 98 O21 13079',\n",
       " 'DIST: CA 6361 CA 17152 - PALM 98 O22 13081',\n",
       " 'DIST: CA 6361 CA 17152 - PALM 99 O12 13179',\n",
       " 'DIST: CA 6361 CA 17152 - PALM 99 O11 13180',\n",
       " 'DIST: CA 6361 CA 17152 - PALM 99 O31 13189',\n",
       " 'DIST: CA 6361 CA 17152 - PALM 99 O32 13191',\n",
       " 'DIST: CA 6361 CA 17152 - PALM 99 O33 13211',\n",
       " 'DIST: CA 6361 CA 17152 - PALM 99 O34 13212',\n",
       " 'DIST: CA 6361 CA 17152 - PALM 99 O21 13213',\n",
       " 'DIST: CA 6361 CA 17152 - PALM 99 O22 13215',\n",
       " 'DIST: CA 6361 CA 17152 - PALM 100 O12 13313',\n",
       " 'DIST: CA 6361 CA 17152 - PALM 100 O11 13314',\n",
       " 'DIST: CA 6361 CA 17152 - PALM 100 O31 13323',\n",
       " 'DIST: CA 6361 CA 17152 - PALM 100 O32 13325',\n",
       " 'DIST: CA 6361 CA 17152 - PALM 100 O33 13345',\n",
       " 'DIST: CA 6361 CA 17152 - PALM 100 O34 13346',\n",
       " 'DIST: CA 6361 CA 17152 - PALM 100 O21 13347',\n",
       " 'DIST: CA 6361 CA 17152 - PALM 100 O22 13349',\n",
       " 'DIST: CA 6361 CA 17152 - PALM 101 O12 13447',\n",
       " 'DIST: CA 6361 CA 17152 - PALM 101 O11 13448',\n",
       " 'DIST: CA 6361 CA 17152 - PALM 101 O31 13457',\n",
       " 'DIST: CA 6361 CA 17152 - PALM 101 O32 13459',\n",
       " 'DIST: CA 6361 CA 17152 - PALM 101 O33 13479',\n",
       " 'DIST: CA 6361 CA 17152 - PALM 101 O34 13480',\n",
       " 'DIST: CA 6361 CA 17152 - PALM 101 O21 13481',\n",
       " 'DIST: CA 6361 CA 17152 - PALM 101 O22 13483',\n",
       " 'DIST: CA 6361 CA 17152 - PALM 102 O12 13581',\n",
       " 'DIST: CA 6361 CA 17152 - PALM 102 O11 13582',\n",
       " 'DIST: CA 6361 CA 17152 - PALM 102 O31 13591',\n",
       " 'DIST: CA 6361 CA 17152 - PALM 102 O32 13593',\n",
       " 'DIST: CA 6361 CA 17152 - PALM 102 O33 13613',\n",
       " 'DIST: CA 6361 CA 17152 - PALM 102 O34 13614',\n",
       " 'DIST: CA 6361 CA 17152 - PALM 102 O21 13615',\n",
       " 'DIST: CA 6361 CA 17152 - PALM 102 O22 13617',\n",
       " 'DIST: CA 6361 CA 17152 - PALM 103 O12 13715',\n",
       " 'DIST: CA 6361 CA 17152 - PALM 103 O11 13716',\n",
       " 'DIST: CA 6361 CA 17152 - PALM 103 O31 13725',\n",
       " 'DIST: CA 6361 CA 17152 - PALM 103 O32 13727',\n",
       " 'DIST: CA 6361 CA 17152 - PALM 103 O33 13747',\n",
       " 'DIST: CA 6361 CA 17152 - PALM 103 O34 13748',\n",
       " 'DIST: CA 6361 CA 17152 - PALM 103 O21 13749',\n",
       " 'DIST: CA 6361 CA 17152 - PALM 103 O22 13751',\n",
       " 'DIST: CA 6361 CA 17152 - PALM 104 O12 13849',\n",
       " 'DIST: CA 6361 CA 17152 - PALM 104 O11 13850',\n",
       " 'DIST: CA 6361 CA 17152 - PALM 104 O31 13859',\n",
       " 'DIST: CA 6361 CA 17152 - PALM 104 O32 13861',\n",
       " 'DIST: CA 6361 CA 17152 - PALM 104 O33 13881',\n",
       " 'DIST: CA 6361 CA 17152 - PALM 104 O34 13882',\n",
       " 'DIST: CA 6361 CA 17152 - PALM 104 O21 13883',\n",
       " 'DIST: CA 6361 CA 17152 - PALM 104 O22 13885',\n",
       " 'DIST: CA 6361 CA 17152 - PALM 105 O12 13983',\n",
       " 'DIST: CA 6361 CA 17152 - PALM 105 O11 13984',\n",
       " 'DIST: CA 6361 CA 17152 - PALM 105 O31 13993',\n",
       " 'DIST: CA 6361 CA 17152 - PALM 105 O32 13995',\n",
       " 'DIST: CA 6361 CA 17152 - PALM 105 O33 14015',\n",
       " 'DIST: CA 6361 CA 17152 - PALM 105 O34 14016',\n",
       " 'DIST: CA 6361 CA 17152 - PALM 105 O21 14017',\n",
       " 'DIST: CA 6361 CA 17152 - PALM 105 O22 14019',\n",
       " 'DIST: CA 6361 CA 17152 - PALM 106 O12 14117',\n",
       " 'DIST: CA 6361 CA 17152 - PALM 106 O11 14118',\n",
       " 'DIST: CA 6361 CA 17152 - PALM 106 O31 14127',\n",
       " 'DIST: CA 6361 CA 17152 - PALM 106 O32 14129',\n",
       " 'DIST: CA 6361 CA 17152 - PALM 106 O33 14149',\n",
       " 'DIST: CA 6361 CA 17152 - PALM 106 O34 14150',\n",
       " 'DIST: CA 6361 CA 17152 - PALM 106 O21 14151',\n",
       " 'DIST: CA 6361 CA 17152 - PALM 106 O22 14153',\n",
       " 'DIST: CA 6361 CA 17152 - PALM 107 O12 14251',\n",
       " 'DIST: CA 6361 CA 17152 - PALM 107 O11 14252',\n",
       " 'DIST: CA 6361 CA 17152 - PALM 107 O31 14261',\n",
       " 'DIST: CA 6361 CA 17152 - PALM 107 O32 14263',\n",
       " 'DIST: CA 6361 CA 17152 - PALM 107 O33 14283',\n",
       " 'DIST: CA 6361 CA 17152 - PALM 107 O34 14284',\n",
       " 'DIST: CA 6361 CA 17152 - PALM 107 O21 14285',\n",
       " 'DIST: CA 6361 CA 17152 - PALM 107 O22 14287',\n",
       " 'DIST: CA 6361 CA 17152 - PALM 108 O12 14385',\n",
       " 'DIST: CA 6361 CA 17152 - PALM 108 O11 14386',\n",
       " 'DIST: CA 6361 CA 17152 - PALM 108 O31 14395',\n",
       " 'DIST: CA 6361 CA 17152 - PALM 108 O32 14397',\n",
       " 'DIST: CA 6361 CA 17152 - PALM 108 O33 14417',\n",
       " 'DIST: CA 6361 CA 17152 - PALM 108 O34 14418',\n",
       " 'DIST: CA 6361 CA 17152 - PALM 108 O21 14419',\n",
       " 'DIST: CA 6361 CA 17152 - PALM 108 O22 14421',\n",
       " 'DIST: CA 6361 CA 17152 - PALM 109 O12 14519',\n",
       " 'DIST: CA 6361 CA 17152 - PALM 109 O11 14520',\n",
       " 'DIST: CA 6361 CA 17152 - PALM 109 O31 14529',\n",
       " 'DIST: CA 6361 CA 17152 - PALM 109 O32 14531',\n",
       " 'DIST: CA 6361 CA 17152 - PALM 109 O33 14551',\n",
       " 'DIST: CA 6361 CA 17152 - PALM 109 O34 14552',\n",
       " 'DIST: CA 6361 CA 17152 - PALM 109 O21 14553',\n",
       " 'DIST: CA 6361 CA 17152 - PALM 109 O22 14555',\n",
       " 'DIST: CA 6361 CA 17152 - PALM 110 O12 14653',\n",
       " 'DIST: CA 6361 CA 17152 - PALM 110 O11 14654',\n",
       " 'DIST: CA 6361 CA 17152 - PALM 110 O31 14663',\n",
       " 'DIST: CA 6361 CA 17152 - PALM 110 O32 14665',\n",
       " 'DIST: CA 6361 CA 17152 - PALM 110 O33 14685',\n",
       " 'DIST: CA 6361 CA 17152 - PALM 110 O34 14686',\n",
       " 'DIST: CA 6361 CA 17152 - PALM 110 O21 14687',\n",
       " 'DIST: CA 6361 CA 17152 - PALM 110 O22 14689',\n",
       " 'DIST: CA 6361 CA 17152 - PALM 111 O12 14787',\n",
       " 'DIST: CA 6361 CA 17152 - PALM 111 O11 14788',\n",
       " 'DIST: CA 6361 CA 17152 - PALM 111 O31 14797',\n",
       " 'DIST: CA 6361 CA 17152 - PALM 111 O32 14799',\n",
       " 'DIST: CA 6361 CA 17152 - PALM 111 O33 14819',\n",
       " 'DIST: CA 6361 CA 17152 - PALM 111 O34 14820',\n",
       " 'DIST: CA 6361 CA 17152 - PALM 111 O21 14821',\n",
       " 'DIST: CA 6361 CA 17152 - PALM 111 O22 14823',\n",
       " 'DIST: CA 6361 CA 17152 - PALM 112 O12 14921',\n",
       " 'DIST: CA 6361 CA 17152 - PALM 112 O11 14922',\n",
       " 'DIST: CA 6361 CA 17152 - PALM 112 O31 14931',\n",
       " 'DIST: CA 6361 CA 17152 - PALM 112 O32 14933',\n",
       " 'DIST: CA 6361 CA 17152 - PALM 112 O33 14953',\n",
       " 'DIST: CA 6361 CA 17152 - PALM 112 O34 14954',\n",
       " 'DIST: CA 6361 CA 17152 - PALM 112 O21 14955',\n",
       " 'DIST: CA 6361 CA 17152 - PALM 112 O22 14957',\n",
       " 'DIST: CA 6361 CA 17152 - PALM 113 O12 15055',\n",
       " 'DIST: CA 6361 CA 17152 - PALM 113 O11 15056',\n",
       " 'DIST: CA 6361 CA 17152 - PALM 113 O31 15065',\n",
       " 'DIST: CA 6361 CA 17152 - PALM 113 O32 15067',\n",
       " 'DIST: CA 6361 CA 17152 - PALM 113 O33 15087',\n",
       " 'DIST: CA 6361 CA 17152 - PALM 113 O34 15088',\n",
       " 'DIST: CA 6361 CA 17152 - PALM 113 O21 15089',\n",
       " 'DIST: CA 6361 CA 17152 - PALM 113 O22 15091',\n",
       " 'DIST: CA 6361 CA 17152 - PALM 114 O12 15189',\n",
       " 'DIST: CA 6361 CA 17152 - PALM 114 O11 15190',\n",
       " 'DIST: CA 6361 CA 17152 - PALM 114 O31 15199',\n",
       " 'DIST: CA 6361 CA 17152 - PALM 114 O32 15201',\n",
       " 'DIST: CA 6361 CA 17152 - PALM 114 O33 15221',\n",
       " 'DIST: CA 6361 CA 17152 - PALM 114 O34 15222',\n",
       " 'DIST: CA 6361 CA 17152 - PALM 114 O21 15223',\n",
       " 'DIST: CA 6361 CA 17152 - PALM 114 O22 15225',\n",
       " 'DIST: CA 6361 CA 17152 - PALM 115 O12 15323',\n",
       " 'DIST: CA 6361 CA 17152 - PALM 115 O11 15324',\n",
       " 'DIST: CA 6361 CA 17152 - PALM 115 O31 15333',\n",
       " 'DIST: CA 6361 CA 17152 - PALM 115 O32 15335',\n",
       " 'DIST: CA 6361 CA 17152 - PALM 115 O33 15355',\n",
       " 'DIST: CA 6361 CA 17152 - PALM 115 O34 15356',\n",
       " 'DIST: CA 6361 CA 17152 - PALM 115 O21 15357',\n",
       " 'DIST: CA 6361 CA 17152 - PALM 115 O22 15359',\n",
       " 'DIST: CA 6361 CA 17152 - PALM 116 O12 15457',\n",
       " 'DIST: CA 6361 CA 17152 - PALM 116 O11 15458',\n",
       " 'DIST: CA 6361 CA 17152 - PALM 116 O31 15467',\n",
       " 'DIST: CA 6361 CA 17152 - PALM 116 O32 15469',\n",
       " 'DIST: CA 6361 CA 17152 - PALM 116 O33 15489',\n",
       " 'DIST: CA 6361 CA 17152 - PALM 116 O34 15490',\n",
       " 'DIST: CA 6361 CA 17152 - PALM 116 O21 15491',\n",
       " 'DIST: CA 6361 CA 17152 - PALM 116 O22 15493',\n",
       " 'DIST: CA 6361 CA 17152 - PALM 117 O12 15591',\n",
       " 'DIST: CA 6361 CA 17152 - PALM 117 O11 15592',\n",
       " 'DIST: CA 6361 CA 17152 - PALM 117 O31 15601',\n",
       " 'DIST: CA 6361 CA 17152 - PALM 117 O32 15603',\n",
       " 'DIST: CA 6361 CA 17152 - PALM 117 O33 15623',\n",
       " 'DIST: CA 6361 CA 17152 - PALM 117 O34 15624',\n",
       " 'DIST: CA 6361 CA 17152 - PALM 117 O21 15625',\n",
       " 'DIST: CA 6361 CA 17152 - PALM 117 O22 15627',\n",
       " 'DIST: CA 6361 CA 17152 - PALM 118 O12 15725',\n",
       " 'DIST: CA 6361 CA 17152 - PALM 118 O11 15726',\n",
       " 'DIST: CA 6361 CA 17152 - PALM 118 O31 15735',\n",
       " 'DIST: CA 6361 CA 17152 - PALM 118 O32 15737',\n",
       " 'DIST: CA 6361 CA 17152 - PALM 118 O33 15757',\n",
       " 'DIST: CA 6361 CA 17152 - PALM 118 O34 15758',\n",
       " 'DIST: CA 6361 CA 17152 - PALM 118 O21 15759',\n",
       " 'DIST: CA 6361 CA 17152 - PALM 118 O22 15761',\n",
       " 'DIST: CA 6361 CA 17152 - PALM 119 O12 15859',\n",
       " 'DIST: CA 6361 CA 17152 - PALM 119 O11 15860',\n",
       " 'DIST: CA 6361 CA 17152 - PALM 119 O31 15869',\n",
       " 'DIST: CA 6361 CA 17152 - PALM 119 O32 15871',\n",
       " 'DIST: CA 6361 CA 17152 - PALM 119 O33 15891',\n",
       " 'DIST: CA 6361 CA 17152 - PALM 119 O34 15892',\n",
       " 'DIST: CA 6361 CA 17152 - PALM 119 O21 15893',\n",
       " 'DIST: CA 6361 CA 17152 - PALM 119 O22 15895',\n",
       " 'DIST: CA 6361 CA 17152 - PALM 120 O12 15993',\n",
       " 'DIST: CA 6361 CA 17152 - PALM 120 O11 15994',\n",
       " 'DIST: CA 6361 CA 17152 - PALM 120 O31 16003',\n",
       " 'DIST: CA 6361 CA 17152 - PALM 120 O32 16005',\n",
       " 'DIST: CA 6361 CA 17152 - PALM 120 O33 16025',\n",
       " 'DIST: CA 6361 CA 17152 - PALM 120 O34 16026',\n",
       " 'DIST: CA 6361 CA 17152 - PALM 120 O21 16027',\n",
       " 'DIST: CA 6361 CA 17152 - PALM 120 O22 16029',\n",
       " 'DIST: CA 6361 CA 17152 - PALM 121 O12 16127',\n",
       " 'DIST: CA 6361 CA 17152 - PALM 121 O11 16128',\n",
       " 'DIST: CA 6361 CA 17152 - PALM 121 O31 16137',\n",
       " 'DIST: CA 6361 CA 17152 - PALM 121 O32 16139',\n",
       " 'DIST: CA 6361 CA 17152 - PALM 121 O33 16159',\n",
       " 'DIST: CA 6361 CA 17152 - PALM 121 O34 16160',\n",
       " 'DIST: CA 6361 CA 17152 - PALM 121 O21 16161',\n",
       " 'DIST: CA 6361 CA 17152 - PALM 121 O22 16163',\n",
       " 'DIST: CA 6361 CA 17152 - PALM 122 O12 16261',\n",
       " 'DIST: CA 6361 CA 17152 - PALM 122 O11 16262',\n",
       " 'DIST: CA 6361 CA 17152 - PALM 122 O31 16271',\n",
       " 'DIST: CA 6361 CA 17152 - PALM 122 O32 16273',\n",
       " 'DIST: CA 6361 CA 17152 - PALM 122 O33 16293',\n",
       " 'DIST: CA 6361 CA 17152 - PALM 122 O34 16294',\n",
       " 'DIST: CA 6361 CA 17152 - PALM 122 O21 16295',\n",
       " 'DIST: CA 6361 CA 17152 - PALM 122 O22 16297',\n",
       " 'DIST: CA 6361 CA 17152 - PALM 123 O12 16395',\n",
       " 'DIST: CA 6361 CA 17152 - PALM 123 O11 16396',\n",
       " 'DIST: CA 6361 CA 17152 - PALM 123 O31 16405',\n",
       " 'DIST: CA 6361 CA 17152 - PALM 123 O32 16407',\n",
       " 'DIST: CA 6361 CA 17152 - PALM 123 O33 16427',\n",
       " 'DIST: CA 6361 CA 17152 - PALM 123 O34 16428',\n",
       " 'DIST: CA 6361 CA 17152 - PALM 123 O21 16429',\n",
       " 'DIST: CA 6361 CA 17152 - PALM 123 O22 16431',\n",
       " 'DIST: CA 6361 CA 17152 - PALM 124 O12 16529',\n",
       " 'DIST: CA 6361 CA 17152 - PALM 124 O11 16530',\n",
       " 'DIST: CA 6361 CA 17152 - PALM 124 O31 16539',\n",
       " 'DIST: CA 6361 CA 17152 - PALM 124 O32 16541',\n",
       " 'DIST: CA 6361 CA 17152 - PALM 124 O33 16561',\n",
       " 'DIST: CA 6361 CA 17152 - PALM 124 O34 16562',\n",
       " 'DIST: CA 6361 CA 17152 - PALM 124 O21 16563',\n",
       " 'DIST: CA 6361 CA 17152 - PALM 124 O22 16565',\n",
       " 'DIST: CA 6361 CA 17152 - PALM 125 O12 16663',\n",
       " 'DIST: CA 6361 CA 17152 - PALM 125 O11 16664',\n",
       " 'DIST: CA 6361 CA 17152 - PALM 125 O31 16673',\n",
       " 'DIST: CA 6361 CA 17152 - PALM 125 O32 16675',\n",
       " 'DIST: CA 6361 CA 17152 - PALM 125 O33 16695',\n",
       " 'DIST: CA 6361 CA 17152 - PALM 125 O34 16696',\n",
       " 'DIST: CA 6361 CA 17152 - PALM 125 O21 16697',\n",
       " 'DIST: CA 6361 CA 17152 - PALM 125 O22 16699',\n",
       " ...]"
      ]
     },
     "execution_count": 8,
     "metadata": {},
     "output_type": "execute_result"
    }
   ],
   "source": [
    "top = feat.topology\n",
    "cations = top.select('resname CA')\n",
    "memb_sites = top.select(\"name =~ 'O[1-3][1-4]'\")\n",
    "pairs = [ [cat, oxy] for cat in cations for oxy in memb_sites ]\n",
    "feat.add_distances(pairs)\n",
    "\n",
    "feat.describe()"
   ]
  },
  {
   "cell_type": "code",
   "execution_count": 9,
   "metadata": {
    "collapsed": false
   },
   "outputs": [
    {
     "data": {
      "text/plain": [
       "112640"
      ]
     },
     "execution_count": 9,
     "metadata": {},
     "output_type": "execute_result"
    }
   ],
   "source": [
    "feat.dimension()"
   ]
  },
  {
   "cell_type": "markdown",
   "metadata": {},
   "source": [
    "Now we define the source of input coordinates (we don't load them into memory at this stage - they will be loaded as needed). Compute a few basic data statistics gives:"
   ]
  },
  {
   "cell_type": "code",
   "execution_count": 10,
   "metadata": {
    "collapsed": false
   },
   "outputs": [
    {
     "name": "stdout",
     "output_type": "stream",
     "text": [
      "number of trajectories =  1\n",
      "trajectory length =  10001\n",
      "number of dimension =  112640\n"
     ]
    }
   ],
   "source": [
    "inp = coor.source(traj_list, feat)\n",
    "print('number of trajectories = ',inp.number_of_trajectories())\n",
    "print('trajectory length = ',inp.trajectory_length(0))\n",
    "#print('trajectory time step = ',500.0 / (inp.trajectory_length(0)-1),'ns')\n",
    "print('number of dimension = ',inp.dimension())"
   ]
  },
  {
   "cell_type": "code",
   "execution_count": 11,
   "metadata": {
    "collapsed": false
   },
   "outputs": [
    {
     "name": "stdout",
     "output_type": "stream",
     "text": [
      "number of trajectories =  1\n",
      "number of frames =  10001\n",
      "number of dimensions =  112640\n"
     ]
    }
   ],
   "source": [
    "Y = inp.get_output() # get tica coordinates\n",
    "print('number of trajectories = ', np.shape(Y)[0])\n",
    "print('number of frames = ', np.shape(Y)[1])\n",
    "print('number of dimensions = ',np.shape(Y)[2])"
   ]
  },
  {
   "cell_type": "markdown",
   "metadata": {},
   "source": [
    "Now, I split the trajectory Y into separate individual trajectories of each individual calcium"
   ]
  },
  {
   "cell_type": "code",
   "execution_count": 12,
   "metadata": {
    "collapsed": false
   },
   "outputs": [],
   "source": [
    "Y = np.split(Y[0], cations.shape[0], axis=1)"
   ]
  },
  {
   "cell_type": "markdown",
   "metadata": {},
   "source": [
    "Split the separate trajectories in Y into residue-based-blocks"
   ]
  },
  {
   "cell_type": "code",
   "execution_count": 13,
   "metadata": {
    "collapsed": false
   },
   "outputs": [],
   "source": [
    "for i in range(len(Y)):\n",
    "    Y[i] = np.reshape(Y[i], [Y[i].shape[0], Y[i].shape[1]/n_at_per_res, n_at_per_res])\n"
   ]
  },
  {
   "cell_type": "markdown",
   "metadata": {},
   "source": [
    "Is there a contact per each cation and each individual lipid?"
   ]
  },
  {
   "cell_type": "code",
   "execution_count": 14,
   "metadata": {
    "collapsed": false,
    "scrolled": true
   },
   "outputs": [
    {
     "name": "stdout",
     "output_type": "stream",
     "text": [
      "Working on traj 0\n",
      "Working on traj 1\n",
      "Working on traj 2\n",
      "Working on traj 3\n",
      "Working on traj 4\n",
      "Working on traj 5\n",
      "Working on traj 6\n",
      "Working on traj 7\n",
      "Working on traj 8\n",
      "Working on traj 9\n",
      "Working on traj 10\n",
      "Working on traj 11\n",
      "Working on traj 12\n",
      "Working on traj 13\n",
      "Working on traj 14\n",
      "Working on traj 15\n",
      "Working on traj 16\n",
      "Working on traj 17\n",
      "Working on traj 18\n",
      "Working on traj 19\n",
      "Working on traj 20\n",
      "Working on traj 21\n",
      "Working on traj 22\n",
      "Working on traj 23\n",
      "Working on traj 24\n",
      "Working on traj 25\n",
      "Working on traj 26\n",
      "Working on traj 27\n",
      "Working on traj 28\n",
      "Working on traj 29\n",
      "Working on traj 30\n",
      "Working on traj 31\n",
      "Working on traj 32\n",
      "Working on traj 33\n",
      "Working on traj 34\n",
      "Working on traj 35\n",
      "Working on traj 36\n",
      "Working on traj 37\n",
      "Working on traj 38\n",
      "Working on traj 39\n",
      "Working on traj 40\n",
      "Working on traj 41\n",
      "Working on traj 42\n",
      "Working on traj 43\n",
      "Working on traj 44\n",
      "Working on traj 45\n",
      "Working on traj 46\n",
      "Working on traj 47\n",
      "Working on traj 48\n",
      "Working on traj 49\n",
      "Working on traj 50\n",
      "Working on traj 51\n",
      "Working on traj 52\n",
      "Working on traj 53\n",
      "Working on traj 54\n",
      "Working on traj 55\n",
      "Working on traj 56\n",
      "Working on traj 57\n",
      "Working on traj 58\n",
      "Working on traj 59\n",
      "Working on traj 60\n",
      "Working on traj 61\n",
      "Working on traj 62\n",
      "Working on traj 63\n",
      "Working on traj 64\n",
      "Working on traj 65\n",
      "Working on traj 66\n",
      "Working on traj 67\n",
      "Working on traj 68\n",
      "Working on traj 69\n",
      "Working on traj 70\n",
      "Working on traj 71\n",
      "Working on traj 72\n",
      "Working on traj 73\n",
      "Working on traj 74\n",
      "Working on traj 75\n",
      "Working on traj 76\n",
      "Working on traj 77\n",
      "Working on traj 78\n",
      "Working on traj 79\n",
      "Working on traj 80\n",
      "Working on traj 81\n",
      "Working on traj 82\n",
      "Working on traj 83\n",
      "Working on traj 84\n",
      "Working on traj 85\n",
      "Working on traj 86\n",
      "Working on traj 87\n",
      "Working on traj 88\n",
      "Working on traj 89\n",
      "Working on traj 90\n",
      "Working on traj 91\n",
      "Working on traj 92\n",
      "Working on traj 93\n",
      "Working on traj 94\n",
      "Working on traj 95\n",
      "Working on traj 96\n",
      "Working on traj 97\n",
      "Working on traj 98\n",
      "Working on traj 99\n",
      "Working on traj 100\n",
      "Working on traj 101\n",
      "Working on traj 102\n",
      "Working on traj 103\n",
      "Working on traj 104\n",
      "Working on traj 105\n",
      "Working on traj 106\n",
      "Working on traj 107\n",
      "Working on traj 108\n",
      "Working on traj 109\n"
     ]
    }
   ],
   "source": [
    "# 1st g(r) depression (after 1st peak) is at 0.28nm -- 0.3nm is a good cut-off distance\n",
    "# next g(r) depression is at 0.525nm and after that 0.8nm -- there are small peaks in between these two\n",
    "real_cutoff=0.3\n",
    "trajs = []\n",
    "# for each cation\n",
    "for i,traj in enumerate(Y):\n",
    "    print(\"Working on traj {}\".format(i))\n",
    "    #frames = np.split(traj, traj.shape[0])\n",
    "    frames_ana = np.any(traj[:,:,:]<real_cutoff, axis=-1)\n",
    "    trajs.append(frames_ana)\n",
    "        "
   ]
  },
  {
   "cell_type": "markdown",
   "metadata": {},
   "source": [
    "Convert individual trajcetories \"trajs\" into one large array back again:"
   ]
  },
  {
   "cell_type": "code",
   "execution_count": 15,
   "metadata": {
    "collapsed": false
   },
   "outputs": [],
   "source": [
    "contacts = np.stack(trajs)"
   ]
  },
  {
   "cell_type": "code",
   "execution_count": 16,
   "metadata": {
    "collapsed": false
   },
   "outputs": [
    {
     "name": "stdout",
     "output_type": "stream",
     "text": [
      "tot no. contacts -- no. bound cations -- no. lipids bound to cation(s) -- stoichiometry\n",
      "---------------------------------------------------------------------------------------\n",
      " 61  34  57   1.7\n",
      " 54  32  51   1.6\n",
      " 51  30  48   1.6\n",
      " 55  32  54   1.7\n",
      " 65  35  62   1.8\n",
      " 56  31  55   1.8\n",
      " 54  31  53   1.7\n",
      " 49  30  48   1.6\n",
      " 49  31  47   1.5\n",
      " 47  31  45   1.5\n"
     ]
    }
   ],
   "source": [
    "print(\"tot no. contacts -- no. bound cations -- no. lipids bound to cation(s) -- stoichiometry\")\n",
    "print(\"---------------------------------------------------------------------------------------\")\n",
    "for i in range(1,1000,100):\n",
    "    n_bound_cations = contacts[:,i,:].any(axis=-1).sum()\n",
    "    n_bound_lipids  = contacts[:,i,:].any(axis=0).sum()\n",
    "    stoichiometry = 1.0*n_bound_lipids/n_bound_cations\n",
    "    print(\"{:3d} {:3d} {:3d} {:5.1f}\".format(\n",
    "            contacts[:,i,:].sum(), \n",
    "            n_bound_cations, \n",
    "            n_bound_lipids,\n",
    "            stoichiometry\n",
    "          ))"
   ]
  },
  {
   "cell_type": "code",
   "execution_count": 17,
   "metadata": {
    "collapsed": false
   },
   "outputs": [],
   "source": [
    "stoichiometries = np.empty(shape=(contacts.shape[1]))\n",
    "for i in range(contacts.shape[1]):\n",
    "    n_bound_cations = contacts[:,i,:].any(axis=-1).sum()\n",
    "    n_bound_lipids  = contacts[:,i,:].any(axis=0).sum()\n",
    "    stoichiometries[i] = 1.0*n_bound_lipids/n_bound_cations\n"
   ]
  },
  {
   "cell_type": "code",
   "execution_count": 18,
   "metadata": {
    "collapsed": false
   },
   "outputs": [
    {
     "name": "stdout",
     "output_type": "stream",
     "text": [
      "Average stoichiometry of cation-lipid binding =  1.77\n"
     ]
    }
   ],
   "source": [
    "print(\"Average stoichiometry of cation-lipid binding = {:5.2f}\".format(stoichiometries.mean()))"
   ]
  },
  {
   "cell_type": "code",
   "execution_count": 19,
   "metadata": {
    "collapsed": false
   },
   "outputs": [],
   "source": [
    "n_bound_cations_per_lipid = np.empty(shape=(contacts.shape[1], contacts.shape[2]), dtype=int)  # per lipid\n",
    "n_bound_lipids_per_cation = np.empty(shape=(contacts.shape[1], contacts.shape[0]), dtype=int)  # per cation\n",
    "for i in range(contacts.shape[1]):\n",
    "    for ica in range(contacts.shape[0]):\n",
    "        n_bound_lipids_per_cation[i,ica]  = contacts[ica,i,:].sum()\n",
    "    for ilip in range(contacts.shape[2]):\n",
    "        n_bound_cations_per_lipid[i,ilip] = contacts[:,i,ilip].sum()"
   ]
  },
  {
   "cell_type": "markdown",
   "metadata": {},
   "source": [
    "Histogram of no. of bound cations per lipid"
   ]
  },
  {
   "cell_type": "code",
   "execution_count": 20,
   "metadata": {
    "collapsed": false
   },
   "outputs": [
    {
     "data": {
      "image/png": "[encoded data removed]",
      "text/plain": [
       "<matplotlib.figure.Figure at 0x7f35d535ac50>"
      ]
     },
     "metadata": {},
     "output_type": "display_data"
    }
   ],
   "source": [
    "hist_cat_per_lip = np.histogram(n_bound_cations_per_lipid, bins=(0,1,2,3,4))\n",
    "plt.bar(hist_cat_per_lip[1][:-1]-0.35, 100*hist_cat_per_lip[0]/n_bound_cations_per_lipid.size, width=0.7)#, hist_cat_per_lip[0])\n",
    "#np.histogram(n_bound_lipids_per_cation, bins=(0,1,2,3,4,5))\n",
    "plt.xlim([1-0.5,3-0.5])\n",
    "plt.xticks([1,2])\n",
    "plt.xlabel(\"number of bound cations per lipid\")\n",
    "plt.ylabel(\"probability in %\")\n",
    "plt.savefig(\"number_bound_cat_p_lipid_Ecc-lipids.eps\")"
   ]
  },
  {
   "cell_type": "markdown",
   "metadata": {},
   "source": [
    "Histogram of no. of bound lipids per cation"
   ]
  },
  {
   "cell_type": "code",
   "execution_count": 21,
   "metadata": {
    "collapsed": false
   },
   "outputs": [],
   "source": [
    "# average number of cations, no double counting when a lipid binds 2 cations\n",
    "n_bound_cations_avg = np.extract(n_bound_cations_per_lipid, n_bound_cations_per_lipid>0).shape[0]*1.0/n_bound_cations_per_lipid.shape[0]"
   ]
  },
  {
   "cell_type": "code",
   "execution_count": 22,
   "metadata": {
    "collapsed": false
   },
   "outputs": [
    {
     "data": {
      "image/png": "[encoded data removed]",
      "text/plain": [
       "<matplotlib.figure.Figure at 0x7f35ccceb710>"
      ]
     },
     "metadata": {},
     "output_type": "display_data"
    }
   ],
   "source": [
    "hist_lip_per_cat = np.histogram(n_bound_lipids_per_cation, bins=(0,1,2,3,4))\n",
    "plt.bar(hist_lip_per_cat[1][:-1]-0.35, 100*hist_lip_per_cat[0]/n_bound_lipids_per_cation.size, width=0.7)#, hist_cat_per_lip[0])\n",
    "#np.histogram(n_bound_lipids_per_cation, bins=(0,1,2,3,4,5))\n",
    "plt.xlim([1-0.5,4-0.5])\n",
    "plt.xticks([1,2,3])\n",
    "plt.xlabel(\"number of bound lipids per cation\")\n",
    "plt.ylabel(\"probability in %\")\n",
    "plt.ylim([0,20])\n",
    "plt.savefig(\"number_bound_lipids_p_cation_Ecc-lipids.eps\")"
   ]
  },
  {
   "cell_type": "code",
   "execution_count": 23,
   "metadata": {
    "collapsed": false
   },
   "outputs": [
    {
     "name": "stdout",
     "output_type": "stream",
     "text": [
      "Average number of bound cations =  59.8\n"
     ]
    }
   ],
   "source": [
    "print(\"Average number of bound cations = {:5.1f}\".format(n_bound_cations_avg))"
   ]
  },
  {
   "cell_type": "markdown",
   "metadata": {
    "collapsed": true
   },
   "source": [
    "Now, let's get an estimate of a mean residence time:\n",
    "frame time step is 20 ps = 0.02 ns"
   ]
  },
  {
   "cell_type": "code",
   "execution_count": 25,
   "metadata": {
    "collapsed": false
   },
   "outputs": [
    {
     "data": {
      "text/plain": [
       "(10001, 110)"
      ]
     },
     "execution_count": 25,
     "metadata": {},
     "output_type": "execute_result"
    }
   ],
   "source": [
    "n_bound_lipids_per_cation.shape"
   ]
  },
  {
   "cell_type": "code",
   "execution_count": 37,
   "metadata": {
    "collapsed": false
   },
   "outputs": [],
   "source": [
    "#icat = 0\n",
    "bound_times = []\n",
    "time_bound = 0\n",
    "for icat in range(n_bound_cations_per_lipid.shape[1]):\n",
    "    cat_traj_temp = n_bound_cations_per_lipid[:,icat]\n",
    "    for i in range(1, cat_traj_temp.shape[0]):\n",
    "        if cat_traj_temp[i]>=1:\n",
    "            if cat_traj_temp[i-1]>=1:\n",
    "                time_bound += 1\n",
    "            else:\n",
    "                time_bound = 1\n",
    "        else:\n",
    "            if cat_traj_temp[i-1]>=1:\n",
    "                bound_times.append(time_bound)\n",
    "                time_bound = 0\n",
    "\n",
    "    # last \"unfinished\" residence time that is still bound at the end of the simulation            \n",
    "    bound_times.append(time_bound)"
   ]
  },
  {
   "cell_type": "code",
   "execution_count": 44,
   "metadata": {
    "collapsed": false
   },
   "outputs": [
    {
     "data": {
      "text/plain": [
       "(array([ 607.,  143.,   97., ...,    0.,    0.,    1.]),\n",
       " array([  0.00000000e+00,   5.01583333e+00,   1.00316667e+01, ...,\n",
       "          6.00896833e+03,   6.01398417e+03,   6.01900000e+03]),\n",
       " <a list of 1200 Patch objects>)"
      ]
     },
     "execution_count": 44,
     "metadata": {},
     "output_type": "execute_result"
    },
    {
     "data": {
      "image/png": "[encoded data removed]",
      "text/plain": [
       "<matplotlib.figure.Figure at 0x7f35cc561350>"
      ]
     },
     "metadata": {},
     "output_type": "display_data"
    }
   ],
   "source": [
    "plt.hist(bound_times, bins=1200)"
   ]
  },
  {
   "cell_type": "code",
   "execution_count": 127,
   "metadata": {
    "collapsed": false
   },
   "outputs": [
    {
     "name": "stdout",
     "output_type": "stream",
     "text": [
      "median: 59.0\n"
     ]
    }
   ],
   "source": [
    "bound_times.sort()\n",
    "print(\"median: {}\".format(np.median(bound_times)))\n",
    "time_total = np.sum(bound_times)"
   ]
  },
  {
   "cell_type": "code",
   "execution_count": 139,
   "metadata": {
    "collapsed": false
   },
   "outputs": [
    {
     "name": "stdout",
     "output_type": "stream",
     "text": [
      "[2668, 2681, 2812, 2924, 3007, 3204, 3284, 3319, 3336, 3432, 3930, 4121, 4188, 4200, 4393, 4443, 6019]\n",
      "0.90% of bound residence time is smaller that  53 ns, \n",
      "The longest is 120 ns\n"
     ]
    }
   ],
   "source": [
    "cut = -17\n",
    "print(bound_times[cut:])\n",
    "fraction_events = 1.0*np.sum(bound_times[:cut])/time_total\n",
    "print(\"{:3.2f}% of bound residence time is smaller that {:3.0f} ns, \\nThe longest is {:3.0f} ns\".format(fraction_events, bound_times[cut]*0.02,  bound_times[-1]*0.02))\n"
   ]
  },
  {
   "cell_type": "code",
   "execution_count": 113,
   "metadata": {
    "collapsed": false
   },
   "outputs": [],
   "source": [
    "hist = np.histogram(bound_times, bins=6000)"
   ]
  },
  {
   "cell_type": "code",
   "execution_count": 114,
   "metadata": {
    "collapsed": false
   },
   "outputs": [
    {
     "name": "stdout",
     "output_type": "stream",
     "text": [
      "352.260234425 0.964792591641\n"
     ]
    }
   ],
   "source": [
    "import scipy\n",
    "def f(x, a=1.0, tau=1.0):\n",
    "    return a*np.exp(-x/tau)\n",
    "opt_par = scipy.optimize.curve_fit(f, hist[1][:-1], hist[0])\n",
    "a   = opt_par[0][0]\n",
    "tau = opt_par[0][1]\n",
    "print(a, tau)"
   ]
  },
  {
   "cell_type": "code",
   "execution_count": 115,
   "metadata": {
    "collapsed": false
   },
   "outputs": [
    {
     "data": {
      "text/plain": [
       "[<matplotlib.lines.Line2D at 0x7f35c8ad7190>]"
      ]
     },
     "execution_count": 115,
     "metadata": {},
     "output_type": "execute_result"
    },
    {
     "data": {
      "image/png": "[encoded data removed]",
      "text/plain": [
       "<matplotlib.figure.Figure at 0x7f35c92be310>"
      ]
     },
     "metadata": {},
     "output_type": "display_data"
    }
   ],
   "source": [
    "xdata = hist[1][:-1]\n",
    "plt.plot(hist[0], xdata)\n",
    "plt.plot( [f(x, a=a, tau=tau) for x in xdata], xdata )\n",
    "#plt.xlim([0,1500])\n",
    "#plt.ylim([-1,10])"
   ]
  },
  {
   "cell_type": "code",
   "execution_count": 88,
   "metadata": {
    "collapsed": false
   },
   "outputs": [
    {
     "data": {
      "text/plain": [
       "(array([ 71, 291,  80, ...,   0,   0,   0]),\n",
       " array([   0,    1,    2, ..., 5997, 5998, 5999]))"
      ]
     },
     "execution_count": 88,
     "metadata": {},
     "output_type": "execute_result"
    }
   ],
   "source": [
    "hist"
   ]
  },
  {
   "cell_type": "code",
   "execution_count": 102,
   "metadata": {
    "collapsed": false
   },
   "outputs": [
    {
     "data": {
      "text/plain": [
       "array([  0.00000000e+00,   5.01583333e+00,   1.00316667e+01, ...,\n",
       "         6.00395250e+03,   6.00896833e+03,   6.01398417e+03])"
      ]
     },
     "execution_count": 102,
     "metadata": {},
     "output_type": "execute_result"
    }
   ],
   "source": [
    "xdata"
   ]
  }
 ],
 "metadata": {
  "anaconda-cloud": {},
  "kernelspec": {
   "display_name": "Python 2",
   "language": "python",
   "name": "python2"
  },
  "language_info": {
   "codemirror_mode": {
    "name": "ipython",
    "version": 2
   },
   "file_extension": ".py",
   "mimetype": "text/x-python",
   "name": "python",
   "nbconvert_exporter": "python",
   "pygments_lexer": "ipython2",
   "version": "2.7.13"
  }
 },
 "nbformat": 4,
 "nbformat_minor": 0
}
