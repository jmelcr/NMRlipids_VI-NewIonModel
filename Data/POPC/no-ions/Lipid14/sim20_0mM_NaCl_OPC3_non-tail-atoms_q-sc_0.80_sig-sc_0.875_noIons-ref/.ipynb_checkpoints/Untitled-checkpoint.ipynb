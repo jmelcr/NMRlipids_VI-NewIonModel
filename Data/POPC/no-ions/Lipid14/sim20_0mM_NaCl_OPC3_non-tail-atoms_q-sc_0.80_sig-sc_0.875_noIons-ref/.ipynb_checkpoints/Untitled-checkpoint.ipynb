{
 "cells": [
  {
   "cell_type": "code",
   "execution_count": 33,
   "metadata": {
    "collapsed": true
   },
   "outputs": [],
   "source": [
    "#import numpy as np\n",
    "import MDAnalysis as mda\n",
    "#import pmx, pmx.forcefield\n"
   ]
  },
  {
   "cell_type": "code",
   "execution_count": 34,
   "metadata": {
    "collapsed": true
   },
   "outputs": [],
   "source": [
    "# read-in the configuration\n",
    "conf = mda.Universe(\"confout.gro\")"
   ]
  },
  {
   "cell_type": "code",
   "execution_count": 35,
   "metadata": {
    "collapsed": false
   },
   "outputs": [],
   "source": [
    "# get unit cell dimensions\n",
    "vec = conf.trajectory.ts.dimensions\n",
    "a = vec[0]\n",
    "b = vec[1]\n",
    "c = vec[2]"
   ]
  },
  {
   "cell_type": "code",
   "execution_count": 36,
   "metadata": {
    "collapsed": false
   },
   "outputs": [],
   "source": [
    "# translate the system and save it in 4 files\n",
    "for i,t in enumerate([(a, 0.0, 0.0), (0.0, b, 0.0), (-a ,0.0, 0.0), (0.0, -b, 0.0)]):\n",
    "    conf.atoms.translate(t)\n",
    "    conf.SYSTEM.write(\"confout_{}.pdb\".format(i))"
   ]
  },
  {
   "cell_type": "code",
   "execution_count": null,
   "metadata": {
    "collapsed": true
   },
   "outputs": [],
   "source": []
  }
 ],
 "metadata": {
  "kernelspec": {
   "display_name": "Python 2",
   "language": "python",
   "name": "python2"
  },
  "language_info": {
   "codemirror_mode": {
    "name": "ipython",
    "version": 2
   },
   "file_extension": ".py",
   "mimetype": "text/x-python",
   "name": "python",
   "nbconvert_exporter": "python",
   "pygments_lexer": "ipython2",
   "version": "2.7.13"
  }
 },
 "nbformat": 4,
 "nbformat_minor": 0
}
